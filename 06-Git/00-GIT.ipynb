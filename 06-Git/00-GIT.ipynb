{
 "cells": [
  {
   "cell_type": "markdown",
   "id": "e88ad587",
   "metadata": {},
   "source": [
    "# GIT (Version Controll system)"
   ]
  },
  {
   "cell_type": "markdown",
   "id": "e9cea024",
   "metadata": {},
   "source": [
    "### config\n",
    "```\n",
    "    - --system : for all user and all repo\n",
    "    - --global : for current user and all repo\n",
    "    - withod flag just for this repo\n",
    "    \n",
    "    - git config --global user.name \"masoud nazarpoor\"\n",
    "    - git config --global user.email \"m74asoud@gmail.com\"\n",
    "    - git config --global core.editor \"code --wait\" // open editor for edit global setting\n",
    "    - git config --global core.autocrlf input // input for mac/linux -- true for windows\n",
    "    - git config --global init.defaultBranch main\n",
    "```"
   ]
  },
  {
   "cell_type": "markdown",
   "id": "afff550a",
   "metadata": {},
   "source": []
  }
 ],
 "metadata": {
  "kernelspec": {
   "display_name": "Python 3 (ipykernel)",
   "language": "python",
   "name": "python3"
  },
  "language_info": {
   "codemirror_mode": {
    "name": "ipython",
    "version": 3
   },
   "file_extension": ".py",
   "mimetype": "text/x-python",
   "name": "python",
   "nbconvert_exporter": "python",
   "pygments_lexer": "ipython3",
   "version": "3.9.13"
  }
 },
 "nbformat": 4,
 "nbformat_minor": 5
}
