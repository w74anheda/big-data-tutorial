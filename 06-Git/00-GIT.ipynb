{
 "cells": [
  {
   "cell_type": "markdown",
   "id": "e88ad587",
   "metadata": {},
   "source": [
    "# GIT (Version Controll system)\n",
    "```\n",
    "- git shortlog (show all person and commited count)\n",
    "- git blame filename (find writer to  each line of code)\n",
    "```"
   ]
  },
  {
   "cell_type": "markdown",
   "id": "e9cea024",
   "metadata": {},
   "source": [
    "### config\n",
    "```\n",
    "    - --system : for all user and all repo\n",
    "    - --global : for current user and all repo\n",
    "    - withod flag just for this repo\n",
    "    \n",
    "    - git config --global user.name \"masoud nazarpoor\"\n",
    "    - git config --global user.email \"m74asoud@gmail.com\"\n",
    "    - git config --global core.editor \"code --wait\" // open editor for edit global setting\n",
    "    - git config --global core.autocrlf input // input for mac/linux -- true for windows\n",
    "    - git config --global init.defaultBranch main\n",
    "    - git config --global diff.tool vscode\n",
    "    - git config --global difftool.vscode.cmd \"code --wait --diff $LOCAL $REMOTE\"\n",
    "    - git config --global -e \n",
    "    - git difftool empty or --staged\n",
    "```"
   ]
  },
  {
   "cell_type": "markdown",
   "id": "afff550a",
   "metadata": {},
   "source": [
    "### workflow\n",
    "\n",
    "<img src='img/GitWorkflow-4.png'/>"
   ]
  },
  {
   "cell_type": "markdown",
   "id": "2d486be9",
   "metadata": {},
   "source": [
    "## files\n",
    "```\n",
    " - git ls-files\n",
    " - git rm --cached filename\n",
    " - git rm --cached -h dirname\n",
    "```"
   ]
  },
  {
   "cell_type": "markdown",
   "id": "a1e8d57c",
   "metadata": {},
   "source": [
    "## log\n",
    "```\n",
    " - git log --oneline --reverse\n",
    "```"
   ]
  },
  {
   "cell_type": "markdown",
   "id": "e4874a4e",
   "metadata": {},
   "source": [
    "## commit\n",
    "```\n",
    " - git show commitID\n",
    " - git show HEAD~2\n",
    " - git show HEAD~2:filename\n",
    " - git diff HEAD HEAD~2\n",
    " - git checkout commitID\n",
    " - git log --oneline --all\n",
    " - git reset --hard(discard local change)/mixed(unstaged files)/soft(remove commit) HEAD~1..HEAD\n",
    " \n",
    " - git revert --no-commit HEAD~3..\n",
    " \n",
    " \n",
    " recover commit\n",
    " - git reflog\n",
    " - git reset --hard HEAD@{1}\n",
    " \n",
    " reorder commit\n",
    " - git rebase -i commitID\n",
    "```"
   ]
  },
  {
   "cell_type": "markdown",
   "id": "41e7970e",
   "metadata": {},
   "source": [
    "## unstage\n",
    "```\n",
    " - git restore --staged filename\n",
    "```"
   ]
  },
  {
   "cell_type": "markdown",
   "id": "d67a6211",
   "metadata": {},
   "source": [
    "## Discarding local change and unstaged files\n",
    "```\n",
    " - git restore filename && git clean -fd\n",
    "```"
   ]
  },
  {
   "cell_type": "markdown",
   "id": "cd7e6bf8",
   "metadata": {},
   "source": [
    "## restore a file to last version (even deleted file)\n",
    "```\n",
    " - git restore --source=HEAD~1 filename\n",
    "```"
   ]
  },
  {
   "cell_type": "markdown",
   "id": "2454d7ce",
   "metadata": {},
   "source": [
    "## restore deleted file\n",
    "```\n",
    " - git checkout commitIDFileExisted filename\n",
    "\n",
    "```"
   ]
  },
  {
   "cell_type": "markdown",
   "id": "2a55b422",
   "metadata": {},
   "source": [
    "## ALias\n",
    "```\n",
    " - git config --global alias.commandName \"command\"\n",
    "\n",
    "```"
   ]
  },
  {
   "cell_type": "markdown",
   "id": "b9acd01b",
   "metadata": {},
   "source": [
    "## Find Bug (bisect)\n",
    "```\n",
    " - git bisect start\n",
    " - git bisect bad\n",
    " - git bisect good 293c52562\n",
    " - git log --oneline --all\n",
    " - git bisect good\n",
    " - git bisect bad\n",
    " - git bisect reset\n",
    "\n",
    "```"
   ]
  },
  {
   "cell_type": "markdown",
   "id": "4814f1f2",
   "metadata": {},
   "source": [
    "## Tag\n",
    "```\n",
    " - git tag v0.1 commitID\n",
    " - git tag -a v0.1 -m \"my version 1\"\n",
    " - git tag -n\n",
    " - git tag -d v0.1\n",
    "```"
   ]
  },
  {
   "cell_type": "markdown",
   "id": "13c33ca2",
   "metadata": {},
   "source": [
    "## Branch\n",
    "```\n",
    " - git branch -m oldname newname\n",
    " - git branch -d/D branchname (delete branch)\n",
    "```"
   ]
  },
  {
   "cell_type": "markdown",
   "id": "49ca5470",
   "metadata": {},
   "source": [
    "## Stash\n",
    "```\n",
    " - git stash push -m \"some message\"\n",
    " - git stash list\n",
    " - git stash show stashID\n",
    " - git stash apply stashID\n",
    " - git stash drop stashID (delete one)\n",
    " - git stash clear (delete all)\n",
    "```"
   ]
  },
  {
   "cell_type": "markdown",
   "id": "76d6f75d",
   "metadata": {},
   "source": [
    "### Fetch : get just new commit\n",
    "### Pull    : get new commit and merged"
   ]
  },
  {
   "cell_type": "markdown",
   "id": "d467fa4b",
   "metadata": {},
   "source": [
    "### Keep up to date Fork Repository \n",
    "    ```\n",
    "        - git remote -v\n",
    "        - git remote add base baseRepoUrl\n",
    "        - get pull from base and push to origin\n",
    "    ```"
   ]
  },
  {
   "cell_type": "code",
   "execution_count": null,
   "id": "303cf0dc",
   "metadata": {},
   "outputs": [],
   "source": []
  },
  {
   "cell_type": "code",
   "execution_count": null,
   "id": "7cbe83c1",
   "metadata": {},
   "outputs": [],
   "source": []
  },
  {
   "cell_type": "code",
   "execution_count": null,
   "id": "23dcaff4",
   "metadata": {},
   "outputs": [],
   "source": []
  }
 ],
 "metadata": {
  "kernelspec": {
   "display_name": "Python 3 (ipykernel)",
   "language": "python",
   "name": "python3"
  },
  "language_info": {
   "codemirror_mode": {
    "name": "ipython",
    "version": 3
   },
   "file_extension": ".py",
   "mimetype": "text/x-python",
   "name": "python",
   "nbconvert_exporter": "python",
   "pygments_lexer": "ipython3",
   "version": "3.9.13"
  }
 },
 "nbformat": 4,
 "nbformat_minor": 5
}
