{
 "cells": [
  {
   "cell_type": "markdown",
   "id": "9a985fec",
   "metadata": {},
   "source": [
    "\n",
    "<img src='../img/mongo/01.png'/>\n",
    "\n",
    "\n",
    "```\n",
    "    Basic:\n",
    "    \n",
    "     - shell: mongo -u root -p masoudn\n",
    "     - show dbs\n",
    "     - use todo (select collection)\n",
    "     \n",
    "     Read:\n",
    "      - db.task.find({}).pretty() // return curser\n",
    "      - db.passengers.find().pretty().toArray() // return all\n",
    "      - db.passengers.find().pretty().forEach( (data) => { printjson(data)} )\n",
    "      - db.task.find({ score : {$gt: 200} })\n",
    "      - db.task.find({ score : {$lt: 200} })\n",
    "      - db.passengers.find({}, { name:1 }) // select attr\n",
    "      - db.passengers.find({}, { _id: 0 }) // not show _id\n",
    "      - db.passengers.findOne({}, {_id:0}).name\n",
    "     \n",
    "     Delete:\n",
    "         - db.task.deleteOne({status:'PENDING'})\n",
    "         - db.task.deleteMany({})\n",
    "         \n",
    "     Update:\n",
    "         - db.task.updateOne( {title: \"first task\"} ,{ $set: {status:\"PENDING\"} } )\n",
    "         - db.task.updateMany( {}, { $set: {created_at: 1235646548} })\n",
    "         - db.task.replaceOne( {}, {new_score: 400} )\n",
    "         \n",
    "         \n",
    "     Insert:\n",
    "      - db.task.insertOne({title:'first task', status:'PENDING'})\n",
    "      - db.task.insertMany([\n",
    "          {\"title\" : \"first task\", \"status\" : \"PENDING\", \"created_at\" : 1235646548},\n",
    "          {\"title\" : \"second task\", \"status\" : \"DONE\", \"created_at\" : 1235646548}\n",
    "          ])\n",
    "          \n",
    "          \n",
    "          \n",
    "     \n",
    "```\n",
    "\n",
    "\n",
    "\n",
    "\n",
    "\n",
    "\n",
    "\n",
    "\n",
    "\n",
    "\n",
    "\n",
    "\n",
    "\n",
    "\n"
   ]
  },
  {
   "cell_type": "code",
   "execution_count": null,
   "id": "bd73ac87",
   "metadata": {},
   "outputs": [],
   "source": []
  },
  {
   "cell_type": "code",
   "execution_count": null,
   "id": "2a5e1682",
   "metadata": {},
   "outputs": [],
   "source": []
  },
  {
   "cell_type": "code",
   "execution_count": null,
   "id": "f3b40a10",
   "metadata": {},
   "outputs": [],
   "source": []
  }
 ],
 "metadata": {
  "kernelspec": {
   "display_name": "Python 3 (ipykernel)",
   "language": "python",
   "name": "python3"
  },
  "language_info": {
   "codemirror_mode": {
    "name": "ipython",
    "version": 3
   },
   "file_extension": ".py",
   "mimetype": "text/x-python",
   "name": "python",
   "nbconvert_exporter": "python",
   "pygments_lexer": "ipython3",
   "version": "3.9.13"
  }
 },
 "nbformat": 4,
 "nbformat_minor": 5
}
