{
 "cells": [
  {
   "cell_type": "markdown",
   "id": "9a985fec",
   "metadata": {},
   "source": [
    "\n",
    "<img src='../img/mongo/01.png'/>\n",
    "\n",
    "\n",
    "```\n",
    " - shell: mongo -u root -p masoudn\n",
    "     - show dbs\n",
    "     - use todo (select collection)\n",
    "     - db.task.insertOne({title:'first task', status:'PENDING'})\n",
    "     - db.task.find({}).pretty() // return all\n",
    "     \n",
    "     \n",
    "     \n",
    "```\n",
    "\n",
    "\n",
    "\n",
    "\n",
    "\n",
    "\n",
    "\n",
    "\n",
    "\n",
    "\n",
    "\n",
    "\n",
    "\n",
    "\n"
   ]
  },
  {
   "cell_type": "code",
   "execution_count": null,
   "id": "bd73ac87",
   "metadata": {},
   "outputs": [],
   "source": []
  },
  {
   "cell_type": "code",
   "execution_count": null,
   "id": "2a5e1682",
   "metadata": {},
   "outputs": [],
   "source": []
  },
  {
   "cell_type": "code",
   "execution_count": null,
   "id": "f3b40a10",
   "metadata": {},
   "outputs": [],
   "source": []
  }
 ],
 "metadata": {
  "kernelspec": {
   "display_name": "Python 3 (ipykernel)",
   "language": "python",
   "name": "python3"
  },
  "language_info": {
   "codemirror_mode": {
    "name": "ipython",
    "version": 3
   },
   "file_extension": ".py",
   "mimetype": "text/x-python",
   "name": "python",
   "nbconvert_exporter": "python",
   "pygments_lexer": "ipython3",
   "version": "3.9.13"
  }
 },
 "nbformat": 4,
 "nbformat_minor": 5
}
