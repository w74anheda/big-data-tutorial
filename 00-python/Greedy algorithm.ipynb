{
 "cells": [
  {
   "cell_type": "markdown",
   "id": "aa4939a1",
   "metadata": {},
   "source": [
    "# <font color='brown'>Greedy algorithm</font>\n",
    "[https://fa.wikipedia.org/wiki/%D8%A7%D9%84%DA%AF%D9%88%D8%B1%DB%8C%D8%AA%D9%85_%D8%AD%D8%B1%DB%8C%D8%B5%D8%A7%D9%86%D9%87]"
   ]
  },
  {
   "cell_type": "code",
   "execution_count": 20,
   "id": "f2360234",
   "metadata": {},
   "outputs": [
    {
     "name": "stdout",
     "output_type": "stream",
     "text": [
      "154\n",
      "[10, 2, -9, 50, 100, -1, 2]\n"
     ]
    }
   ],
   "source": [
    "nums = [5,3,-70,10,2,-9,50,100,-1,2]\n",
    "\n",
    "maxSum = 0      # 5 - 8 -  8  - \n",
    "Sum = 0         # 5 - 8 - -62 - 10  \n",
    "interval = 0    # 0 - 0 -  0\n",
    "start = None    # 0 - 0 -  0\n",
    "end = None      # 0 - 1 -  1\n",
    "\n",
    "for i,vi in enumerate(nums):\n",
    "    if Sum>0:\n",
    "        Sum+=vi\n",
    "    else:\n",
    "        Sum = vi\n",
    "        interval = i\n",
    "\n",
    "    if Sum > maxSum :\n",
    "        maxSum = Sum\n",
    "        start = interval\n",
    "        end = i\n",
    "        \n",
    "        \n",
    "print(maxSum)\n",
    "print(nums[start:end+1])\n"
   ]
  },
  {
   "cell_type": "code",
   "execution_count": null,
   "id": "98a7a375",
   "metadata": {},
   "outputs": [],
   "source": []
  },
  {
   "cell_type": "code",
   "execution_count": null,
   "id": "e8bf6cfa",
   "metadata": {},
   "outputs": [],
   "source": []
  },
  {
   "cell_type": "code",
   "execution_count": null,
   "id": "a6e0e923",
   "metadata": {},
   "outputs": [],
   "source": []
  },
  {
   "cell_type": "code",
   "execution_count": null,
   "id": "dcc625ac",
   "metadata": {},
   "outputs": [],
   "source": []
  },
  {
   "cell_type": "code",
   "execution_count": null,
   "id": "fb837dab",
   "metadata": {},
   "outputs": [],
   "source": []
  }
 ],
 "metadata": {
  "kernelspec": {
   "display_name": "Python 3 (ipykernel)",
   "language": "python",
   "name": "python3"
  },
  "language_info": {
   "codemirror_mode": {
    "name": "ipython",
    "version": 3
   },
   "file_extension": ".py",
   "mimetype": "text/x-python",
   "name": "python",
   "nbconvert_exporter": "python",
   "pygments_lexer": "ipython3",
   "version": "3.9.12"
  }
 },
 "nbformat": 4,
 "nbformat_minor": 5
}
