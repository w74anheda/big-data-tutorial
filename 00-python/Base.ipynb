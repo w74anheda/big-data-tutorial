{
 "cells": [
  {
   "cell_type": "code",
   "execution_count": 1,
   "id": "0ff8444e",
   "metadata": {},
   "outputs": [],
   "source": [
    "x = 5.5e-10\n",
    "array = [1,2,3,4,5]\n",
    "_list = [1,2.5,True,'str',[]]"
   ]
  },
  {
   "cell_type": "markdown",
   "id": "ea1fede0",
   "metadata": {},
   "source": [
    "# <font color='brown'>Doc Bloc</font>"
   ]
  },
  {
   "cell_type": "code",
   "execution_count": 8,
   "id": "584a6f47",
   "metadata": {
    "scrolled": true
   },
   "outputs": [
    {
     "name": "stdout",
     "output_type": "stream",
     "text": [
      "\n",
      "    args:\n",
      "        no args\n",
      "    return:\n",
      "        no return\n",
      "    \n"
     ]
    }
   ],
   "source": [
    "def myFunc():\n",
    "    \"\"\"\n",
    "    args:\n",
    "        no args\n",
    "    return:\n",
    "        no return\n",
    "    \"\"\"\n",
    "print(myFunc.__doc__)"
   ]
  },
  {
   "cell_type": "markdown",
   "id": "8f7493f7",
   "metadata": {},
   "source": [
    "# ---------------------------------------------------------"
   ]
  },
  {
   "cell_type": "code",
   "execution_count": null,
   "id": "b433be39",
   "metadata": {},
   "outputs": [],
   "source": []
  },
  {
   "cell_type": "markdown",
   "id": "9b7a1a1a",
   "metadata": {},
   "source": [
    "# <font color='brown'>Tuple</font>\n",
    "<ul>\n",
    "        <li>Immutable</li>\n",
    "        <li>Allow Duplicates</li>\n",
    "        <li>Create Tuple With One Item : (\"apple\",) </li>\n",
    "        <li>Tuple items can be of any data type</li>\n",
    "        <li>Ordered : When we say that tuples are ordered, it means that the items have a defined order, and that order will not change.</li>\n",
    "    </ul>\n",
    "    \n",
    "<code>\n",
    "admins = ('mostafa','masoud',10)\n",
    "teachers = ('reza',)\n",
    "</code>"
   ]
  },
  {
   "cell_type": "markdown",
   "id": "3221ede2",
   "metadata": {},
   "source": [
    "# ---------------------------------------------------------"
   ]
  },
  {
   "cell_type": "markdown",
   "id": "b46e9f58",
   "metadata": {},
   "source": [
    "# <font color='brown'>Python Sets</font>\n",
    "<ul>\n",
    "        <li>mutable</li>\n",
    "        <li>Duplicates Not Allowed</li>\n",
    "        <li>Unordered</li>\n",
    "    </ul>\n",
    "    \n",
    "<code>\n",
    "thisset =  {\"abc\", 34, True, 40, \"male\"}\n",
    "# {34, 40, True, 'abc', 'male'}\n",
    "</code>"
   ]
  },
  {
   "cell_type": "markdown",
   "id": "6cf243f4",
   "metadata": {},
   "source": [
    "# ---------------------------------------------------------"
   ]
  },
  {
   "cell_type": "markdown",
   "id": "d59357f6",
   "metadata": {},
   "source": [
    "# <font color='brown'>Map</font>"
   ]
  },
  {
   "cell_type": "code",
   "execution_count": 10,
   "id": "7073bd28",
   "metadata": {},
   "outputs": [
    {
     "data": {
      "text/plain": [
       "[2, 4, 6]"
      ]
     },
     "execution_count": 10,
     "metadata": {},
     "output_type": "execute_result"
    }
   ],
   "source": [
    "maped_list = map(lambda x : x*2,[1,2,3])\n",
    "list(maped_list)"
   ]
  },
  {
   "cell_type": "code",
   "execution_count": 11,
   "id": "2fb45dc7",
   "metadata": {},
   "outputs": [
    {
     "data": {
      "text/plain": [
       "[4, 8, 12]"
      ]
     },
     "execution_count": 11,
     "metadata": {},
     "output_type": "execute_result"
    }
   ],
   "source": [
    "def mul(x):\n",
    "    return x*4\n",
    "maped_list2 = map(mul,[1,2,3])\n",
    "list(maped_list2)"
   ]
  },
  {
   "cell_type": "markdown",
   "id": "b456f974",
   "metadata": {},
   "source": [
    "# ---------------------------------------------------------"
   ]
  },
  {
   "cell_type": "code",
   "execution_count": 30,
   "id": "46e3ece7",
   "metadata": {},
   "outputs": [
    {
     "data": {
      "text/plain": [
       "654"
      ]
     },
     "execution_count": 30,
     "metadata": {},
     "output_type": "execute_result"
    }
   ],
   "source": [
    "def suma(a:int,b:int) -> str:\n",
    "    return 654\n",
    "\n",
    "suma(2,'5')"
   ]
  },
  {
   "cell_type": "code",
   "execution_count": 43,
   "id": "8008ec73",
   "metadata": {},
   "outputs": [
    {
     "name": "stdout",
     "output_type": "stream",
     "text": [
      "None\n"
     ]
    }
   ],
   "source": [
    "def suma():\n",
    "     pass\n",
    "\n",
    "print(suma())"
   ]
  },
  {
   "cell_type": "code",
   "execution_count": 60,
   "id": "003f96e9",
   "metadata": {},
   "outputs": [
    {
     "name": "stdout",
     "output_type": "stream",
     "text": [
      "1\n",
      "2\n",
      "3\n"
     ]
    }
   ],
   "source": [
    "def generator():\n",
    "    for x in [1,2,3]:\n",
    "        yield x\n",
    "\n",
    "        \n",
    "        \n",
    "\n",
    "for x in generator():\n",
    "    print(x)"
   ]
  },
  {
   "cell_type": "code",
   "execution_count": 59,
   "id": "35af8ab0",
   "metadata": {},
   "outputs": [
    {
     "data": {
      "text/plain": [
       "1"
      ]
     },
     "execution_count": 59,
     "metadata": {},
     "output_type": "execute_result"
    }
   ],
   "source": [
    "items = generator()\n",
    "next(items)"
   ]
  },
  {
   "cell_type": "code",
   "execution_count": null,
   "id": "6937ec55",
   "metadata": {},
   "outputs": [],
   "source": []
  },
  {
   "cell_type": "code",
   "execution_count": 61,
   "id": "128cf3da",
   "metadata": {},
   "outputs": [
    {
     "data": {
      "text/plain": [
       "10"
      ]
     },
     "execution_count": 61,
     "metadata": {},
     "output_type": "execute_result"
    }
   ],
   "source": [
    "from functools import partial\n",
    "\n",
    "def func1(a,b,c,x):\n",
    "    return a*b*c+x\n",
    "\n",
    "func2 = partial(func1,1,2,3)\n",
    "func2(4)"
   ]
  },
  {
   "cell_type": "code",
   "execution_count": null,
   "id": "917f79a2",
   "metadata": {},
   "outputs": [],
   "source": []
  },
  {
   "cell_type": "code",
   "execution_count": null,
   "id": "5d857efa",
   "metadata": {},
   "outputs": [],
   "source": []
  },
  {
   "cell_type": "code",
   "execution_count": null,
   "id": "a78f5db9",
   "metadata": {},
   "outputs": [],
   "source": []
  },
  {
   "cell_type": "code",
   "execution_count": null,
   "id": "766d73c2",
   "metadata": {},
   "outputs": [],
   "source": []
  },
  {
   "cell_type": "code",
   "execution_count": null,
   "id": "8af599a7",
   "metadata": {},
   "outputs": [],
   "source": []
  },
  {
   "cell_type": "code",
   "execution_count": null,
   "id": "804025b7",
   "metadata": {},
   "outputs": [],
   "source": []
  },
  {
   "cell_type": "code",
   "execution_count": null,
   "id": "a6794fd1",
   "metadata": {},
   "outputs": [],
   "source": []
  }
 ],
 "metadata": {
  "kernelspec": {
   "display_name": "Python 3 (ipykernel)",
   "language": "python",
   "name": "python3"
  },
  "language_info": {
   "codemirror_mode": {
    "name": "ipython",
    "version": 3
   },
   "file_extension": ".py",
   "mimetype": "text/x-python",
   "name": "python",
   "nbconvert_exporter": "python",
   "pygments_lexer": "ipython3",
   "version": "3.9.12"
  }
 },
 "nbformat": 4,
 "nbformat_minor": 5
}
