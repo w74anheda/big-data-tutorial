{
 "cells": [
  {
   "cell_type": "markdown",
   "id": "2f00b766",
   "metadata": {},
   "source": [
    "# S-1\n",
    "<hr style=\"color:black,height:2px\"/><br/>\n",
    "\n",
    "<img src='../img/dataStructure/01-1.png'/>\n",
    "<img src='../img/dataStructure/01-2.png'/>\n",
    "<img src='../img/dataStructure/01-3.png'/>\n",
    "<img src='../img/dataStructure/01-4.png'/>\n",
    "<img src='../img/dataStructure/01-5.png'/>\n",
    "<img src='../img/dataStructure/01-6.png'/>\n",
    "<img src='../img/dataStructure/01-7.png'/>\n",
    "<img src='../img/dataStructure/01-8.png'/>\n",
    "<img src='../img/dataStructure/01-9.png'/>\n",
    "<img src='../img/dataStructure/01-10.png'/>"
   ]
  }
 ],
 "metadata": {
  "kernelspec": {
   "display_name": "Python 3 (ipykernel)",
   "language": "python",
   "name": "python3"
  },
  "language_info": {
   "codemirror_mode": {
    "name": "ipython",
    "version": 3
   },
   "file_extension": ".py",
   "mimetype": "text/x-python",
   "name": "python",
   "nbconvert_exporter": "python",
   "pygments_lexer": "ipython3",
   "version": "3.9.13"
  }
 },
 "nbformat": 4,
 "nbformat_minor": 5
}
