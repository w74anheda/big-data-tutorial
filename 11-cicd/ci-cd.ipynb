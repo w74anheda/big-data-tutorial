{
 "cells": [
  {
   "cell_type": "markdown",
   "id": "a2f09a50",
   "metadata": {},
   "source": [
    "<img src='../img/cicd-01.png'/>\n",
    "<img src='../img/cicd-02.png'/>"
   ]
  },
  {
   "cell_type": "markdown",
   "id": "65e294a5",
   "metadata": {},
   "source": [
    "### Plugins:\n",
    "    - blue ocean\n",
    "    - docker\n",
    "    - docker compose build step\n",
    "\n",
    "44:48"
   ]
  },
  {
   "cell_type": "code",
   "execution_count": null,
   "id": "ff255813",
   "metadata": {},
   "outputs": [],
   "source": []
  },
  {
   "cell_type": "code",
   "execution_count": null,
   "id": "2ad76e85",
   "metadata": {},
   "outputs": [],
   "source": []
  }
 ],
 "metadata": {
  "kernelspec": {
   "display_name": "Python 3 (ipykernel)",
   "language": "python",
   "name": "python3"
  },
  "language_info": {
   "codemirror_mode": {
    "name": "ipython",
    "version": 3
   },
   "file_extension": ".py",
   "mimetype": "text/x-python",
   "name": "python",
   "nbconvert_exporter": "python",
   "pygments_lexer": "ipython3",
   "version": "3.11.5"
  }
 },
 "nbformat": 4,
 "nbformat_minor": 5
}
