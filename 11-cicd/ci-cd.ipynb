{
 "cells": [
  {
   "cell_type": "markdown",
   "id": "a2f09a50",
   "metadata": {},
   "source": [
    "<img src='../img/cicd-01.png'/>\n",
    "<img src='../img/cicd-02.png'/>"
   ]
  },
  {
   "cell_type": "markdown",
   "id": "65e294a5",
   "metadata": {},
   "source": [
    " - access user to docker:\n",
    "     - sudo usermod -aG docker username\n",
    "     - sudo service username_service restart\n",
    "\n",
    "47:34\n",
    "\n",
    "\n",
    " - create ssh key:\n",
    "     - ssh-keygen : /home/wanheda/.ssh/ferdosi_key\n",
    "     - ls /home/wanheda/.ssh/ | grep ferdosi\n",
    "     - add public_key to server:   cat /home/wanheda/.ssh/ferdosi_key.pub ==> \n",
    "     - ssh connect from local  :   ssh -i /home/wanheda/.ssh/arvan_key ubuntu@188.121.98.252\n",
    "     - for gitlab:\n",
    "         - store ssh private key as file variable and push an enter after paste key\n",
    "         - ssh -o StrictHostKeyChecking=no -i $SSH_KEY_ARVAN ubuntu@$ARVAN_IP\n",
    "         - docker ps -aq | xargs docker stop\n",
    "         - add gitlab deploy ssh key into app server:\n",
    "             - eval \"$(ssh-agent -s)\"\n",
    "             - ssh-add /root/.ssh/privatekeyname\n",
    "         - Step 1: Added a file in ~/.ssh/config folder which looks like\n",
    "         [https://gist.github.com/nguyentamvinhlong/d3c9e15a687179a639704c21c5291f39]\n",
    "            Host gitlab.com\n",
    "                   User git\n",
    "                   Hostname gitlab.com\n",
    "                   IdentityFile ~/.ssh/id_rsa_gitlab\n",
    "                   TCPKeepAlive yes\n",
    "                   IdentitiesOnly yes\n"
   ]
  },
  {
   "cell_type": "code",
   "execution_count": null,
   "id": "ff255813",
   "metadata": {},
   "outputs": [],
   "source": []
  },
  {
   "cell_type": "code",
   "execution_count": null,
   "id": "2ad76e85",
   "metadata": {},
   "outputs": [],
   "source": []
  }
 ],
 "metadata": {
  "kernelspec": {
   "display_name": "Python 3 (ipykernel)",
   "language": "python",
   "name": "python3"
  },
  "language_info": {
   "codemirror_mode": {
    "name": "ipython",
    "version": 3
   },
   "file_extension": ".py",
   "mimetype": "text/x-python",
   "name": "python",
   "nbconvert_exporter": "python",
   "pygments_lexer": "ipython3",
   "version": "3.11.5"
  }
 },
 "nbformat": 4,
 "nbformat_minor": 5
}
