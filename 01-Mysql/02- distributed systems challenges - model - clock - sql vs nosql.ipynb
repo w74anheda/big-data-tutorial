{
 "cells": [
  {
   "cell_type": "markdown",
   "id": "8d8244ae",
   "metadata": {},
   "source": [
    "<ul>\n",
    "    <li>\n",
    "        Challenges:\n",
    "        <ul>\n",
    "            <li>Two Generals’ Problem</li>\n",
    "        </ul>\n",
    "    </li>\n",
    "    <li>Models:\n",
    "        <ul>\n",
    "            <li>Master Slave</li>\n",
    "            <li>Multi Master Slave</li>\n",
    "            <li>Master Less</li>\n",
    "        </ul>\n",
    "    </li>\n",
    "    <li>\n",
    "        Clocks:\n",
    "        <ul>\n",
    "            <li>Wall Clock</li>\n",
    "            <li>Logical Clock</li>\n",
    "        </ul>\n",
    "    </li>\n",
    "</ul>"
   ]
  },
  {
   "cell_type": "markdown",
   "id": "5aad4668",
   "metadata": {},
   "source": [
    "# <font color='orange'>Two Generals’ Problem?</font>\n",
    "<img width=800 src='./img/twogeneralsproblem-1024x489.png'/>\n",
    "<img width=800 src='./img/tcp-1024x557.png'/>\n",
    "<a href='https://finematics.com/two-generals-problem/' target='_blank'>read more ...</a>\n"
   ]
  },
  {
   "cell_type": "markdown",
   "id": "9df64ede",
   "metadata": {},
   "source": [
    "# <font color='orange'>Distributed Systems Models</font>\n",
    "\n",
    "# Quorum : (N/2)+1\n",
    "\n",
    "<img width=800 src='./img/Screenshot from 2023-01-19 13-19-33.png'/>\n",
    "<img width=800 src='./img/Screenshot from 2023-01-19 13-22-22.png'/>\n",
    "<img width=800 src='./img/Screenshot from 2023-01-19 13-23-14.png'/>\n",
    "<img width=800 src='./img/Screenshot from 2023-01-19 13-32-41.png'/>\n",
    "\n"
   ]
  },
  {
   "cell_type": "markdown",
   "id": "f1ef86b1",
   "metadata": {},
   "source": [
    "# <font color='orange'>Clocks</font>\n",
    "\n",
    "#### Wall clock : 2022-12-01 12:20:00\n",
    "#### Logical clock (problem) : solve with [vector clock, lamport clock] \n",
    "<img width=800 src='./img/Screenshot from 2023-01-19 17-49-18.png'/>\n",
    "\n"
   ]
  },
  {
   "cell_type": "markdown",
   "id": "3d6dce6b",
   "metadata": {},
   "source": [
    "<ul>\n",
    "    <li>\n",
    "        SQL:\n",
    "        <ul>\n",
    "            <li>Low Write Speed</li>\n",
    "            <li>High Read Speed</li>\n",
    "        </ul>\n",
    "    </li>\n",
    "    <li>NoSQL:\n",
    "        <ul>\n",
    "            <li>High Write Speed</li>\n",
    "            <li>Types:\n",
    "                <ul>\n",
    "                    <li>Relational:\n",
    "                        <ul>\n",
    "                            <li>SQL server</li>\n",
    "                            <li>Mysql</li>\n",
    "                            <li>Oracle</li>\n",
    "                            <li>Sqllite</li>\n",
    "                            <li>postgress</li>\n",
    "                        </ul>\n",
    "                    </li>\n",
    "                    <li>Key/Value:\n",
    "                        <ul>\n",
    "                            <li>Redis</li>\n",
    "                            <li>Memcached</li>\n",
    "                        </ul>\n",
    "                    </li>\n",
    "                    <li>Column Family:\n",
    "                        <ul>\n",
    "                            <li>Casandra</li>\n",
    "                            <li>HBase</li>\n",
    "                        </ul>\n",
    "                    </li>\n",
    "                    <li>Graph:\n",
    "                        <ul>\n",
    "                            <li>Neo4j</li>\n",
    "                        </ul>\n",
    "                    </li>\n",
    "                    <li>Document:\n",
    "                        <ul>\n",
    "                            <li>MongoDB</li>\n",
    "                        </ul>\n",
    "                    </li>\n",
    "                    <li>TimeSeries:\n",
    "                        <ul>\n",
    "                            <li>prometheus</li>\n",
    "                        </ul>\n",
    "                    </li>\n",
    "                </ul>\n",
    "            </li>\n",
    "        </ul>\n",
    "    </li>\n",
    "   \n",
    "</ul>\n"
   ]
  },
  {
   "cell_type": "code",
   "execution_count": null,
   "id": "8e41f435",
   "metadata": {},
   "outputs": [],
   "source": []
  },
  {
   "cell_type": "code",
   "execution_count": null,
   "id": "c5ce4a31",
   "metadata": {},
   "outputs": [],
   "source": []
  },
  {
   "cell_type": "code",
   "execution_count": null,
   "id": "ebc72e45",
   "metadata": {},
   "outputs": [],
   "source": []
  },
  {
   "cell_type": "code",
   "execution_count": null,
   "id": "6f403c2f",
   "metadata": {},
   "outputs": [],
   "source": []
  },
  {
   "cell_type": "code",
   "execution_count": null,
   "id": "318bb20f",
   "metadata": {},
   "outputs": [],
   "source": []
  },
  {
   "cell_type": "code",
   "execution_count": null,
   "id": "f48b9006",
   "metadata": {},
   "outputs": [],
   "source": []
  },
  {
   "cell_type": "code",
   "execution_count": null,
   "id": "dae2e801",
   "metadata": {},
   "outputs": [],
   "source": []
  },
  {
   "cell_type": "code",
   "execution_count": null,
   "id": "40ef47c8",
   "metadata": {},
   "outputs": [],
   "source": []
  },
  {
   "cell_type": "code",
   "execution_count": null,
   "id": "dc64b9a6",
   "metadata": {},
   "outputs": [],
   "source": []
  }
 ],
 "metadata": {
  "kernelspec": {
   "display_name": "Python 3 (ipykernel)",
   "language": "python",
   "name": "python3"
  },
  "language_info": {
   "codemirror_mode": {
    "name": "ipython",
    "version": 3
   },
   "file_extension": ".py",
   "mimetype": "text/x-python",
   "name": "python",
   "nbconvert_exporter": "python",
   "pygments_lexer": "ipython3",
   "version": "3.9.13"
  }
 },
 "nbformat": 4,
 "nbformat_minor": 5
}
