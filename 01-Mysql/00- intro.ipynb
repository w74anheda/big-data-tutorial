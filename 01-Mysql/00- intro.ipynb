{
 "cells": [
  {
   "cell_type": "markdown",
   "id": "0f6ee4db",
   "metadata": {},
   "source": [
    "# distributed systems\n",
    "\n",
    "<img src='./img/Screenshot (3).png'>\n",
    "<img src='./img/Screenshot (5).png'>\n",
    "<img src='./img/hvsv.jpg'>\n",
    "<img src='./img/Screenshot (6).png'>\n",
    "<img src='./img/Screenshot (7).png'>\n",
    "<img src='./img/Screenshot (8).png'>"
   ]
  },
  {
   "cell_type": "markdown",
   "id": "34871ddb",
   "metadata": {},
   "source": [
    "# linux Basic\n",
    "\n",
    "```\n",
    "- whoami\n",
    "- ip -a\n",
    "- top\n",
    "- update user password: passwd\n",
    "- ls -lah\n",
    "- where am i: pwd\n",
    "- su - username\n",
    "- adduser\n",
    "- permission: d(dir)rwx(read-write-execute)r-xr-x, lrwxrwxrwx \n",
    "- chmod 777 -R(with all sub root item) masoud\n",
    "- chown -R root:root masoud/\n",
    "- id masoud ==> uid=1000(masoud) gid=1000(masoud) groups=1000(masoud)\n",
    "- cat /etc/passwd ==> get user list\n",
    "- mkdir -p /home/masoud/projects \n",
    "- rm -rfv(v=verbose) fileOrDir\n",
    "- echo salam masoud >(replace) intro.txt & ls -lah >>(append) history.txt\n",
    "- less history.txt | wc -l\n",
    "- sort histroy.txt\n",
    "- cat history.txt \n",
    "- tree\n",
    "- create service in systemctl :\n",
    "    1 - add file filename.service into > /etc/systemd/system/\n",
    "    2 - ```\n",
    "        [Unit]\n",
    "        Description=this is python project\n",
    "        After=network.target\n",
    "        [Service]\n",
    "        User=masoud\n",
    "        WorkingDirectory=<path to your project directory containing your python script>\n",
    "        ExecStart=/home/user/.virtualenv/bin/python main.py\n",
    "        Restart=always\n",
    "        [Install]\n",
    "        WantedBy=multi-user.target\n",
    "        ```\n",
    "    3 - systemctl daemon-reload\n",
    "    4 - systemctl start your-service.service\n",
    "    5 - systemctl status example.service\n",
    "    6 - systemctl enable example.service\n",
    "    \n",
    "- python main.py & ==> run in backgroun\n",
    "- vim :\n",
    "        -: wq\n",
    "        -: q!\n",
    "        -: /search-key\n",
    "        \n",
    "\n",
    "- crontab -l\n",
    "- crontab -e\n",
    "\n",
    "\n",
    "```\n",
    "\n",
    "<img src='./img/images.jfif'/>"
   ]
  },
  {
   "cell_type": "markdown",
   "id": "851f9fdc",
   "metadata": {},
   "source": [
    "# Shell Script\n",
    "####  docker run -it --volume=/host_mnt/e/Projects/Learn/'big data'/shell-script:/home/masoud --name=ubuntu_learn ubuntu\n",
    "```\n",
    "- shell extention is .sh \n",
    "- read X1\n",
    "- #!/bin/bash\n",
    "- echo $0 ==> current file name\n",
    "- $0,$1,$2,$... => ./install.sh param1 param2 param...\n",
    "- $# => return number of all params\n",
    "- $* => return all params\n",
    "- $? => return last line operation status => if 0 is success\n",
    "- $$ =? return pid\n",
    "- df -Ph | grep '/dev/'\n",
    "- df -Ph | grep -E 'tmp|Filesystem'\n",
    "- `expr 4+2` or $(4+2)\n",
    "\n",
    "- ```\n",
    "    a=0\n",
    "    while [ \"$a\" -lt 30 ]\n",
    "    do\n",
    "        echo $a\n",
    "        a=`expr $a + 1`\n",
    "\n",
    "        if [ \"$a\" -eq 20 ]\n",
    "            then\n",
    "                echo '****'\n",
    "            else\n",
    "                echo '+++++++++'\n",
    "            fi\n",
    "\n",
    "        if [ \"$a\" -gt 15 ]\n",
    "            then\n",
    "                echo '----'\n",
    "            fi\n",
    "    done\n",
    "  ```\n",
    "- \n",
    "  \n",
    "```\n"
   ]
  },
  {
   "cell_type": "markdown",
   "id": "ff0b3bf6",
   "metadata": {},
   "source": [
    "## CDN => content delivery network\n",
    "\n",
    "### rsync => apt install rsync : sync and transfer file between 2 server"
   ]
  },
  {
   "cell_type": "code",
   "execution_count": null,
   "id": "4189b95d",
   "metadata": {},
   "outputs": [],
   "source": []
  },
  {
   "cell_type": "code",
   "execution_count": null,
   "id": "eb0813bd",
   "metadata": {},
   "outputs": [],
   "source": []
  },
  {
   "cell_type": "code",
   "execution_count": null,
   "id": "d8305078",
   "metadata": {},
   "outputs": [],
   "source": []
  },
  {
   "cell_type": "code",
   "execution_count": null,
   "id": "56834872",
   "metadata": {},
   "outputs": [],
   "source": []
  },
  {
   "cell_type": "code",
   "execution_count": null,
   "id": "39d82307",
   "metadata": {},
   "outputs": [],
   "source": []
  },
  {
   "cell_type": "code",
   "execution_count": null,
   "id": "b0912eb8",
   "metadata": {},
   "outputs": [],
   "source": []
  },
  {
   "cell_type": "code",
   "execution_count": null,
   "id": "8073ab04",
   "metadata": {},
   "outputs": [],
   "source": []
  },
  {
   "cell_type": "code",
   "execution_count": null,
   "id": "0b77ae9c",
   "metadata": {},
   "outputs": [],
   "source": []
  }
 ],
 "metadata": {
  "kernelspec": {
   "display_name": "Python 3 (ipykernel)",
   "language": "python",
   "name": "python3"
  },
  "language_info": {
   "codemirror_mode": {
    "name": "ipython",
    "version": 3
   },
   "file_extension": ".py",
   "mimetype": "text/x-python",
   "name": "python",
   "nbconvert_exporter": "python",
   "pygments_lexer": "ipython3",
   "version": "3.9.13"
  }
 },
 "nbformat": 4,
 "nbformat_minor": 5
}
