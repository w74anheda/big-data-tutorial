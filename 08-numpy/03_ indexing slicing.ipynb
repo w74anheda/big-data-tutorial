{
 "cells": [
  {
   "cell_type": "code",
   "execution_count": 1,
   "id": "946d9a0c",
   "metadata": {},
   "outputs": [],
   "source": [
    "import numpy as np"
   ]
  },
  {
   "cell_type": "code",
   "execution_count": 2,
   "id": "65a12056",
   "metadata": {},
   "outputs": [
    {
     "data": {
      "text/plain": [
       "array([0, 1, 2, 3, 4, 5, 6, 7, 8, 9])"
      ]
     },
     "execution_count": 2,
     "metadata": {},
     "output_type": "execute_result"
    }
   ],
   "source": [
    "arr = np.arange(10)\n",
    "arr"
   ]
  },
  {
   "cell_type": "code",
   "execution_count": 3,
   "id": "0a244b92",
   "metadata": {},
   "outputs": [
    {
     "data": {
      "text/plain": [
       "array([   0,    1,    2,    3,    4, -100, -100, -100,    8,    9])"
      ]
     },
     "execution_count": 3,
     "metadata": {},
     "output_type": "execute_result"
    }
   ],
   "source": [
    "arr[5:8] = -100\n",
    "arr"
   ]
  },
  {
   "cell_type": "code",
   "execution_count": 4,
   "id": "2dd4059a",
   "metadata": {},
   "outputs": [
    {
     "data": {
      "text/plain": [
       "array([   0,    1,   20,    3,    4, -100, -100, -100,    8,    9])"
      ]
     },
     "execution_count": 4,
     "metadata": {},
     "output_type": "execute_result"
    }
   ],
   "source": [
    "arrslice = arr[2:5] # whene slice its by refrence\n",
    "arrslice[0] = 20\n",
    "arr"
   ]
  },
  {
   "cell_type": "code",
   "execution_count": 5,
   "id": "c83610c2",
   "metadata": {},
   "outputs": [
    {
     "data": {
      "text/plain": [
       "array([   0,    1,   20,    3,    4, -100, -100, -100,    8,    9])"
      ]
     },
     "execution_count": 5,
     "metadata": {},
     "output_type": "execute_result"
    }
   ],
   "source": [
    "arrsliceCopy = arr[2:5].copy()\n",
    "arrsliceCopy[0] = 50\n",
    "arr"
   ]
  },
  {
   "cell_type": "code",
   "execution_count": 6,
   "id": "002968a9",
   "metadata": {},
   "outputs": [
    {
     "data": {
      "text/plain": [
       "array([100, 100, 100, 100, 100, 100, 100, 100, 100, 100])"
      ]
     },
     "execution_count": 6,
     "metadata": {},
     "output_type": "execute_result"
    }
   ],
   "source": [
    "arr[:] = 100\n",
    "arr"
   ]
  },
  {
   "cell_type": "code",
   "execution_count": 7,
   "id": "f53139ca",
   "metadata": {},
   "outputs": [
    {
     "data": {
      "text/plain": [
       "array([[1, 2, 3],\n",
       "       [4, 5, 6],\n",
       "       [7, 8, 9]])"
      ]
     },
     "execution_count": 7,
     "metadata": {},
     "output_type": "execute_result"
    }
   ],
   "source": [
    "arr2d = np.arange(1,10).reshape(3,3)\n",
    "arr2d"
   ]
  },
  {
   "cell_type": "code",
   "execution_count": 8,
   "id": "629c71d3",
   "metadata": {},
   "outputs": [
    {
     "data": {
      "text/plain": [
       "True"
      ]
     },
     "execution_count": 8,
     "metadata": {},
     "output_type": "execute_result"
    }
   ],
   "source": [
    "arr2d[0][2] == arr2d[0,2]"
   ]
  },
  {
   "cell_type": "code",
   "execution_count": 9,
   "id": "7c969ef8",
   "metadata": {},
   "outputs": [
    {
     "data": {
      "text/plain": [
       "array([[1, 2],\n",
       "       [4, 5]])"
      ]
     },
     "execution_count": 9,
     "metadata": {},
     "output_type": "execute_result"
    }
   ],
   "source": [
    "arr2d[:2,:2]"
   ]
  },
  {
   "cell_type": "code",
   "execution_count": 10,
   "id": "9309d8c0",
   "metadata": {
    "scrolled": true
   },
   "outputs": [
    {
     "name": "stdout",
     "output_type": "stream",
     "text": [
      "[[[ 1  2  3]\n",
      "  [ 4  5  6]]\n",
      "\n",
      " [[ 7  8  9]\n",
      "  [10 11 12]]]\n"
     ]
    },
    {
     "data": {
      "text/plain": [
       "5"
      ]
     },
     "execution_count": 10,
     "metadata": {},
     "output_type": "execute_result"
    }
   ],
   "source": [
    "arr3d = np.arange(1,13).reshape(2,2,3)\n",
    "print(arr3d)\n",
    "arr3d[0,1,1]"
   ]
  },
  {
   "cell_type": "code",
   "execution_count": 64,
   "id": "89c5eddd",
   "metadata": {
    "collapsed": true
   },
   "outputs": [
    {
     "name": "stdout",
     "output_type": "stream",
     "text": [
      "[[ 1.71694751 -1.42652587  2.09838972  0.52116319]\n",
      " [-0.89782317 -1.03455285 -1.28818293  1.1339785 ]\n",
      " [-1.13482642  0.37185198 -0.42277486  1.12245502]\n",
      " [ 0.85501923 -0.80778169 -0.119193   -1.18727206]\n",
      " [ 0.01190236 -0.65656037 -0.26439578 -0.26694751]\n",
      " [ 0.43688298 -0.01754592  0.74715314 -1.19691616]\n",
      " [ 0.41040376 -1.27051089  1.03168654  0.51407306]]\n",
      "[[10.        ]\n",
      " [-1.13482642]\n",
      " [ 0.01190236]\n",
      " [ 0.43688298]]\n"
     ]
    },
    {
     "data": {
      "text/plain": [
       "array([[ 1.71694751, -1.42652587,  2.09838972,  0.52116319],\n",
       "       [-0.89782317, -1.03455285, -1.28818293,  1.1339785 ],\n",
       "       [-1.13482642,  0.37185198, -0.42277486,  1.12245502],\n",
       "       [ 0.85501923, -0.80778169, -0.119193  , -1.18727206],\n",
       "       [ 0.01190236, -0.65656037, -0.26439578, -0.26694751],\n",
       "       [ 0.43688298, -0.01754592,  0.74715314, -1.19691616],\n",
       "       [ 0.41040376, -1.27051089,  1.03168654,  0.51407306]])"
      ]
     },
     "execution_count": 64,
     "metadata": {},
     "output_type": "execute_result"
    }
   ],
   "source": [
    "#boolean indexing Return a copy\n",
    "\n",
    "names = np.array(['masoud','mostafa','younes','masoud','mostafa','mohammad','masoud'])\n",
    "data = np.random.randn(7,4)\n",
    "\n",
    "newData = data[~ (names=='masoud'),:1]\n",
    "\n",
    "print(data)\n",
    "newData[0] =10\n",
    "print(newData)\n",
    "data\n"
   ]
  },
  {
   "cell_type": "code",
   "execution_count": 95,
   "id": "3b46516f",
   "metadata": {},
   "outputs": [
    {
     "name": "stdout",
     "output_type": "stream",
     "text": [
      "[[ 0  1  2]\n",
      " [ 3  4  5]\n",
      " [ 6  7  8]\n",
      " [ 9 10 11]] \n",
      "\n",
      "[[ 9 10 11]\n",
      " [ 6  7  8]]\n"
     ]
    },
    {
     "data": {
      "text/plain": [
       "array([ 7, 11])"
      ]
     },
     "execution_count": 95,
     "metadata": {},
     "output_type": "execute_result"
    }
   ],
   "source": [
    "# Fancy indexing ===> select custom row and insert in new array\n",
    "arr = np.arange(12).reshape(4,3)\n",
    "print(arr,'\\n')\n",
    "print(arr[[3,2]])\n",
    "\n",
    "\n",
    "arr[[2,3],[1,2]]\n",
    "\n",
    "# read for more and 2d fancy indexing"
   ]
  },
  {
   "cell_type": "code",
   "execution_count": null,
   "id": "13cfb840",
   "metadata": {},
   "outputs": [],
   "source": []
  },
  {
   "cell_type": "code",
   "execution_count": null,
   "id": "214020b3",
   "metadata": {},
   "outputs": [],
   "source": []
  },
  {
   "cell_type": "code",
   "execution_count": null,
   "id": "7ebebb90",
   "metadata": {},
   "outputs": [],
   "source": []
  },
  {
   "cell_type": "code",
   "execution_count": null,
   "id": "bb66e44f",
   "metadata": {},
   "outputs": [],
   "source": []
  },
  {
   "cell_type": "code",
   "execution_count": null,
   "id": "364be29b",
   "metadata": {},
   "outputs": [],
   "source": []
  },
  {
   "cell_type": "code",
   "execution_count": null,
   "id": "fad9133f",
   "metadata": {},
   "outputs": [],
   "source": []
  }
 ],
 "metadata": {
  "kernelspec": {
   "display_name": "Python 3 (ipykernel)",
   "language": "python",
   "name": "python3"
  },
  "language_info": {
   "codemirror_mode": {
    "name": "ipython",
    "version": 3
   },
   "file_extension": ".py",
   "mimetype": "text/x-python",
   "name": "python",
   "nbconvert_exporter": "python",
   "pygments_lexer": "ipython3",
   "version": "3.9.12"
  }
 },
 "nbformat": 4,
 "nbformat_minor": 5
}
