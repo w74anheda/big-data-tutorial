{
 "cells": [
  {
   "cell_type": "code",
   "execution_count": 1,
   "id": "42e32db9",
   "metadata": {},
   "outputs": [],
   "source": [
    "import numpy as np\n",
    "# axis = 1,-1 is row, axis = 0 is column,"
   ]
  },
  {
   "cell_type": "code",
   "execution_count": 14,
   "id": "7091b72f",
   "metadata": {},
   "outputs": [
    {
     "data": {
      "text/plain": [
       "array([[1, 9],\n",
       "       [9, 8]])"
      ]
     },
     "execution_count": 14,
     "metadata": {},
     "output_type": "execute_result"
    }
   ],
   "source": [
    "arr = np.array([[1,9],[9,8]])\n",
    "arr"
   ]
  },
  {
   "cell_type": "code",
   "execution_count": 45,
   "id": "fe876e92",
   "metadata": {},
   "outputs": [
    {
     "data": {
      "text/plain": [
       "array([[1, 8],\n",
       "       [9, 9]])"
      ]
     },
     "execution_count": 45,
     "metadata": {},
     "output_type": "execute_result"
    }
   ],
   "source": [
    "# numpy.sort(a, axis=- 1, kind=None, order=None)[source] Return a sorted copy of an array.\n",
    "\n",
    "arr2 = np.sort(arr, axis=0) \n",
    "arr2"
   ]
  },
  {
   "cell_type": "code",
   "execution_count": 82,
   "id": "861082e5",
   "metadata": {},
   "outputs": [
    {
     "name": "stdout",
     "output_type": "stream",
     "text": [
      "[(b'masoud', 27, 172.) (b'mostafa', 25, 180.) (b'younes', 19, 175.)\n",
      " (b'mehdi', 28, 180.)] \n",
      "\n"
     ]
    },
    {
     "data": {
      "text/plain": [
       "array([(b'mehdi', 28, 180.), (b'mostafa', 25, 180.),\n",
       "       (b'younes', 19, 175.), (b'masoud', 27, 172.)],\n",
       "      dtype=[('name', 'S10'), ('age', '<i8'), ('height', '<f8')])"
      ]
     },
     "execution_count": 82,
     "metadata": {},
     "output_type": "execute_result"
    }
   ],
   "source": [
    "dtype = [('name','S10'),('age',int),('height',float)]\n",
    "values = [('masoud',27,172),('mostafa',25,180),('younes',19,175),('mehdi',28,180)]\n",
    "arr = np.array(values,dtype=dtype)\n",
    "arr[arr['name'] == b'masoud']\n",
    "\n",
    "print(arr,'\\n')\n",
    "\n",
    "\n",
    "np.sort(arr,order=['height','age']) # desc [::-1]\n",
    "\n",
    "\n"
   ]
  },
  {
   "cell_type": "code",
   "execution_count": 89,
   "id": "b8b27dde",
   "metadata": {},
   "outputs": [
    {
     "data": {
      "text/plain": [
       "[(1, 0), (1, 9), (3, 0), (4, 1), (4, 2), (4, 4), (5, 4)]"
      ]
     },
     "execution_count": 89,
     "metadata": {},
     "output_type": "execute_result"
    }
   ],
   "source": [
    "# numpy.lexsort(keys, axis=- 1) Perform an indirect stable sort using a sequence of keys.\n",
    "\n",
    "a = [1,5,1,4,3,4,4] # First column\n",
    "\n",
    "b = [9,4,0,4,0,2,1] # Second column\n",
    "\n",
    "ind = np.lexsort((b,a)) # Sort by a, then by b\n",
    "[ (a[i],b[i]) for i in ind]\n",
    "\n",
    "\n",
    "# numpy.argsort(a, axis=- 1, kind=None, order=None)[source] Returns the indices that would sort an array.\n",
    "# numpy.argsort same with lexsort with more option"
   ]
  },
  {
   "cell_type": "code",
   "execution_count": null,
   "id": "0eace978",
   "metadata": {},
   "outputs": [],
   "source": [
    "\n"
   ]
  },
  {
   "cell_type": "code",
   "execution_count": null,
   "id": "14c8ebf6",
   "metadata": {},
   "outputs": [],
   "source": []
  },
  {
   "cell_type": "code",
   "execution_count": null,
   "id": "d53ef45e",
   "metadata": {},
   "outputs": [],
   "source": []
  },
  {
   "cell_type": "code",
   "execution_count": null,
   "id": "b75b55bf",
   "metadata": {},
   "outputs": [],
   "source": []
  }
 ],
 "metadata": {
  "kernelspec": {
   "display_name": "Python 3 (ipykernel)",
   "language": "python",
   "name": "python3"
  },
  "language_info": {
   "codemirror_mode": {
    "name": "ipython",
    "version": 3
   },
   "file_extension": ".py",
   "mimetype": "text/x-python",
   "name": "python",
   "nbconvert_exporter": "python",
   "pygments_lexer": "ipython3",
   "version": "3.9.12"
  }
 },
 "nbformat": 4,
 "nbformat_minor": 5
}
