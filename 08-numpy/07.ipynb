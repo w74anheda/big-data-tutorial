{
 "cells": [
  {
   "cell_type": "code",
   "execution_count": 1,
   "id": "0fc5d210",
   "metadata": {},
   "outputs": [],
   "source": [
    "import numpy as np"
   ]
  },
  {
   "cell_type": "markdown",
   "id": "fa8ed122",
   "metadata": {},
   "source": [
    "<h1 style='color:orange'>Array Operation</h1>"
   ]
  },
  {
   "cell_type": "code",
   "execution_count": 69,
   "id": "31ac7a5b",
   "metadata": {},
   "outputs": [
    {
     "data": {
      "text/plain": [
       "-2"
      ]
     },
     "execution_count": 69,
     "metadata": {},
     "output_type": "execute_result"
    }
   ],
   "source": [
    "x = np.array([1,2,3])\n",
    "y = np.array([1,0,-1])\n",
    "\n",
    "x+y\n",
    "x-y\n",
    "x*y # multiply , element by element\n",
    "y/x\n",
    "y//x\n",
    "x**2\n",
    "\n",
    "np.dot(x,y) # zarb matrisi\n",
    "x@y # zarb matrisi\n"
   ]
  },
  {
   "cell_type": "code",
   "execution_count": 58,
   "id": "579b2176",
   "metadata": {},
   "outputs": [
    {
     "name": "stdout",
     "output_type": "stream",
     "text": [
      "[[1 2]\n",
      " [3 4]] \n",
      "----\n",
      " [[10 11]\n",
      " [12 13]] \n",
      "----\n",
      "\n"
     ]
    },
    {
     "data": {
      "text/plain": [
       "array([[34, 37],\n",
       "       [78, 85]])"
      ]
     },
     "execution_count": 58,
     "metadata": {},
     "output_type": "execute_result"
    }
   ],
   "source": [
    "a = np.arange(1,5).reshape(2,2)\n",
    "b = np.arange(10,14).reshape(2,2)\n",
    "print(a,'\\n----\\n',b,'\\n----\\n')\n",
    "\n",
    "a+b\n",
    "a*b\n",
    "np.dot(a,b)"
   ]
  },
  {
   "cell_type": "markdown",
   "id": "6029dc20",
   "metadata": {},
   "source": [
    "<h1 style='color:orange'>Broadcasting</h1>"
   ]
  },
  {
   "cell_type": "code",
   "execution_count": null,
   "id": "1193e703",
   "metadata": {},
   "outputs": [],
   "source": []
  },
  {
   "cell_type": "markdown",
   "id": "c0ac117a",
   "metadata": {},
   "source": [
    "<h1 style='color:orange'>Random Number Generators</h1>"
   ]
  },
  {
   "cell_type": "code",
   "execution_count": 200,
   "id": "4201b6f5",
   "metadata": {},
   "outputs": [
    {
     "data": {
      "text/plain": [
       "array([[-10,   2,  -3],\n",
       "       [ -3,   3,  -9]])"
      ]
     },
     "execution_count": 200,
     "metadata": {},
     "output_type": "execute_result"
    }
   ],
   "source": [
    "np.random.rand() # uniform random number\n",
    "np.random.rand(10)\n",
    "np.random.rand(2,3)\n",
    "\n",
    "#---------------------------------------------------\n",
    "np.random.randn() # normal random number\n",
    "np.random.randn(10)\n",
    "np.random.rand(2,3)\n",
    "#---------------------------------------------------\n",
    "np.random.randint(-10,10)\n",
    "np.random.randint(-10,10, (2,3))\n",
    "\n"
   ]
  },
  {
   "cell_type": "markdown",
   "id": "cd977365",
   "metadata": {},
   "source": [
    "<h1 style='color:orange'>Optimization</h1>"
   ]
  },
  {
   "cell_type": "code",
   "execution_count": 218,
   "id": "436c7abf",
   "metadata": {},
   "outputs": [
    {
     "data": {
      "text/plain": [
       "2.0"
      ]
     },
     "execution_count": 218,
     "metadata": {},
     "output_type": "execute_result"
    }
   ],
   "source": [
    "np.linspace(0,10,5,dtype=int)\n",
    "nums = np.linspace(0,2,5)\n"
   ]
  },
  {
   "cell_type": "code",
   "execution_count": null,
   "id": "131841e8",
   "metadata": {},
   "outputs": [],
   "source": []
  },
  {
   "cell_type": "code",
   "execution_count": null,
   "id": "9cc8f6e2",
   "metadata": {},
   "outputs": [],
   "source": []
  },
  {
   "cell_type": "code",
   "execution_count": null,
   "id": "79b789eb",
   "metadata": {},
   "outputs": [],
   "source": []
  },
  {
   "cell_type": "code",
   "execution_count": null,
   "id": "3c0a6e47",
   "metadata": {},
   "outputs": [],
   "source": []
  },
  {
   "cell_type": "code",
   "execution_count": null,
   "id": "5c7d997a",
   "metadata": {},
   "outputs": [],
   "source": []
  }
 ],
 "metadata": {
  "kernelspec": {
   "display_name": "Python 3 (ipykernel)",
   "language": "python",
   "name": "python3"
  },
  "language_info": {
   "codemirror_mode": {
    "name": "ipython",
    "version": 3
   },
   "file_extension": ".py",
   "mimetype": "text/x-python",
   "name": "python",
   "nbconvert_exporter": "python",
   "pygments_lexer": "ipython3",
   "version": "3.9.12"
  }
 },
 "nbformat": 4,
 "nbformat_minor": 5
}
