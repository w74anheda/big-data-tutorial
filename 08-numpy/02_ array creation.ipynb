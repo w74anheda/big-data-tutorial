{
 "cells": [
  {
   "cell_type": "code",
   "execution_count": 1,
   "id": "be7f1c00",
   "metadata": {},
   "outputs": [],
   "source": [
    "import numpy as np\n",
    "from sys import getsizeof as size"
   ]
  },
  {
   "cell_type": "markdown",
   "id": "a7e02481",
   "metadata": {},
   "source": [
    "<h1 style=\"color:orange\">shape, dtype, order</h1>\n",
    "\n",
    "* Shape: tuple of array dimensions 2D (rows,columns) ex===> (4*3)\n",
    "* dtype: create a data type object\n",
    "* order: column-major (Fortran), row-major (C)"
   ]
  },
  {
   "cell_type": "markdown",
   "id": "0c111a6b",
   "metadata": {},
   "source": [
    "<h1 style=\"color:orange\">Array creation routines</h1>\n"
   ]
  },
  {
   "cell_type": "code",
   "execution_count": 2,
   "id": "ee94b009",
   "metadata": {},
   "outputs": [
    {
     "data": {
      "text/plain": [
       "array([[ 64,  24,  61, -18,  -1,  85,   0,   0,   0,   0],\n",
       "       [  0,   0,   0,   0,   0,   0, -16,  55, -63, 122]], dtype=int8)"
      ]
     },
     "execution_count": 2,
     "metadata": {},
     "output_type": "execute_result"
    }
   ],
   "source": [
    "# empty(shape[, dtype, order]) Return new array of given shape and type, without initializing entries(random data).\n",
    "\n",
    "np.empty(5)\n",
    "np.empty(5,dtype = np.int8)\n",
    "np.empty([2,3],dtype = np.int8)\n",
    "\n",
    "# empty_like(prototype[, dtype, order, subok]) Return new array with same shape and type, as a given array.\n",
    "prototype = (range(0,10),range(0,10))\n",
    "np.empty_like(prototype,dtype = np.int8)"
   ]
  },
  {
   "cell_type": "code",
   "execution_count": 3,
   "id": "ff60a7d4",
   "metadata": {
    "scrolled": false
   },
   "outputs": [
    {
     "data": {
      "text/plain": [
       "array([[1., 0., 0., 0., 0.],\n",
       "       [0., 1., 0., 0., 0.],\n",
       "       [0., 0., 1., 0., 0.],\n",
       "       [0., 0., 0., 1., 0.],\n",
       "       [0., 0., 0., 0., 1.]])"
      ]
     },
     "execution_count": 3,
     "metadata": {},
     "output_type": "execute_result"
    }
   ],
   "source": [
    "# eye(n[,m, k, dtype, order]) Return 2d array with ones on the diagonal(ghotr asli) and zero elsewhere.\n",
    "np.eye(5)\n",
    "np.eye(3,4)\n",
    "np.eye(3,4,k=1)\n",
    "np.eye(3,4,k=-2)\n",
    "np.eye(5,5)\n"
   ]
  },
  {
   "cell_type": "code",
   "execution_count": 4,
   "id": "5bc33629",
   "metadata": {
    "scrolled": true
   },
   "outputs": [
    {
     "data": {
      "text/plain": [
       "array([[1., 0., 0., 0., 0., 0., 0., 0., 0., 0.],\n",
       "       [0., 1., 0., 0., 0., 0., 0., 0., 0., 0.],\n",
       "       [0., 0., 1., 0., 0., 0., 0., 0., 0., 0.],\n",
       "       [0., 0., 0., 1., 0., 0., 0., 0., 0., 0.],\n",
       "       [0., 0., 0., 0., 1., 0., 0., 0., 0., 0.],\n",
       "       [0., 0., 0., 0., 0., 1., 0., 0., 0., 0.],\n",
       "       [0., 0., 0., 0., 0., 0., 1., 0., 0., 0.],\n",
       "       [0., 0., 0., 0., 0., 0., 0., 1., 0., 0.],\n",
       "       [0., 0., 0., 0., 0., 0., 0., 0., 1., 0.],\n",
       "       [0., 0., 0., 0., 0., 0., 0., 0., 0., 1.]])"
      ]
     },
     "execution_count": 4,
     "metadata": {},
     "output_type": "execute_result"
    }
   ],
   "source": [
    "# identity(n[, dtype]) Return identity array with ones on the diagonal(ghotr asli) and zero elsewhere.\n",
    "np.identity(10)"
   ]
  },
  {
   "cell_type": "code",
   "execution_count": 5,
   "id": "55267006",
   "metadata": {},
   "outputs": [
    {
     "data": {
      "text/plain": [
       "2"
      ]
     },
     "execution_count": 5,
     "metadata": {},
     "output_type": "execute_result"
    }
   ],
   "source": [
    "# ones(shape[, dtype, order]) Return new array of ones .\n",
    "prototype = np.eye(5)\n",
    "\n",
    "np.ones(10)\n",
    "np.ones((4,8))\n",
    "np.ones_like(prototype)\n",
    "\n",
    "np.zeros((4,8))\n",
    "arr = np.zeros_like(prototype,dtype=np.int8)\n",
    "\n",
    "arr.shape\n",
    "arr.dtype\n",
    "arr.ndim #abaad => nD"
   ]
  },
  {
   "cell_type": "code",
   "execution_count": 6,
   "id": "cd1c4863",
   "metadata": {},
   "outputs": [
    {
     "data": {
      "text/plain": [
       "array([[6, 6, 6, 6, 6],\n",
       "       [6, 6, 6, 6, 6],\n",
       "       [6, 6, 6, 6, 6],\n",
       "       [6, 6, 6, 6, 6],\n",
       "       [6, 6, 6, 6, 6]], dtype=int8)"
      ]
     },
     "execution_count": 6,
     "metadata": {},
     "output_type": "execute_result"
    }
   ],
   "source": [
    "# full(shape, full_value[, dtype, order]) Return new array of given value .\n",
    "prototype = np.eye(5)\n",
    "\n",
    "np.full(10,6)\n",
    "np.full((3,8),6)\n",
    "\n",
    "np.full_like(prototype,6)\n",
    "np.full_like(prototype,6,dtype=np.int8)\n"
   ]
  },
  {
   "cell_type": "code",
   "execution_count": 7,
   "id": "1a02a373",
   "metadata": {},
   "outputs": [
    {
     "data": {
      "text/plain": [
       "array([10, 20, 16, 18])"
      ]
     },
     "execution_count": 7,
     "metadata": {},
     "output_type": "execute_result"
    }
   ],
   "source": [
    "# numpy.array(object, dtype=None, *, copy=True, order='K', subok=False, ndmin=0, like=None)\n",
    "\n",
    "scores = np.array([10,15,16,18])\n",
    "np_scores1 = np.array(scores,copy=False)\n",
    "np_scores1[1] = 20\n",
    "\n",
    "np_scores2 = np.array(scores,dtype=np.int8,copy=False)\n",
    "np_scores2[1] = 20\n",
    "\n",
    "scores"
   ]
  },
  {
   "cell_type": "code",
   "execution_count": 8,
   "id": "a33c59b4",
   "metadata": {},
   "outputs": [
    {
     "name": "stdout",
     "output_type": "stream",
     "text": [
      "[[10 20 40]]\n"
     ]
    },
    {
     "data": {
      "text/plain": [
       "True"
      ]
     },
     "execution_count": 8,
     "metadata": {},
     "output_type": "execute_result"
    }
   ],
   "source": [
    "# numpy.matrix(data, dtype=None, copy=True)\n",
    "mat = np.matrix([[10,20,30]])\n",
    "arr = np.array(mat, copy=False)\n",
    "arr[0][2] = 40\n",
    "print(mat)\n",
    "\n",
    "arr is mat # False\n",
    "id(arr) == id(mat) # False\n",
    "np.may_share_memory(arr,mat) # True\n",
    "\n",
    "np.array(mat, copy=False, subok=True) is mat"
   ]
  },
  {
   "cell_type": "code",
   "execution_count": 9,
   "id": "9c112c12",
   "metadata": {},
   "outputs": [],
   "source": [
    "# numpy.asarray(a, dtype=None, order=None, *, like=None) ==> copy is False\n",
    "# numpy.asanyarray(a, dtype=None, order=None, *, like=None) ==> copy=False, subok=True"
   ]
  },
  {
   "cell_type": "code",
   "execution_count": 10,
   "id": "f924037f",
   "metadata": {},
   "outputs": [
    {
     "data": {
      "text/plain": [
       "  C_CONTIGUOUS : True\n",
       "  F_CONTIGUOUS : False\n",
       "  OWNDATA : True\n",
       "  WRITEABLE : True\n",
       "  ALIGNED : True\n",
       "  WRITEBACKIFCOPY : False\n",
       "  UPDATEIFCOPY : False"
      ]
     },
     "execution_count": 10,
     "metadata": {},
     "output_type": "execute_result"
    }
   ],
   "source": [
    "# numpy.ascontiguousarray(a, dtype=None, *, like=None) Return a contiguous array (ndim >= 1) in memory (C order).\n",
    "\n",
    "x = np.arange(10).reshape(2,5,order='f')\n",
    "x = np.ascontiguousarray(x)\n",
    "\n",
    "x.shape\n",
    "x.flags\n",
    "\n",
    "# x\n",
    "# id(x) == id(y) # True\n",
    "# np.may_share_memory(x,y) # True"
   ]
  },
  {
   "cell_type": "code",
   "execution_count": 11,
   "id": "f7a97ca0",
   "metadata": {},
   "outputs": [],
   "source": [
    "# numpy.asmatrix(data, dtype=None)[source] Interpret the input as a matrix.\n",
    "#Unlike matrix, asmatrix does not make a copy if the input is already a matrix or an ndarray. "
   ]
  },
  {
   "cell_type": "code",
   "execution_count": 12,
   "id": "5ee192d2",
   "metadata": {},
   "outputs": [
    {
     "name": "stdout",
     "output_type": "stream",
     "text": [
      "[1 'masoud' list([500, 5, 6])] [1 'masoud' list([200, 5, 6])]\n"
     ]
    }
   ],
   "source": [
    "# numpy.copy(a, order='K', subok=False)[source] Return an array copy of the given object.\n",
    "# nupmpy copy is shalow copy\n",
    "# for deep copy import copy\n",
    "\n",
    "a = np.array([1,'masoud',[4,5,6]], dtype=object)\n",
    "b = np.copy(a)\n",
    "\n",
    "b[2][0] = 500\n",
    "\n",
    "\n",
    "#-----------------\n",
    "from copy import deepcopy\n",
    "b = deepcopy(a)\n",
    "b[2][0] = 200\n",
    "\n",
    "\n",
    "\n",
    "print(a,b)"
   ]
  },
  {
   "cell_type": "code",
   "execution_count": 13,
   "id": "00c44340",
   "metadata": {},
   "outputs": [
    {
     "data": {
      "text/plain": [
       "array([b's', b'o', b'u', b'd'], dtype='|S1')"
      ]
     },
     "execution_count": 13,
     "metadata": {},
     "output_type": "execute_result"
    }
   ],
   "source": [
    "# numpy.frombuffer(buffer, dtype=float, count=- 1, offset=0, *, like=None)\n",
    "# Interpret a buffer as a 1-dimensional array.\n",
    "\n",
    "string = b'masoud'\n",
    "np.frombuffer(string, dtype='S1')\n",
    "np.frombuffer(string, dtype='S1', count=2)\n",
    "np.frombuffer(string, dtype='S1', offset=2)"
   ]
  },
  {
   "cell_type": "code",
   "execution_count": 14,
   "id": "204dbc84",
   "metadata": {},
   "outputs": [
    {
     "data": {
      "text/plain": [
       "array([[ True, False, False],\n",
       "       [False,  True, False],\n",
       "       [False, False,  True]])"
      ]
     },
     "execution_count": 14,
     "metadata": {},
     "output_type": "execute_result"
    }
   ],
   "source": [
    "# numpy.fromfunction(function, shape, *, dtype=<class 'float'>, like=None, **kwargs)[source]\n",
    "# Construct an array by executing a function over each coordinate.\n",
    "# The resulting array therefore has a value fn(x, y, z) at coordinate (x, y, z).\n",
    "\n",
    "np.fromfunction(lambda i,j : i==j, (3,3), dtype=np.int8)\n"
   ]
  },
  {
   "cell_type": "code",
   "execution_count": 15,
   "id": "b2d0e94f",
   "metadata": {},
   "outputs": [
    {
     "data": {
      "text/plain": [
       "array([10, 19, 22, -6,  0, 28,  0,  0,  0,  0], dtype=int8)"
      ]
     },
     "execution_count": 15,
     "metadata": {},
     "output_type": "execute_result"
    }
   ],
   "source": [
    "# numpy.fromiter(iter, dtype, count=- 1, *, like=None)\n",
    "# Create a new 1-dimensional array from an iterable object.\n",
    "    \n",
    "np.fromiter([i/3 for i in np.empty(10,dtype = np.int8) ], dtype=np.int8)"
   ]
  },
  {
   "cell_type": "code",
   "execution_count": 16,
   "id": "35124a2d",
   "metadata": {},
   "outputs": [
    {
     "data": {
      "text/plain": [
       "array([  2, 121, 123,  54,   2], dtype=int8)"
      ]
     },
     "execution_count": 16,
     "metadata": {},
     "output_type": "execute_result"
    }
   ],
   "source": [
    "# numpy.fromstring(string, dtype=float, count=- 1, *, sep, like=None)\n",
    "# A new 1-D array initialized from text data in a string.\n",
    "\n",
    "string= '2,121,123,54,2'\n",
    "np.fromstring(string, sep=',', dtype=np.int8)\n",
    "\n"
   ]
  },
  {
   "cell_type": "code",
   "execution_count": 17,
   "id": "66164932",
   "metadata": {},
   "outputs": [],
   "source": [
    "# numpy.loadtxt(\n",
    "#               fname, dtype=<class 'float'>, comments='#', delimiter=None, converters=None, \n",
    "#               skiprows=0, usecols=None, unpack=False, ndmin=0, encoding='bytes', max_rows=None, *,\n",
    "#               quotechar=None, like=None\n",
    "#              )\n",
    "\n",
    "def correct_height(h):\n",
    "    try:\n",
    "        return float(h)\n",
    "    except ValueError:\n",
    "        return -1000.\n",
    "    \n",
    "\n",
    "\n",
    "dtype1 = np.dtype([('Sex','S1'),('Age','f8')])\n",
    "file_name = '../../datasets/titanic.csv'\n",
    "\n",
    "# np.loadtxt(file_name, dtype=dtype1, skiprows=9, usecols=(4,5), converters={4:correct_height})"
   ]
  },
  {
   "cell_type": "code",
   "execution_count": 18,
   "id": "45f8720e",
   "metadata": {},
   "outputs": [
    {
     "data": {
      "text/plain": [
       "30.72664459161148"
      ]
     },
     "execution_count": 18,
     "metadata": {},
     "output_type": "execute_result"
    }
   ],
   "source": [
    "import pandas as pd\n",
    "titanic_data = pd.read_csv(file_name)\n",
    "male = titanic_data[['Sex','Age']]\n",
    "male[male['Sex']=='male']['Age'].mean(skipna =True)\n"
   ]
  },
  {
   "cell_type": "code",
   "execution_count": null,
   "id": "fb587ab3",
   "metadata": {},
   "outputs": [],
   "source": []
  }
 ],
 "metadata": {
  "kernelspec": {
   "display_name": "Python 3 (ipykernel)",
   "language": "python",
   "name": "python3"
  },
  "language_info": {
   "codemirror_mode": {
    "name": "ipython",
    "version": 3
   },
   "file_extension": ".py",
   "mimetype": "text/x-python",
   "name": "python",
   "nbconvert_exporter": "python",
   "pygments_lexer": "ipython3",
   "version": "3.9.12"
  }
 },
 "nbformat": 4,
 "nbformat_minor": 5
}
