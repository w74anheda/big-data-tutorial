{
 "cells": [
  {
   "cell_type": "code",
   "execution_count": 1,
   "id": "3c0da82b",
   "metadata": {},
   "outputs": [],
   "source": [
    "import numpy as np"
   ]
  },
  {
   "cell_type": "code",
   "execution_count": 66,
   "id": "8ecd0eef",
   "metadata": {},
   "outputs": [
    {
     "name": "stdout",
     "output_type": "stream",
     "text": [
      "[[ 2 15 10  6]\n",
      " [ 5 15  1  9]\n",
      " [ 0 10 15  0]\n",
      " [ 8  3 12  9]] \n",
      "\n",
      "[1 1 2 2]\n"
     ]
    },
    {
     "data": {
      "text/plain": [
       "array([[15],\n",
       "       [15],\n",
       "       [15],\n",
       "       [12]])"
      ]
     },
     "execution_count": 66,
     "metadata": {},
     "output_type": "execute_result"
    }
   ],
   "source": [
    "# numpy.argmax(a, axis=None, out=None, *, keepdims=<no value>) Rturns the indices of the maximum values\n",
    "# numpy.nanargmax(a, axis=None, out=None, *, keepdims=<no value>)\n",
    "# Return the indices of the maximum values in the specified axis ignoring NaNs. For all-NaN slices ValueError is raised. Warning: the results cannot be trusted if a slice contains only NaNs and -Infs.\n",
    "\n",
    "# numpy.argmin(a, axis=None, out=None, *, keepdims=<no value>)Returns the indices of the minimum values along an axis.\n",
    "# numpy.nanargmin(a, axis=None, out=None, *, keepdims=<no value>)\n",
    "\n",
    "arr = np.random.randint(16 , size=(4,4))\n",
    "print(arr,'\\n')\n",
    "\n",
    "print( np.argmax(arr,axis=-1))\n",
    "# print( np.argmax(arr,axis=1))\n",
    " \n",
    "index_array = np.argmax(arr,axis=-1)\n",
    "value_array = np.take_along_axis(arr, np.expand_dims(index_array, axis=-1), axis=-1)\n",
    "value_array"
   ]
  },
  {
   "cell_type": "code",
   "execution_count": 131,
   "id": "7a77fe1e",
   "metadata": {},
   "outputs": [
    {
     "name": "stdout",
     "output_type": "stream",
     "text": [
      "[[3 1 0 0]\n",
      " [1 4 0 3]\n",
      " [4 2 1 4]\n",
      " [2 1 0 2]]\n"
     ]
    },
    {
     "data": {
      "text/plain": [
       "array([4, 4, 4])"
      ]
     },
     "execution_count": 131,
     "metadata": {},
     "output_type": "execute_result"
    }
   ],
   "source": [
    "# numpy.where(condition, [x, y, ]/) Return elements chosen from x or y depending on condition.\n",
    "bloodPresure = np.array([10,11,12,16,18,13,14,15])\n",
    "low = ['L','L','L','L','L','L','L','L']\n",
    "high = ['H','H','H','H','H','H','H','H',]\n",
    "# np.where(bloodPresure>12,high,low)\n",
    "\n",
    "\n",
    "arr2 = np.random.randint(16 , size=(4,4))\n",
    "print(arr2)\n",
    "arr2[np.where(arr2>3)]\n"
   ]
  },
  {
   "cell_type": "code",
   "execution_count": 188,
   "id": "bed0ff5c",
   "metadata": {},
   "outputs": [
    {
     "name": "stdout",
     "output_type": "stream",
     "text": [
      "[[0 0 0 1]\n",
      " [2 3 4 1]\n",
      " [0 1 2 4]\n",
      " [3 3 2 4]]\n"
     ]
    },
    {
     "data": {
      "text/plain": [
       "array([[1, 2],\n",
       "       [2, 3],\n",
       "       [3, 3]])"
      ]
     },
     "execution_count": 188,
     "metadata": {},
     "output_type": "execute_result"
    }
   ],
   "source": [
    "# numpy.argwhere(a) Find the indices of array elements that are non-zero, grouped by element.\n",
    "arr2 = np.array([[0 ,0 ,0, 1],[2, 3, 4, 1],[0, 1, 2, 4],[3, 3, 2, 4] ])\n",
    "print(arr2)\n",
    "\n",
    "np.argwhere(arr2) \n",
    "np.argwhere(arr2>3) \n"
   ]
  },
  {
   "cell_type": "code",
   "execution_count": 192,
   "id": "5e7908c3",
   "metadata": {},
   "outputs": [
    {
     "name": "stdout",
     "output_type": "stream",
     "text": [
      "(array([1, 2, 3]), array([2, 3, 3]))\n"
     ]
    }
   ],
   "source": [
    "# numpy.nonzero(a) Return the indices of the elements that are non-zero.\n",
    "arr2 = np.array([[0 ,0 ,0, 1],[2, 3, 4, 1],[0, 1, 2, 4],[3, 3, 2, 4] ])\n",
    "\n",
    "print(np.nonzero(arr2>3))"
   ]
  },
  {
   "cell_type": "code",
   "execution_count": 225,
   "id": "6f9ba727",
   "metadata": {},
   "outputs": [
    {
     "data": {
      "text/plain": [
       "array([1, 2, 3, 1, 1, 2, 3, 3, 2])"
      ]
     },
     "execution_count": 225,
     "metadata": {},
     "output_type": "execute_result"
    }
   ],
   "source": [
    "# numpy.extract(condition, arr) Return the elements of an array that satisfy some condition.\n",
    "arr2 = np.array([[0 ,0 ,0, 1],[2, 3, 4, 1],[0, 1, 2, 4],[3, 3, 2, 4] ])\n",
    "\n",
    "np.extract(arr2-2>1,arr2)\n",
    "np.extract(np.mod(arr2,4)!=0,arr2)\n",
    "\n"
   ]
  },
  {
   "cell_type": "code",
   "execution_count": null,
   "id": "c3dc4b4e",
   "metadata": {},
   "outputs": [],
   "source": []
  },
  {
   "cell_type": "code",
   "execution_count": null,
   "id": "0928ebdc",
   "metadata": {},
   "outputs": [],
   "source": []
  }
 ],
 "metadata": {
  "kernelspec": {
   "display_name": "Python 3 (ipykernel)",
   "language": "python",
   "name": "python3"
  },
  "language_info": {
   "codemirror_mode": {
    "name": "ipython",
    "version": 3
   },
   "file_extension": ".py",
   "mimetype": "text/x-python",
   "name": "python",
   "nbconvert_exporter": "python",
   "pygments_lexer": "ipython3",
   "version": "3.9.12"
  }
 },
 "nbformat": 4,
 "nbformat_minor": 5
}
