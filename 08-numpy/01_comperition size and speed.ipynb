{
 "cells": [
  {
   "cell_type": "markdown",
   "id": "6010c0ed",
   "metadata": {},
   "source": [
    "# calculate size "
   ]
  },
  {
   "cell_type": "code",
   "execution_count": 54,
   "id": "6c408705",
   "metadata": {},
   "outputs": [],
   "source": [
    "import numpy as np #numerical python\n",
    "from sys import getsizeof as size"
   ]
  },
  {
   "cell_type": "code",
   "execution_count": 55,
   "id": "42d75fc7",
   "metadata": {},
   "outputs": [
    {
     "data": {
      "text/plain": [
       "120"
      ]
     },
     "execution_count": 55,
     "metadata": {},
     "output_type": "execute_result"
    }
   ],
   "source": [
    "pyList = [1,2,3]\n",
    "size(pyList) #byte"
   ]
  },
  {
   "cell_type": "code",
   "execution_count": 56,
   "id": "1d549de1",
   "metadata": {},
   "outputs": [
    {
     "data": {
      "text/plain": [
       "28"
      ]
     },
     "execution_count": 56,
     "metadata": {},
     "output_type": "execute_result"
    }
   ],
   "source": [
    "size(pyList[0]) #each element size"
   ]
  },
  {
   "cell_type": "code",
   "execution_count": 57,
   "id": "9138c2fd",
   "metadata": {},
   "outputs": [],
   "source": [
    "# full pyList size ==> 28*3 + 120 = 204 byte"
   ]
  },
  {
   "cell_type": "code",
   "execution_count": 58,
   "id": "ecac0518",
   "metadata": {},
   "outputs": [
    {
     "data": {
      "text/plain": [
       "110"
      ]
     },
     "execution_count": 58,
     "metadata": {},
     "output_type": "execute_result"
    }
   ],
   "source": [
    "npList = np.array([1,2,3],np.int16)\n",
    "size(npList) # full npList size because has no refrence "
   ]
  },
  {
   "cell_type": "markdown",
   "id": "34c6e345",
   "metadata": {},
   "source": [
    "# calculate runtime speed"
   ]
  },
  {
   "cell_type": "code",
   "execution_count": 1,
   "id": "055b86fe",
   "metadata": {},
   "outputs": [],
   "source": [
    "import time\n",
    "count = 10000000"
   ]
  },
  {
   "cell_type": "code",
   "execution_count": 103,
   "id": "4e45d771",
   "metadata": {},
   "outputs": [
    {
     "data": {
      "text/plain": [
       "2.184999857490766e-06"
      ]
     },
     "execution_count": 103,
     "metadata": {},
     "output_type": "execute_result"
    }
   ],
   "source": [
    "from timeit import Timer\n",
    "\n",
    "def calculate_py_speed_time():\n",
    "    pyList = range(count)\n",
    "    pyList = [pyList[i]*pyList[i] for i in pyList]\n",
    "    return pyList\n",
    "\n",
    "\n",
    "pyTM = Timer(\"calculate_py_speed_time\" , 'from __main__ import calculate_py_speed_time')\n",
    "pyTM = pyTM.timeit(10)\n",
    "pyTM"
   ]
  },
  {
   "cell_type": "code",
   "execution_count": 74,
   "id": "b929ebde",
   "metadata": {},
   "outputs": [
    {
     "data": {
      "text/plain": [
       "0.0914452075958252"
      ]
     },
     "execution_count": 74,
     "metadata": {},
     "output_type": "execute_result"
    }
   ],
   "source": [
    "npT1 = time.time()\n",
    "npList = np.arange(count)\n",
    "npList = npList*npList\n",
    "npT2 = time.time()\n",
    "npTM = npT2 - npT1\n",
    "npTM"
   ]
  },
  {
   "cell_type": "code",
   "execution_count": 76,
   "id": "38f7ee33",
   "metadata": {},
   "outputs": [
    {
     "data": {
      "text/plain": [
       "2.292082815833001e-05"
      ]
     },
     "execution_count": 76,
     "metadata": {},
     "output_type": "execute_result"
    }
   ],
   "source": [
    "pyTM / npTM"
   ]
  },
  {
   "cell_type": "code",
   "execution_count": null,
   "id": "957ec8ac",
   "metadata": {},
   "outputs": [],
   "source": []
  },
  {
   "cell_type": "code",
   "execution_count": null,
   "id": "d4cae4f3",
   "metadata": {},
   "outputs": [],
   "source": []
  },
  {
   "cell_type": "code",
   "execution_count": null,
   "id": "fb366553",
   "metadata": {},
   "outputs": [],
   "source": []
  }
 ],
 "metadata": {
  "kernelspec": {
   "display_name": "Python 3 (ipykernel)",
   "language": "python",
   "name": "python3"
  },
  "language_info": {
   "codemirror_mode": {
    "name": "ipython",
    "version": 3
   },
   "file_extension": ".py",
   "mimetype": "text/x-python",
   "name": "python",
   "nbconvert_exporter": "python",
   "pygments_lexer": "ipython3",
   "version": "3.9.12"
  }
 },
 "nbformat": 4,
 "nbformat_minor": 5
}
