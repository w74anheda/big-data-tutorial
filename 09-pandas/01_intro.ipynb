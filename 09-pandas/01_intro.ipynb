{
 "cells": [
  {
   "cell_type": "code",
   "execution_count": 89,
   "id": "bc623a22",
   "metadata": {},
   "outputs": [],
   "source": [
    "import pandas as pd\n",
    "import numpy as np\n",
    "from scipy import stats\n",
    "import statsmodels.api as sm\n",
    "import warnings\n",
    "warnings.filterwarnings('ignore')"
   ]
  },
  {
   "cell_type": "code",
   "execution_count": 17,
   "id": "32b7f3e8",
   "metadata": {
    "scrolled": true
   },
   "outputs": [
    {
     "name": "stdout",
     "output_type": "stream",
     "text": [
      "10000\n"
     ]
    },
    {
     "data": {
      "text/html": [
       "<div>\n",
       "<style scoped>\n",
       "    .dataframe tbody tr th:only-of-type {\n",
       "        vertical-align: middle;\n",
       "    }\n",
       "\n",
       "    .dataframe tbody tr th {\n",
       "        vertical-align: top;\n",
       "    }\n",
       "\n",
       "    .dataframe thead th {\n",
       "        text-align: right;\n",
       "    }\n",
       "</style>\n",
       "<table border=\"1\" class=\"dataframe\">\n",
       "  <thead>\n",
       "    <tr style=\"text-align: right;\">\n",
       "      <th></th>\n",
       "      <th>Gender</th>\n",
       "      <th>Height</th>\n",
       "      <th>Weight</th>\n",
       "    </tr>\n",
       "  </thead>\n",
       "  <tbody>\n",
       "    <tr>\n",
       "      <th>0</th>\n",
       "      <td>Male</td>\n",
       "      <td>73.8750</td>\n",
       "      <td>241</td>\n",
       "    </tr>\n",
       "    <tr>\n",
       "      <th>1</th>\n",
       "      <td>Male</td>\n",
       "      <td>68.8125</td>\n",
       "      <td>162</td>\n",
       "    </tr>\n",
       "    <tr>\n",
       "      <th>2</th>\n",
       "      <td>Male</td>\n",
       "      <td>74.1250</td>\n",
       "      <td>212</td>\n",
       "    </tr>\n",
       "    <tr>\n",
       "      <th>3</th>\n",
       "      <td>Male</td>\n",
       "      <td>71.7500</td>\n",
       "      <td>220</td>\n",
       "    </tr>\n",
       "    <tr>\n",
       "      <th>4</th>\n",
       "      <td>Male</td>\n",
       "      <td>69.8750</td>\n",
       "      <td>206</td>\n",
       "    </tr>\n",
       "  </tbody>\n",
       "</table>\n",
       "</div>"
      ],
      "text/plain": [
       "  Gender   Height  Weight\n",
       "0   Male  73.8750     241\n",
       "1   Male  68.8125     162\n",
       "2   Male  74.1250     212\n",
       "3   Male  71.7500     220\n",
       "4   Male  69.8750     206"
      ]
     },
     "execution_count": 17,
     "metadata": {},
     "output_type": "execute_result"
    }
   ],
   "source": [
    "DF = pd.read_csv('../datasets/weight-height.csv',dtype={'Height':np.float16})\n",
    "DF['Gender'] = DF['Gender'].astype('str')\n",
    "DF['Weight'] = DF['Weight'].astype('int')\n",
    "print(len(DF))\n",
    "DF.head()"
   ]
  },
  {
   "cell_type": "code",
   "execution_count": 110,
   "id": "e35ff3e0",
   "metadata": {},
   "outputs": [
    {
     "data": {
      "text/html": [
       "<div>\n",
       "<style scoped>\n",
       "    .dataframe tbody tr th:only-of-type {\n",
       "        vertical-align: middle;\n",
       "    }\n",
       "\n",
       "    .dataframe tbody tr th {\n",
       "        vertical-align: top;\n",
       "    }\n",
       "\n",
       "    .dataframe thead th {\n",
       "        text-align: right;\n",
       "    }\n",
       "</style>\n",
       "<table border=\"1\" class=\"dataframe\">\n",
       "  <thead>\n",
       "    <tr style=\"text-align: right;\">\n",
       "      <th></th>\n",
       "      <th>Gender</th>\n",
       "      <th>Height</th>\n",
       "      <th>Weight</th>\n",
       "    </tr>\n",
       "  </thead>\n",
       "  <tbody>\n",
       "    <tr>\n",
       "      <th>10</th>\n",
       "      <td>Male</td>\n",
       "      <td>71.1875</td>\n",
       "      <td>186</td>\n",
       "    </tr>\n",
       "    <tr>\n",
       "      <th>11</th>\n",
       "      <td>Male</td>\n",
       "      <td>71.6250</td>\n",
       "      <td>213</td>\n",
       "    </tr>\n",
       "    <tr>\n",
       "      <th>12</th>\n",
       "      <td>Male</td>\n",
       "      <td>64.7500</td>\n",
       "      <td>167</td>\n",
       "    </tr>\n",
       "    <tr>\n",
       "      <th>13</th>\n",
       "      <td>Male</td>\n",
       "      <td>69.3125</td>\n",
       "      <td>189</td>\n",
       "    </tr>\n",
       "    <tr>\n",
       "      <th>14</th>\n",
       "      <td>Male</td>\n",
       "      <td>69.2500</td>\n",
       "      <td>186</td>\n",
       "    </tr>\n",
       "    <tr>\n",
       "      <th>...</th>\n",
       "      <td>...</td>\n",
       "      <td>...</td>\n",
       "      <td>...</td>\n",
       "    </tr>\n",
       "    <tr>\n",
       "      <th>9995</th>\n",
       "      <td>Female</td>\n",
       "      <td>66.1875</td>\n",
       "      <td>136</td>\n",
       "    </tr>\n",
       "    <tr>\n",
       "      <th>9996</th>\n",
       "      <td>Female</td>\n",
       "      <td>67.0625</td>\n",
       "      <td>170</td>\n",
       "    </tr>\n",
       "    <tr>\n",
       "      <th>9997</th>\n",
       "      <td>Female</td>\n",
       "      <td>63.8750</td>\n",
       "      <td>128</td>\n",
       "    </tr>\n",
       "    <tr>\n",
       "      <th>9998</th>\n",
       "      <td>Female</td>\n",
       "      <td>69.0625</td>\n",
       "      <td>163</td>\n",
       "    </tr>\n",
       "    <tr>\n",
       "      <th>9999</th>\n",
       "      <td>Female</td>\n",
       "      <td>61.9375</td>\n",
       "      <td>113</td>\n",
       "    </tr>\n",
       "  </tbody>\n",
       "</table>\n",
       "<p>9990 rows × 3 columns</p>\n",
       "</div>"
      ],
      "text/plain": [
       "      Gender   Height  Weight\n",
       "10      Male  71.1875     186\n",
       "11      Male  71.6250     213\n",
       "12      Male  64.7500     167\n",
       "13      Male  69.3125     189\n",
       "14      Male  69.2500     186\n",
       "...      ...      ...     ...\n",
       "9995  Female  66.1875     136\n",
       "9996  Female  67.0625     170\n",
       "9997  Female  63.8750     128\n",
       "9998  Female  69.0625     163\n",
       "9999  Female  61.9375     113\n",
       "\n",
       "[9990 rows x 3 columns]"
      ]
     },
     "execution_count": 110,
     "metadata": {},
     "output_type": "execute_result"
    }
   ],
   "source": [
    "DF.drop(DF.index[0:10])"
   ]
  },
  {
   "cell_type": "code",
   "execution_count": 97,
   "id": "478ecdfa",
   "metadata": {},
   "outputs": [
    {
     "data": {
      "text/html": [
       "<div>\n",
       "<style scoped>\n",
       "    .dataframe tbody tr th:only-of-type {\n",
       "        vertical-align: middle;\n",
       "    }\n",
       "\n",
       "    .dataframe tbody tr th {\n",
       "        vertical-align: top;\n",
       "    }\n",
       "\n",
       "    .dataframe thead th {\n",
       "        text-align: right;\n",
       "    }\n",
       "</style>\n",
       "<table border=\"1\" class=\"dataframe\">\n",
       "  <thead>\n",
       "    <tr style=\"text-align: right;\">\n",
       "      <th></th>\n",
       "      <th>Gender</th>\n",
       "      <th>Height</th>\n",
       "      <th>Weight</th>\n",
       "    </tr>\n",
       "  </thead>\n",
       "  <tbody>\n",
       "    <tr>\n",
       "      <th>0</th>\n",
       "      <td>Male</td>\n",
       "      <td>73.8750</td>\n",
       "      <td>241.0</td>\n",
       "    </tr>\n",
       "    <tr>\n",
       "      <th>1</th>\n",
       "      <td>Male</td>\n",
       "      <td>68.8125</td>\n",
       "      <td>162.0</td>\n",
       "    </tr>\n",
       "    <tr>\n",
       "      <th>2</th>\n",
       "      <td>Male</td>\n",
       "      <td>74.1250</td>\n",
       "      <td>212.0</td>\n",
       "    </tr>\n",
       "    <tr>\n",
       "      <th>3</th>\n",
       "      <td>Male</td>\n",
       "      <td>71.7500</td>\n",
       "      <td>220.0</td>\n",
       "    </tr>\n",
       "    <tr>\n",
       "      <th>4</th>\n",
       "      <td>Male</td>\n",
       "      <td>69.8750</td>\n",
       "      <td>206.0</td>\n",
       "    </tr>\n",
       "    <tr>\n",
       "      <th>...</th>\n",
       "      <td>...</td>\n",
       "      <td>...</td>\n",
       "      <td>...</td>\n",
       "    </tr>\n",
       "    <tr>\n",
       "      <th>9997</th>\n",
       "      <td>Female</td>\n",
       "      <td>63.8750</td>\n",
       "      <td>128.0</td>\n",
       "    </tr>\n",
       "    <tr>\n",
       "      <th>9998</th>\n",
       "      <td>Female</td>\n",
       "      <td>69.0625</td>\n",
       "      <td>163.0</td>\n",
       "    </tr>\n",
       "    <tr>\n",
       "      <th>9999</th>\n",
       "      <td>Female</td>\n",
       "      <td>61.9375</td>\n",
       "      <td>113.0</td>\n",
       "    </tr>\n",
       "    <tr>\n",
       "      <th>10000</th>\n",
       "      <td>Aaa</td>\n",
       "      <td>NaN</td>\n",
       "      <td>NaN</td>\n",
       "    </tr>\n",
       "    <tr>\n",
       "      <th>10001</th>\n",
       "      <td>Bbb</td>\n",
       "      <td>NaN</td>\n",
       "      <td>NaN</td>\n",
       "    </tr>\n",
       "  </tbody>\n",
       "</table>\n",
       "<p>10001 rows × 3 columns</p>\n",
       "</div>"
      ],
      "text/plain": [
       "       Gender   Height  Weight\n",
       "0        Male  73.8750   241.0\n",
       "1        Male  68.8125   162.0\n",
       "2        Male  74.1250   212.0\n",
       "3        Male  71.7500   220.0\n",
       "4        Male  69.8750   206.0\n",
       "...       ...      ...     ...\n",
       "9997   Female  63.8750   128.0\n",
       "9998   Female  69.0625   163.0\n",
       "9999   Female  61.9375   113.0\n",
       "10000     Aaa      NaN     NaN\n",
       "10001     Bbb      NaN     NaN\n",
       "\n",
       "[10001 rows x 3 columns]"
      ]
     },
     "execution_count": 97,
     "metadata": {},
     "output_type": "execute_result"
    }
   ],
   "source": [
    "DF.append([\n",
    "    {'Gender':'Aaa'},\n",
    "    {'Gender':'Bbb'},\n",
    "],ignore_index=True).drop(1000)"
   ]
  },
  {
   "cell_type": "code",
   "execution_count": null,
   "id": "c2aad8ac",
   "metadata": {},
   "outputs": [],
   "source": []
  },
  {
   "cell_type": "code",
   "execution_count": 11,
   "id": "ada4c711",
   "metadata": {
    "scrolled": true
   },
   "outputs": [
    {
     "name": "stdout",
     "output_type": "stream",
     "text": [
      "<class 'pandas.core.frame.DataFrame'>\n",
      "RangeIndex: 10000 entries, 0 to 9999\n",
      "Data columns (total 3 columns):\n",
      " #   Column  Non-Null Count  Dtype  \n",
      "---  ------  --------------  -----  \n",
      " 0   Gender  10000 non-null  object \n",
      " 1   Height  10000 non-null  float16\n",
      " 2   Weight  10000 non-null  int64  \n",
      "dtypes: float16(1), int64(1), object(1)\n",
      "memory usage: 175.9+ KB\n"
     ]
    }
   ],
   "source": [
    "DF.info()"
   ]
  },
  {
   "cell_type": "code",
   "execution_count": 5,
   "id": "bae3047e",
   "metadata": {},
   "outputs": [
    {
     "data": {
      "text/html": [
       "<div>\n",
       "<style scoped>\n",
       "    .dataframe tbody tr th:only-of-type {\n",
       "        vertical-align: middle;\n",
       "    }\n",
       "\n",
       "    .dataframe tbody tr th {\n",
       "        vertical-align: top;\n",
       "    }\n",
       "\n",
       "    .dataframe thead th {\n",
       "        text-align: right;\n",
       "    }\n",
       "</style>\n",
       "<table border=\"1\" class=\"dataframe\">\n",
       "  <thead>\n",
       "    <tr style=\"text-align: right;\">\n",
       "      <th></th>\n",
       "      <th>name</th>\n",
       "      <th>age</th>\n",
       "      <th>height</th>\n",
       "    </tr>\n",
       "  </thead>\n",
       "  <tbody>\n",
       "    <tr>\n",
       "      <th>0</th>\n",
       "      <td>masoud</td>\n",
       "      <td>27</td>\n",
       "      <td>172.0</td>\n",
       "    </tr>\n",
       "    <tr>\n",
       "      <th>1</th>\n",
       "      <td>mostafa</td>\n",
       "      <td>25</td>\n",
       "      <td>180.0</td>\n",
       "    </tr>\n",
       "    <tr>\n",
       "      <th>2</th>\n",
       "      <td>younes</td>\n",
       "      <td>19</td>\n",
       "      <td>175.0</td>\n",
       "    </tr>\n",
       "  </tbody>\n",
       "</table>\n",
       "</div>"
      ],
      "text/plain": [
       "      name  age  height\n",
       "0   masoud   27   172.0\n",
       "1  mostafa   25   180.0\n",
       "2   younes   19   175.0"
      ]
     },
     "execution_count": 5,
     "metadata": {},
     "output_type": "execute_result"
    }
   ],
   "source": [
    "df = pd.DataFrame(\n",
    "    {\n",
    "        'name' : ['masoud','mostafa','younes'],\n",
    "        'age'  : [27,25,19],\n",
    "        'height': [172,180,175]\n",
    "    }\n",
    ").astype(dtype={'height':np.float16})\n",
    "\n",
    "df"
   ]
  },
  {
   "cell_type": "code",
   "execution_count": 6,
   "id": "1049cb37",
   "metadata": {},
   "outputs": [
    {
     "data": {
      "text/plain": [
       "pandas.core.series.Series"
      ]
     },
     "execution_count": 6,
     "metadata": {},
     "output_type": "execute_result"
    }
   ],
   "source": [
    "type( df['name']) #series"
   ]
  },
  {
   "cell_type": "code",
   "execution_count": 7,
   "id": "9d680a47",
   "metadata": {},
   "outputs": [
    {
     "data": {
      "text/plain": [
       "0    65\n",
       "1    90\n",
       "2    70\n",
       "Name: weight, dtype: int16"
      ]
     },
     "execution_count": 7,
     "metadata": {},
     "output_type": "execute_result"
    }
   ],
   "source": [
    "pd.Series([65,90,70],name='weight',dtype=np.int16)"
   ]
  },
  {
   "cell_type": "code",
   "execution_count": 8,
   "id": "8040fbac",
   "metadata": {},
   "outputs": [
    {
     "data": {
      "text/html": [
       "<div>\n",
       "<style scoped>\n",
       "    .dataframe tbody tr th:only-of-type {\n",
       "        vertical-align: middle;\n",
       "    }\n",
       "\n",
       "    .dataframe tbody tr th {\n",
       "        vertical-align: top;\n",
       "    }\n",
       "\n",
       "    .dataframe thead th {\n",
       "        text-align: right;\n",
       "    }\n",
       "</style>\n",
       "<table border=\"1\" class=\"dataframe\">\n",
       "  <thead>\n",
       "    <tr style=\"text-align: right;\">\n",
       "      <th></th>\n",
       "      <th>name</th>\n",
       "      <th>age</th>\n",
       "      <th>height</th>\n",
       "    </tr>\n",
       "  </thead>\n",
       "  <tbody>\n",
       "    <tr>\n",
       "      <th>count</th>\n",
       "      <td>3</td>\n",
       "      <td>3.000000</td>\n",
       "      <td>3.000000</td>\n",
       "    </tr>\n",
       "    <tr>\n",
       "      <th>unique</th>\n",
       "      <td>3</td>\n",
       "      <td>NaN</td>\n",
       "      <td>NaN</td>\n",
       "    </tr>\n",
       "    <tr>\n",
       "      <th>top</th>\n",
       "      <td>masoud</td>\n",
       "      <td>NaN</td>\n",
       "      <td>NaN</td>\n",
       "    </tr>\n",
       "    <tr>\n",
       "      <th>freq</th>\n",
       "      <td>1</td>\n",
       "      <td>NaN</td>\n",
       "      <td>NaN</td>\n",
       "    </tr>\n",
       "    <tr>\n",
       "      <th>mean</th>\n",
       "      <td>NaN</td>\n",
       "      <td>23.666667</td>\n",
       "      <td>175.625000</td>\n",
       "    </tr>\n",
       "    <tr>\n",
       "      <th>std</th>\n",
       "      <td>NaN</td>\n",
       "      <td>4.163332</td>\n",
       "      <td>4.042969</td>\n",
       "    </tr>\n",
       "    <tr>\n",
       "      <th>min</th>\n",
       "      <td>NaN</td>\n",
       "      <td>19.000000</td>\n",
       "      <td>172.000000</td>\n",
       "    </tr>\n",
       "    <tr>\n",
       "      <th>25%</th>\n",
       "      <td>NaN</td>\n",
       "      <td>22.000000</td>\n",
       "      <td>173.500000</td>\n",
       "    </tr>\n",
       "    <tr>\n",
       "      <th>50%</th>\n",
       "      <td>NaN</td>\n",
       "      <td>25.000000</td>\n",
       "      <td>175.000000</td>\n",
       "    </tr>\n",
       "    <tr>\n",
       "      <th>75%</th>\n",
       "      <td>NaN</td>\n",
       "      <td>26.000000</td>\n",
       "      <td>177.500000</td>\n",
       "    </tr>\n",
       "    <tr>\n",
       "      <th>max</th>\n",
       "      <td>NaN</td>\n",
       "      <td>27.000000</td>\n",
       "      <td>180.000000</td>\n",
       "    </tr>\n",
       "  </tbody>\n",
       "</table>\n",
       "</div>"
      ],
      "text/plain": [
       "          name        age      height\n",
       "count        3   3.000000    3.000000\n",
       "unique       3        NaN         NaN\n",
       "top     masoud        NaN         NaN\n",
       "freq         1        NaN         NaN\n",
       "mean       NaN  23.666667  175.625000\n",
       "std        NaN   4.163332    4.042969\n",
       "min        NaN  19.000000  172.000000\n",
       "25%        NaN  22.000000  173.500000\n",
       "50%        NaN  25.000000  175.000000\n",
       "75%        NaN  26.000000  177.500000\n",
       "max        NaN  27.000000  180.000000"
      ]
     },
     "execution_count": 8,
     "metadata": {},
     "output_type": "execute_result"
    }
   ],
   "source": [
    "df['age'].sum()\n",
    "df['age'].max()\n",
    "df['age'].min()\n",
    "df['age'].mean()\n",
    "df['age'].std()\n",
    "df['age'].mode()\n",
    "df.describe(include='all') # all, number, object"
   ]
  },
  {
   "cell_type": "code",
   "execution_count": 9,
   "id": "e60ef004",
   "metadata": {},
   "outputs": [
    {
     "data": {
      "text/plain": [
       "count    500.000000\n",
       "mean       0.021256\n",
       "std        1.017451\n",
       "min       -3.523896\n",
       "25%       -0.657319\n",
       "50%        0.004828\n",
       "75%        0.662899\n",
       "max        2.652283\n",
       "Name: views, dtype: float64"
      ]
     },
     "execution_count": 9,
     "metadata": {},
     "output_type": "execute_result"
    }
   ],
   "source": [
    "sample = pd.Series(np.random.randn(1000),name='views')\n",
    "sample[::2] = np.nan\n",
    "sample.describe() # auto skipped nan"
   ]
  },
  {
   "cell_type": "code",
   "execution_count": 10,
   "id": "4d2545e4",
   "metadata": {},
   "outputs": [
    {
     "data": {
      "text/plain": [
       "2"
      ]
     },
     "execution_count": 10,
     "metadata": {},
     "output_type": "execute_result"
    }
   ],
   "source": [
    "sample.argmax()\n",
    "sample.argmin()\n",
    "df['age'].argmin()\n",
    "df['age'].idxmin()"
   ]
  },
  {
   "cell_type": "code",
   "execution_count": 11,
   "id": "3f2375c3",
   "metadata": {},
   "outputs": [
    {
     "name": "stdout",
     "output_type": "stream",
     "text": [
      "score    2\n",
      "views    2\n",
      "dtype: int64 \n",
      "\n",
      "0    score\n",
      "1    views\n",
      "2    score\n",
      "3    score\n",
      "4    score\n",
      "dtype: object\n"
     ]
    },
    {
     "data": {
      "text/html": [
       "<div>\n",
       "<style scoped>\n",
       "    .dataframe tbody tr th:only-of-type {\n",
       "        vertical-align: middle;\n",
       "    }\n",
       "\n",
       "    .dataframe tbody tr th {\n",
       "        vertical-align: top;\n",
       "    }\n",
       "\n",
       "    .dataframe thead th {\n",
       "        text-align: right;\n",
       "    }\n",
       "</style>\n",
       "<table border=\"1\" class=\"dataframe\">\n",
       "  <thead>\n",
       "    <tr style=\"text-align: right;\">\n",
       "      <th></th>\n",
       "      <th>score</th>\n",
       "      <th>views</th>\n",
       "    </tr>\n",
       "  </thead>\n",
       "  <tbody>\n",
       "    <tr>\n",
       "      <th>0</th>\n",
       "      <td>-0.358169</td>\n",
       "      <td>-0.945247</td>\n",
       "    </tr>\n",
       "    <tr>\n",
       "      <th>1</th>\n",
       "      <td>-0.745481</td>\n",
       "      <td>-0.000188</td>\n",
       "    </tr>\n",
       "    <tr>\n",
       "      <th>2</th>\n",
       "      <td>0.761861</td>\n",
       "      <td>0.454794</td>\n",
       "    </tr>\n",
       "    <tr>\n",
       "      <th>3</th>\n",
       "      <td>0.693647</td>\n",
       "      <td>-1.060073</td>\n",
       "    </tr>\n",
       "    <tr>\n",
       "      <th>4</th>\n",
       "      <td>0.730236</td>\n",
       "      <td>0.412697</td>\n",
       "    </tr>\n",
       "  </tbody>\n",
       "</table>\n",
       "</div>"
      ],
      "text/plain": [
       "      score     views\n",
       "0 -0.358169 -0.945247\n",
       "1 -0.745481 -0.000188\n",
       "2  0.761861  0.454794\n",
       "3  0.693647 -1.060073\n",
       "4  0.730236  0.412697"
      ]
     },
     "execution_count": 11,
     "metadata": {},
     "output_type": "execute_result"
    }
   ],
   "source": [
    "sample = pd.DataFrame(np.random.randn(5,2),columns=['score','views'])\n",
    "\n",
    "print(sample.idxmax(),'\\n')\n",
    "print(sample.idxmax(axis=1))\n",
    "\n",
    "sample\n"
   ]
  },
  {
   "cell_type": "code",
   "execution_count": 27,
   "id": "a3fddee8",
   "metadata": {},
   "outputs": [
    {
     "data": {
      "text/html": [
       "<div>\n",
       "<style scoped>\n",
       "    .dataframe tbody tr th:only-of-type {\n",
       "        vertical-align: middle;\n",
       "    }\n",
       "\n",
       "    .dataframe tbody tr th {\n",
       "        vertical-align: top;\n",
       "    }\n",
       "\n",
       "    .dataframe thead th {\n",
       "        text-align: right;\n",
       "    }\n",
       "</style>\n",
       "<table border=\"1\" class=\"dataframe\">\n",
       "  <thead>\n",
       "    <tr style=\"text-align: right;\">\n",
       "      <th></th>\n",
       "      <th>distance</th>\n",
       "      <th>cab_type</th>\n",
       "      <th>time_stamp</th>\n",
       "      <th>destination</th>\n",
       "      <th>source</th>\n",
       "      <th>price</th>\n",
       "      <th>surge_multiplier</th>\n",
       "      <th>id</th>\n",
       "      <th>product_id</th>\n",
       "      <th>name</th>\n",
       "    </tr>\n",
       "  </thead>\n",
       "  <tbody>\n",
       "    <tr>\n",
       "      <th>0</th>\n",
       "      <td>0.44</td>\n",
       "      <td>Lyft</td>\n",
       "      <td>1544952607890</td>\n",
       "      <td>North Station</td>\n",
       "      <td>Haymarket Square</td>\n",
       "      <td>5.0</td>\n",
       "      <td>1.0</td>\n",
       "      <td>424553bb-7174-41ea-aeb4-fe06d4f4b9d7</td>\n",
       "      <td>lyft_line</td>\n",
       "      <td>Shared</td>\n",
       "    </tr>\n",
       "    <tr>\n",
       "      <th>1</th>\n",
       "      <td>0.44</td>\n",
       "      <td>Lyft</td>\n",
       "      <td>1543284023677</td>\n",
       "      <td>North Station</td>\n",
       "      <td>Haymarket Square</td>\n",
       "      <td>11.0</td>\n",
       "      <td>1.0</td>\n",
       "      <td>4bd23055-6827-41c6-b23b-3c491f24e74d</td>\n",
       "      <td>lyft_premier</td>\n",
       "      <td>Lux</td>\n",
       "    </tr>\n",
       "    <tr>\n",
       "      <th>2</th>\n",
       "      <td>0.44</td>\n",
       "      <td>Lyft</td>\n",
       "      <td>1543366822198</td>\n",
       "      <td>North Station</td>\n",
       "      <td>Haymarket Square</td>\n",
       "      <td>7.0</td>\n",
       "      <td>1.0</td>\n",
       "      <td>981a3613-77af-4620-a42a-0c0866077d1e</td>\n",
       "      <td>lyft</td>\n",
       "      <td>Lyft</td>\n",
       "    </tr>\n",
       "    <tr>\n",
       "      <th>3</th>\n",
       "      <td>0.44</td>\n",
       "      <td>Lyft</td>\n",
       "      <td>1543553582749</td>\n",
       "      <td>North Station</td>\n",
       "      <td>Haymarket Square</td>\n",
       "      <td>26.0</td>\n",
       "      <td>1.0</td>\n",
       "      <td>c2d88af2-d278-4bfd-a8d0-29ca77cc5512</td>\n",
       "      <td>lyft_luxsuv</td>\n",
       "      <td>Lux Black XL</td>\n",
       "    </tr>\n",
       "    <tr>\n",
       "      <th>4</th>\n",
       "      <td>0.44</td>\n",
       "      <td>Lyft</td>\n",
       "      <td>1543463360223</td>\n",
       "      <td>North Station</td>\n",
       "      <td>Haymarket Square</td>\n",
       "      <td>9.0</td>\n",
       "      <td>1.0</td>\n",
       "      <td>e0126e1f-8ca9-4f2e-82b3-50505a09db9a</td>\n",
       "      <td>lyft_plus</td>\n",
       "      <td>Lyft XL</td>\n",
       "    </tr>\n",
       "    <tr>\n",
       "      <th>...</th>\n",
       "      <td>...</td>\n",
       "      <td>...</td>\n",
       "      <td>...</td>\n",
       "      <td>...</td>\n",
       "      <td>...</td>\n",
       "      <td>...</td>\n",
       "      <td>...</td>\n",
       "      <td>...</td>\n",
       "      <td>...</td>\n",
       "      <td>...</td>\n",
       "    </tr>\n",
       "    <tr>\n",
       "      <th>693066</th>\n",
       "      <td>1.00</td>\n",
       "      <td>Uber</td>\n",
       "      <td>1543708385534</td>\n",
       "      <td>North End</td>\n",
       "      <td>West End</td>\n",
       "      <td>13.0</td>\n",
       "      <td>1.0</td>\n",
       "      <td>616d3611-1820-450a-9845-a9ff304a4842</td>\n",
       "      <td>6f72dfc5-27f1-42e8-84db-ccc7a75f6969</td>\n",
       "      <td>UberXL</td>\n",
       "    </tr>\n",
       "    <tr>\n",
       "      <th>693067</th>\n",
       "      <td>1.00</td>\n",
       "      <td>Uber</td>\n",
       "      <td>1543708385534</td>\n",
       "      <td>North End</td>\n",
       "      <td>West End</td>\n",
       "      <td>9.5</td>\n",
       "      <td>1.0</td>\n",
       "      <td>633a3fc3-1f86-4b9e-9d48-2b7132112341</td>\n",
       "      <td>55c66225-fbe7-4fd5-9072-eab1ece5e23e</td>\n",
       "      <td>UberX</td>\n",
       "    </tr>\n",
       "    <tr>\n",
       "      <th>693068</th>\n",
       "      <td>1.00</td>\n",
       "      <td>Uber</td>\n",
       "      <td>1543708385534</td>\n",
       "      <td>North End</td>\n",
       "      <td>West End</td>\n",
       "      <td>NaN</td>\n",
       "      <td>1.0</td>\n",
       "      <td>64d451d0-639f-47a4-9b7c-6fd92fbd264f</td>\n",
       "      <td>8cf7e821-f0d3-49c6-8eba-e679c0ebcf6a</td>\n",
       "      <td>Taxi</td>\n",
       "    </tr>\n",
       "    <tr>\n",
       "      <th>693069</th>\n",
       "      <td>1.00</td>\n",
       "      <td>Uber</td>\n",
       "      <td>1543708385534</td>\n",
       "      <td>North End</td>\n",
       "      <td>West End</td>\n",
       "      <td>27.0</td>\n",
       "      <td>1.0</td>\n",
       "      <td>727e5f07-a96b-4ad1-a2c7-9abc3ad55b4e</td>\n",
       "      <td>6d318bcc-22a3-4af6-bddd-b409bfce1546</td>\n",
       "      <td>Black SUV</td>\n",
       "    </tr>\n",
       "    <tr>\n",
       "      <th>693070</th>\n",
       "      <td>1.00</td>\n",
       "      <td>Uber</td>\n",
       "      <td>1543708385534</td>\n",
       "      <td>North End</td>\n",
       "      <td>West End</td>\n",
       "      <td>10.0</td>\n",
       "      <td>1.0</td>\n",
       "      <td>e7fdc087-fe86-40a5-a3c3-3b2a8badcbda</td>\n",
       "      <td>997acbb5-e102-41e1-b155-9df7de0a73f2</td>\n",
       "      <td>UberPool</td>\n",
       "    </tr>\n",
       "  </tbody>\n",
       "</table>\n",
       "<p>693071 rows × 10 columns</p>\n",
       "</div>"
      ],
      "text/plain": [
       "        distance cab_type     time_stamp    destination            source  \\\n",
       "0           0.44     Lyft  1544952607890  North Station  Haymarket Square   \n",
       "1           0.44     Lyft  1543284023677  North Station  Haymarket Square   \n",
       "2           0.44     Lyft  1543366822198  North Station  Haymarket Square   \n",
       "3           0.44     Lyft  1543553582749  North Station  Haymarket Square   \n",
       "4           0.44     Lyft  1543463360223  North Station  Haymarket Square   \n",
       "...          ...      ...            ...            ...               ...   \n",
       "693066      1.00     Uber  1543708385534      North End          West End   \n",
       "693067      1.00     Uber  1543708385534      North End          West End   \n",
       "693068      1.00     Uber  1543708385534      North End          West End   \n",
       "693069      1.00     Uber  1543708385534      North End          West End   \n",
       "693070      1.00     Uber  1543708385534      North End          West End   \n",
       "\n",
       "        price  surge_multiplier                                    id  \\\n",
       "0         5.0               1.0  424553bb-7174-41ea-aeb4-fe06d4f4b9d7   \n",
       "1        11.0               1.0  4bd23055-6827-41c6-b23b-3c491f24e74d   \n",
       "2         7.0               1.0  981a3613-77af-4620-a42a-0c0866077d1e   \n",
       "3        26.0               1.0  c2d88af2-d278-4bfd-a8d0-29ca77cc5512   \n",
       "4         9.0               1.0  e0126e1f-8ca9-4f2e-82b3-50505a09db9a   \n",
       "...       ...               ...                                   ...   \n",
       "693066   13.0               1.0  616d3611-1820-450a-9845-a9ff304a4842   \n",
       "693067    9.5               1.0  633a3fc3-1f86-4b9e-9d48-2b7132112341   \n",
       "693068    NaN               1.0  64d451d0-639f-47a4-9b7c-6fd92fbd264f   \n",
       "693069   27.0               1.0  727e5f07-a96b-4ad1-a2c7-9abc3ad55b4e   \n",
       "693070   10.0               1.0  e7fdc087-fe86-40a5-a3c3-3b2a8badcbda   \n",
       "\n",
       "                                  product_id          name  \n",
       "0                                  lyft_line        Shared  \n",
       "1                               lyft_premier           Lux  \n",
       "2                                       lyft          Lyft  \n",
       "3                                lyft_luxsuv  Lux Black XL  \n",
       "4                                  lyft_plus       Lyft XL  \n",
       "...                                      ...           ...  \n",
       "693066  6f72dfc5-27f1-42e8-84db-ccc7a75f6969        UberXL  \n",
       "693067  55c66225-fbe7-4fd5-9072-eab1ece5e23e         UberX  \n",
       "693068  8cf7e821-f0d3-49c6-8eba-e679c0ebcf6a          Taxi  \n",
       "693069  6d318bcc-22a3-4af6-bddd-b409bfce1546     Black SUV  \n",
       "693070  997acbb5-e102-41e1-b155-9df7de0a73f2      UberPool  \n",
       "\n",
       "[693071 rows x 10 columns]"
      ]
     },
     "execution_count": 27,
     "metadata": {},
     "output_type": "execute_result"
    }
   ],
   "source": [
    "DF = pd.read_csv('../../datasets/cab_rides.csv')\n",
    "DF"
   ]
  },
  {
   "cell_type": "code",
   "execution_count": 13,
   "id": "3b3b5b24",
   "metadata": {},
   "outputs": [
    {
     "data": {
      "text/plain": [
       "16.545125490614065"
      ]
     },
     "execution_count": 13,
     "metadata": {},
     "output_type": "execute_result"
    }
   ],
   "source": [
    "DF['price'].mean()"
   ]
  },
  {
   "cell_type": "code",
   "execution_count": 14,
   "id": "3b1f558a",
   "metadata": {
    "scrolled": true
   },
   "outputs": [
    {
     "data": {
      "text/plain": [
       "1.0457470560899256"
      ]
     },
     "execution_count": 14,
     "metadata": {},
     "output_type": "execute_result"
    }
   ],
   "source": [
    "DF['price'].skew()"
   ]
  },
  {
   "cell_type": "code",
   "execution_count": 15,
   "id": "14a5b541",
   "metadata": {},
   "outputs": [
    {
     "data": {
      "text/plain": [
       "1.2248292540626236"
      ]
     },
     "execution_count": 15,
     "metadata": {},
     "output_type": "execute_result"
    }
   ],
   "source": [
    "DF['price'].kurtosis()"
   ]
  },
  {
   "cell_type": "code",
   "execution_count": 16,
   "id": "f2e471dd",
   "metadata": {},
   "outputs": [
    {
     "data": {
      "text/plain": [
       "<AxesSubplot:>"
      ]
     },
     "execution_count": 16,
     "metadata": {},
     "output_type": "execute_result"
    },
    {
     "data": {
      "image/png": "[encoded data removed]",
      "text/plain": [
       "<Figure size 432x288 with 1 Axes>"
      ]
     },
     "metadata": {
      "needs_background": "light"
     },
     "output_type": "display_data"
    }
   ],
   "source": [
    "DF['price'].hist()"
   ]
  },
  {
   "cell_type": "code",
   "execution_count": 17,
   "id": "11520958",
   "metadata": {},
   "outputs": [
    {
     "data": {
      "text/plain": [
       "17.16896103755566"
      ]
     },
     "execution_count": 17,
     "metadata": {},
     "output_type": "execute_result"
    }
   ],
   "source": [
    "stats.trim_mean(DF['price'],0.1)"
   ]
  },
  {
   "cell_type": "code",
   "execution_count": 18,
   "id": "ea9a0072",
   "metadata": {
    "scrolled": true
   },
   "outputs": [
    {
     "data": {
      "text/plain": [
       "0    Financial District\n",
       "Name: destination, dtype: object"
      ]
     },
     "execution_count": 18,
     "metadata": {},
     "output_type": "execute_result"
    }
   ],
   "source": [
    "DF['destination'].mode()"
   ]
  },
  {
   "cell_type": "code",
   "execution_count": 19,
   "id": "2f3eeee5",
   "metadata": {},
   "outputs": [
    {
     "data": {
      "text/plain": [
       "ModeResult(mode=array(['Boston University'], dtype=object), count=array([8778]))"
      ]
     },
     "execution_count": 19,
     "metadata": {},
     "output_type": "execute_result"
    }
   ],
   "source": [
    "stats.mode(DF.head(100000)['destination'])"
   ]
  },
  {
   "cell_type": "code",
   "execution_count": 40,
   "id": "728d628b",
   "metadata": {},
   "outputs": [
    {
     "data": {
      "text/html": [
       "<div>\n",
       "<style scoped>\n",
       "    .dataframe tbody tr th:only-of-type {\n",
       "        vertical-align: middle;\n",
       "    }\n",
       "\n",
       "    .dataframe tbody tr th {\n",
       "        vertical-align: top;\n",
       "    }\n",
       "\n",
       "    .dataframe thead th {\n",
       "        text-align: right;\n",
       "    }\n",
       "</style>\n",
       "<table border=\"1\" class=\"dataframe\">\n",
       "  <thead>\n",
       "    <tr style=\"text-align: right;\">\n",
       "      <th></th>\n",
       "      <th>temp</th>\n",
       "      <th>location</th>\n",
       "      <th>clouds</th>\n",
       "      <th>pressure</th>\n",
       "      <th>rain</th>\n",
       "      <th>time_stamp</th>\n",
       "      <th>humidity</th>\n",
       "      <th>wind</th>\n",
       "    </tr>\n",
       "  </thead>\n",
       "  <tbody>\n",
       "    <tr>\n",
       "      <th>0</th>\n",
       "      <td>42.42</td>\n",
       "      <td>Back Bay</td>\n",
       "      <td>1.00</td>\n",
       "      <td>1012.14</td>\n",
       "      <td>0.1228</td>\n",
       "      <td>1545003901</td>\n",
       "      <td>0.77</td>\n",
       "      <td>11.25</td>\n",
       "    </tr>\n",
       "    <tr>\n",
       "      <th>1</th>\n",
       "      <td>42.43</td>\n",
       "      <td>Beacon Hill</td>\n",
       "      <td>1.00</td>\n",
       "      <td>1012.15</td>\n",
       "      <td>0.1846</td>\n",
       "      <td>1545003901</td>\n",
       "      <td>0.76</td>\n",
       "      <td>11.32</td>\n",
       "    </tr>\n",
       "    <tr>\n",
       "      <th>2</th>\n",
       "      <td>42.50</td>\n",
       "      <td>Boston University</td>\n",
       "      <td>1.00</td>\n",
       "      <td>1012.15</td>\n",
       "      <td>0.1089</td>\n",
       "      <td>1545003901</td>\n",
       "      <td>0.76</td>\n",
       "      <td>11.07</td>\n",
       "    </tr>\n",
       "    <tr>\n",
       "      <th>3</th>\n",
       "      <td>42.11</td>\n",
       "      <td>Fenway</td>\n",
       "      <td>1.00</td>\n",
       "      <td>1012.13</td>\n",
       "      <td>0.0969</td>\n",
       "      <td>1545003901</td>\n",
       "      <td>0.77</td>\n",
       "      <td>11.09</td>\n",
       "    </tr>\n",
       "    <tr>\n",
       "      <th>4</th>\n",
       "      <td>43.13</td>\n",
       "      <td>Financial District</td>\n",
       "      <td>1.00</td>\n",
       "      <td>1012.14</td>\n",
       "      <td>0.1786</td>\n",
       "      <td>1545003901</td>\n",
       "      <td>0.75</td>\n",
       "      <td>11.49</td>\n",
       "    </tr>\n",
       "    <tr>\n",
       "      <th>...</th>\n",
       "      <td>...</td>\n",
       "      <td>...</td>\n",
       "      <td>...</td>\n",
       "      <td>...</td>\n",
       "      <td>...</td>\n",
       "      <td>...</td>\n",
       "      <td>...</td>\n",
       "      <td>...</td>\n",
       "    </tr>\n",
       "    <tr>\n",
       "      <th>6271</th>\n",
       "      <td>44.72</td>\n",
       "      <td>North Station</td>\n",
       "      <td>0.89</td>\n",
       "      <td>1000.69</td>\n",
       "      <td>NaN</td>\n",
       "      <td>1543819974</td>\n",
       "      <td>0.96</td>\n",
       "      <td>1.52</td>\n",
       "    </tr>\n",
       "    <tr>\n",
       "      <th>6272</th>\n",
       "      <td>44.85</td>\n",
       "      <td>Northeastern University</td>\n",
       "      <td>0.88</td>\n",
       "      <td>1000.71</td>\n",
       "      <td>NaN</td>\n",
       "      <td>1543819974</td>\n",
       "      <td>0.96</td>\n",
       "      <td>1.54</td>\n",
       "    </tr>\n",
       "    <tr>\n",
       "      <th>6273</th>\n",
       "      <td>44.82</td>\n",
       "      <td>South Station</td>\n",
       "      <td>0.89</td>\n",
       "      <td>1000.70</td>\n",
       "      <td>NaN</td>\n",
       "      <td>1543819974</td>\n",
       "      <td>0.96</td>\n",
       "      <td>1.54</td>\n",
       "    </tr>\n",
       "    <tr>\n",
       "      <th>6274</th>\n",
       "      <td>44.78</td>\n",
       "      <td>Theatre District</td>\n",
       "      <td>0.89</td>\n",
       "      <td>1000.70</td>\n",
       "      <td>NaN</td>\n",
       "      <td>1543819974</td>\n",
       "      <td>0.96</td>\n",
       "      <td>1.54</td>\n",
       "    </tr>\n",
       "    <tr>\n",
       "      <th>6275</th>\n",
       "      <td>44.69</td>\n",
       "      <td>West End</td>\n",
       "      <td>0.89</td>\n",
       "      <td>1000.70</td>\n",
       "      <td>NaN</td>\n",
       "      <td>1543819974</td>\n",
       "      <td>0.96</td>\n",
       "      <td>1.52</td>\n",
       "    </tr>\n",
       "  </tbody>\n",
       "</table>\n",
       "<p>6276 rows × 8 columns</p>\n",
       "</div>"
      ],
      "text/plain": [
       "       temp                 location  clouds  pressure    rain  time_stamp  \\\n",
       "0     42.42                 Back Bay    1.00   1012.14  0.1228  1545003901   \n",
       "1     42.43              Beacon Hill    1.00   1012.15  0.1846  1545003901   \n",
       "2     42.50        Boston University    1.00   1012.15  0.1089  1545003901   \n",
       "3     42.11                   Fenway    1.00   1012.13  0.0969  1545003901   \n",
       "4     43.13       Financial District    1.00   1012.14  0.1786  1545003901   \n",
       "...     ...                      ...     ...       ...     ...         ...   \n",
       "6271  44.72            North Station    0.89   1000.69     NaN  1543819974   \n",
       "6272  44.85  Northeastern University    0.88   1000.71     NaN  1543819974   \n",
       "6273  44.82            South Station    0.89   1000.70     NaN  1543819974   \n",
       "6274  44.78         Theatre District    0.89   1000.70     NaN  1543819974   \n",
       "6275  44.69                 West End    0.89   1000.70     NaN  1543819974   \n",
       "\n",
       "      humidity   wind  \n",
       "0         0.77  11.25  \n",
       "1         0.76  11.32  \n",
       "2         0.76  11.07  \n",
       "3         0.77  11.09  \n",
       "4         0.75  11.49  \n",
       "...        ...    ...  \n",
       "6271      0.96   1.52  \n",
       "6272      0.96   1.54  \n",
       "6273      0.96   1.54  \n",
       "6274      0.96   1.54  \n",
       "6275      0.96   1.52  \n",
       "\n",
       "[6276 rows x 8 columns]"
      ]
     },
     "execution_count": 40,
     "metadata": {},
     "output_type": "execute_result"
    }
   ],
   "source": [
    "WT = pd.read_csv('../../datasets/weather.csv')\n",
    "WT"
   ]
  },
  {
   "cell_type": "code",
   "execution_count": 41,
   "id": "362800bd",
   "metadata": {},
   "outputs": [
    {
     "data": {
      "text/html": [
       "<div>\n",
       "<style scoped>\n",
       "    .dataframe tbody tr th:only-of-type {\n",
       "        vertical-align: middle;\n",
       "    }\n",
       "\n",
       "    .dataframe tbody tr th {\n",
       "        vertical-align: top;\n",
       "    }\n",
       "\n",
       "    .dataframe thead th {\n",
       "        text-align: right;\n",
       "    }\n",
       "</style>\n",
       "<table border=\"1\" class=\"dataframe\">\n",
       "  <thead>\n",
       "    <tr style=\"text-align: right;\">\n",
       "      <th></th>\n",
       "      <th>temp</th>\n",
       "      <th>clouds</th>\n",
       "      <th>pressure</th>\n",
       "      <th>rain</th>\n",
       "      <th>time_stamp</th>\n",
       "      <th>humidity</th>\n",
       "      <th>wind</th>\n",
       "    </tr>\n",
       "  </thead>\n",
       "  <tbody>\n",
       "    <tr>\n",
       "      <th>temp</th>\n",
       "      <td>1.000000</td>\n",
       "      <td>0.504693</td>\n",
       "      <td>-0.278630</td>\n",
       "      <td>0.169786</td>\n",
       "      <td>-0.273311</td>\n",
       "      <td>0.387265</td>\n",
       "      <td>0.115752</td>\n",
       "    </tr>\n",
       "    <tr>\n",
       "      <th>clouds</th>\n",
       "      <td>0.504693</td>\n",
       "      <td>1.000000</td>\n",
       "      <td>-0.079788</td>\n",
       "      <td>0.157744</td>\n",
       "      <td>-0.097839</td>\n",
       "      <td>0.518758</td>\n",
       "      <td>0.041117</td>\n",
       "    </tr>\n",
       "    <tr>\n",
       "      <th>pressure</th>\n",
       "      <td>-0.278630</td>\n",
       "      <td>-0.079788</td>\n",
       "      <td>1.000000</td>\n",
       "      <td>-0.012662</td>\n",
       "      <td>0.519631</td>\n",
       "      <td>-0.101814</td>\n",
       "      <td>-0.543793</td>\n",
       "    </tr>\n",
       "    <tr>\n",
       "      <th>rain</th>\n",
       "      <td>0.169786</td>\n",
       "      <td>0.157744</td>\n",
       "      <td>-0.012662</td>\n",
       "      <td>1.000000</td>\n",
       "      <td>-0.208693</td>\n",
       "      <td>0.152143</td>\n",
       "      <td>0.331758</td>\n",
       "    </tr>\n",
       "    <tr>\n",
       "      <th>time_stamp</th>\n",
       "      <td>-0.273311</td>\n",
       "      <td>-0.097839</td>\n",
       "      <td>0.519631</td>\n",
       "      <td>-0.208693</td>\n",
       "      <td>1.000000</td>\n",
       "      <td>-0.288118</td>\n",
       "      <td>0.039846</td>\n",
       "    </tr>\n",
       "    <tr>\n",
       "      <th>humidity</th>\n",
       "      <td>0.387265</td>\n",
       "      <td>0.518758</td>\n",
       "      <td>-0.101814</td>\n",
       "      <td>0.152143</td>\n",
       "      <td>-0.288118</td>\n",
       "      <td>1.000000</td>\n",
       "      <td>-0.285823</td>\n",
       "    </tr>\n",
       "    <tr>\n",
       "      <th>wind</th>\n",
       "      <td>0.115752</td>\n",
       "      <td>0.041117</td>\n",
       "      <td>-0.543793</td>\n",
       "      <td>0.331758</td>\n",
       "      <td>0.039846</td>\n",
       "      <td>-0.285823</td>\n",
       "      <td>1.000000</td>\n",
       "    </tr>\n",
       "  </tbody>\n",
       "</table>\n",
       "</div>"
      ],
      "text/plain": [
       "                temp    clouds  pressure      rain  time_stamp  humidity  \\\n",
       "temp        1.000000  0.504693 -0.278630  0.169786   -0.273311  0.387265   \n",
       "clouds      0.504693  1.000000 -0.079788  0.157744   -0.097839  0.518758   \n",
       "pressure   -0.278630 -0.079788  1.000000 -0.012662    0.519631 -0.101814   \n",
       "rain        0.169786  0.157744 -0.012662  1.000000   -0.208693  0.152143   \n",
       "time_stamp -0.273311 -0.097839  0.519631 -0.208693    1.000000 -0.288118   \n",
       "humidity    0.387265  0.518758 -0.101814  0.152143   -0.288118  1.000000   \n",
       "wind        0.115752  0.041117 -0.543793  0.331758    0.039846 -0.285823   \n",
       "\n",
       "                wind  \n",
       "temp        0.115752  \n",
       "clouds      0.041117  \n",
       "pressure   -0.543793  \n",
       "rain        0.331758  \n",
       "time_stamp  0.039846  \n",
       "humidity   -0.285823  \n",
       "wind        1.000000  "
      ]
     },
     "execution_count": 41,
     "metadata": {},
     "output_type": "execute_result"
    }
   ],
   "source": [
    "WT.corr()"
   ]
  },
  {
   "cell_type": "code",
   "execution_count": 21,
   "id": "6ef63014",
   "metadata": {},
   "outputs": [
    {
     "data": {
      "text/html": [
       "<div>\n",
       "<style scoped>\n",
       "    .dataframe tbody tr th:only-of-type {\n",
       "        vertical-align: middle;\n",
       "    }\n",
       "\n",
       "    .dataframe tbody tr th {\n",
       "        vertical-align: top;\n",
       "    }\n",
       "\n",
       "    .dataframe thead th {\n",
       "        text-align: right;\n",
       "    }\n",
       "</style>\n",
       "<table border=\"1\" class=\"dataframe\">\n",
       "  <thead>\n",
       "    <tr style=\"text-align: right;\">\n",
       "      <th></th>\n",
       "      <th>Date</th>\n",
       "      <th>Open</th>\n",
       "      <th>High</th>\n",
       "      <th>Low</th>\n",
       "      <th>Close</th>\n",
       "      <th>Adj Close</th>\n",
       "      <th>Volume</th>\n",
       "    </tr>\n",
       "  </thead>\n",
       "  <tbody>\n",
       "    <tr>\n",
       "      <th>0</th>\n",
       "      <td>2018-01-01</td>\n",
       "      <td>14112.200195</td>\n",
       "      <td>14112.200195</td>\n",
       "      <td>13154.700195</td>\n",
       "      <td>13657.200195</td>\n",
       "      <td>13657.200195</td>\n",
       "      <td>1.029120e+10</td>\n",
       "    </tr>\n",
       "    <tr>\n",
       "      <th>1</th>\n",
       "      <td>2018-01-02</td>\n",
       "      <td>13625.000000</td>\n",
       "      <td>15444.599609</td>\n",
       "      <td>13163.599609</td>\n",
       "      <td>14982.099609</td>\n",
       "      <td>14982.099609</td>\n",
       "      <td>1.684660e+10</td>\n",
       "    </tr>\n",
       "    <tr>\n",
       "      <th>2</th>\n",
       "      <td>2018-01-03</td>\n",
       "      <td>14978.200195</td>\n",
       "      <td>15572.799805</td>\n",
       "      <td>14844.500000</td>\n",
       "      <td>15201.000000</td>\n",
       "      <td>15201.000000</td>\n",
       "      <td>1.687190e+10</td>\n",
       "    </tr>\n",
       "    <tr>\n",
       "      <th>3</th>\n",
       "      <td>2018-01-04</td>\n",
       "      <td>15270.700195</td>\n",
       "      <td>15739.700195</td>\n",
       "      <td>14522.200195</td>\n",
       "      <td>15599.200195</td>\n",
       "      <td>15599.200195</td>\n",
       "      <td>2.178320e+10</td>\n",
       "    </tr>\n",
       "    <tr>\n",
       "      <th>4</th>\n",
       "      <td>2018-01-05</td>\n",
       "      <td>15477.200195</td>\n",
       "      <td>17705.199219</td>\n",
       "      <td>15202.799805</td>\n",
       "      <td>17429.500000</td>\n",
       "      <td>17429.500000</td>\n",
       "      <td>2.384090e+10</td>\n",
       "    </tr>\n",
       "    <tr>\n",
       "      <th>...</th>\n",
       "      <td>...</td>\n",
       "      <td>...</td>\n",
       "      <td>...</td>\n",
       "      <td>...</td>\n",
       "      <td>...</td>\n",
       "      <td>...</td>\n",
       "      <td>...</td>\n",
       "    </tr>\n",
       "    <tr>\n",
       "      <th>1283</th>\n",
       "      <td>2021-07-07</td>\n",
       "      <td>34225.679688</td>\n",
       "      <td>34997.664063</td>\n",
       "      <td>33839.289063</td>\n",
       "      <td>33855.328125</td>\n",
       "      <td>33855.328125</td>\n",
       "      <td>2.479603e+10</td>\n",
       "    </tr>\n",
       "    <tr>\n",
       "      <th>1284</th>\n",
       "      <td>2021-07-08</td>\n",
       "      <td>33889.605469</td>\n",
       "      <td>33907.906250</td>\n",
       "      <td>32133.183594</td>\n",
       "      <td>32877.371094</td>\n",
       "      <td>32877.371094</td>\n",
       "      <td>2.991040e+10</td>\n",
       "    </tr>\n",
       "    <tr>\n",
       "      <th>1285</th>\n",
       "      <td>2021-07-09</td>\n",
       "      <td>32861.671875</td>\n",
       "      <td>34042.292969</td>\n",
       "      <td>32318.880859</td>\n",
       "      <td>33798.011719</td>\n",
       "      <td>33798.011719</td>\n",
       "      <td>2.743602e+10</td>\n",
       "    </tr>\n",
       "    <tr>\n",
       "      <th>1286</th>\n",
       "      <td>2021-07-10</td>\n",
       "      <td>33811.242188</td>\n",
       "      <td>34209.070313</td>\n",
       "      <td>33116.011719</td>\n",
       "      <td>33520.519531</td>\n",
       "      <td>33520.519531</td>\n",
       "      <td>2.297187e+10</td>\n",
       "    </tr>\n",
       "    <tr>\n",
       "      <th>1287</th>\n",
       "      <td>2021-07-11</td>\n",
       "      <td>33538.554688</td>\n",
       "      <td>34033.742188</td>\n",
       "      <td>33354.628906</td>\n",
       "      <td>33928.332031</td>\n",
       "      <td>33928.332031</td>\n",
       "      <td>1.956315e+10</td>\n",
       "    </tr>\n",
       "  </tbody>\n",
       "</table>\n",
       "<p>1288 rows × 7 columns</p>\n",
       "</div>"
      ],
      "text/plain": [
       "            Date          Open          High           Low         Close  \\\n",
       "0     2018-01-01  14112.200195  14112.200195  13154.700195  13657.200195   \n",
       "1     2018-01-02  13625.000000  15444.599609  13163.599609  14982.099609   \n",
       "2     2018-01-03  14978.200195  15572.799805  14844.500000  15201.000000   \n",
       "3     2018-01-04  15270.700195  15739.700195  14522.200195  15599.200195   \n",
       "4     2018-01-05  15477.200195  17705.199219  15202.799805  17429.500000   \n",
       "...          ...           ...           ...           ...           ...   \n",
       "1283  2021-07-07  34225.679688  34997.664063  33839.289063  33855.328125   \n",
       "1284  2021-07-08  33889.605469  33907.906250  32133.183594  32877.371094   \n",
       "1285  2021-07-09  32861.671875  34042.292969  32318.880859  33798.011719   \n",
       "1286  2021-07-10  33811.242188  34209.070313  33116.011719  33520.519531   \n",
       "1287  2021-07-11  33538.554688  34033.742188  33354.628906  33928.332031   \n",
       "\n",
       "         Adj Close        Volume  \n",
       "0     13657.200195  1.029120e+10  \n",
       "1     14982.099609  1.684660e+10  \n",
       "2     15201.000000  1.687190e+10  \n",
       "3     15599.200195  2.178320e+10  \n",
       "4     17429.500000  2.384090e+10  \n",
       "...            ...           ...  \n",
       "1283  33855.328125  2.479603e+10  \n",
       "1284  32877.371094  2.991040e+10  \n",
       "1285  33798.011719  2.743602e+10  \n",
       "1286  33520.519531  2.297187e+10  \n",
       "1287  33928.332031  1.956315e+10  \n",
       "\n",
       "[1288 rows x 7 columns]"
      ]
     },
     "execution_count": 21,
     "metadata": {},
     "output_type": "execute_result"
    }
   ],
   "source": [
    "BTC = pd.read_csv('../../datasets/BTC-USD.csv')\n",
    "BTC"
   ]
  },
  {
   "cell_type": "code",
   "execution_count": 22,
   "id": "e581fab3",
   "metadata": {},
   "outputs": [
    {
     "data": {
      "text/plain": [
       "<AxesSubplot:>"
      ]
     },
     "execution_count": 22,
     "metadata": {},
     "output_type": "execute_result"
    },
    {
     "data": {
      "image/png": "[encoded data removed]",
      "text/plain": [
       "<Figure size 432x288 with 1 Axes>"
      ]
     },
     "metadata": {
      "needs_background": "light"
     },
     "output_type": "display_data"
    }
   ],
   "source": [
    "BTC['Adj Close'].hist()"
   ]
  },
  {
   "cell_type": "code",
   "execution_count": 39,
   "id": "a1e71762",
   "metadata": {},
   "outputs": [
    {
     "data": {
      "text/html": [
       "<div>\n",
       "<style scoped>\n",
       "    .dataframe tbody tr th:only-of-type {\n",
       "        vertical-align: middle;\n",
       "    }\n",
       "\n",
       "    .dataframe tbody tr th {\n",
       "        vertical-align: top;\n",
       "    }\n",
       "\n",
       "    .dataframe thead th {\n",
       "        text-align: right;\n",
       "    }\n",
       "</style>\n",
       "<table border=\"1\" class=\"dataframe\">\n",
       "  <thead>\n",
       "    <tr style=\"text-align: right;\">\n",
       "      <th></th>\n",
       "      <th>Open</th>\n",
       "      <th>High</th>\n",
       "      <th>Low</th>\n",
       "      <th>Close</th>\n",
       "      <th>Adj Close</th>\n",
       "      <th>Volume</th>\n",
       "    </tr>\n",
       "  </thead>\n",
       "  <tbody>\n",
       "    <tr>\n",
       "      <th>Open</th>\n",
       "      <td>1.000000</td>\n",
       "      <td>0.999236</td>\n",
       "      <td>0.998442</td>\n",
       "      <td>0.998080</td>\n",
       "      <td>0.998080</td>\n",
       "      <td>0.710317</td>\n",
       "    </tr>\n",
       "    <tr>\n",
       "      <th>High</th>\n",
       "      <td>0.999236</td>\n",
       "      <td>1.000000</td>\n",
       "      <td>0.998386</td>\n",
       "      <td>0.999157</td>\n",
       "      <td>0.999157</td>\n",
       "      <td>0.714815</td>\n",
       "    </tr>\n",
       "    <tr>\n",
       "      <th>Low</th>\n",
       "      <td>0.998442</td>\n",
       "      <td>0.998386</td>\n",
       "      <td>1.000000</td>\n",
       "      <td>0.999012</td>\n",
       "      <td>0.999012</td>\n",
       "      <td>0.700057</td>\n",
       "    </tr>\n",
       "    <tr>\n",
       "      <th>Close</th>\n",
       "      <td>0.998080</td>\n",
       "      <td>0.999157</td>\n",
       "      <td>0.999012</td>\n",
       "      <td>1.000000</td>\n",
       "      <td>1.000000</td>\n",
       "      <td>0.708684</td>\n",
       "    </tr>\n",
       "    <tr>\n",
       "      <th>Adj Close</th>\n",
       "      <td>0.998080</td>\n",
       "      <td>0.999157</td>\n",
       "      <td>0.999012</td>\n",
       "      <td>1.000000</td>\n",
       "      <td>1.000000</td>\n",
       "      <td>0.708684</td>\n",
       "    </tr>\n",
       "    <tr>\n",
       "      <th>Volume</th>\n",
       "      <td>0.710317</td>\n",
       "      <td>0.714815</td>\n",
       "      <td>0.700057</td>\n",
       "      <td>0.708684</td>\n",
       "      <td>0.708684</td>\n",
       "      <td>1.000000</td>\n",
       "    </tr>\n",
       "  </tbody>\n",
       "</table>\n",
       "</div>"
      ],
      "text/plain": [
       "               Open      High       Low     Close  Adj Close    Volume\n",
       "Open       1.000000  0.999236  0.998442  0.998080   0.998080  0.710317\n",
       "High       0.999236  1.000000  0.998386  0.999157   0.999157  0.714815\n",
       "Low        0.998442  0.998386  1.000000  0.999012   0.999012  0.700057\n",
       "Close      0.998080  0.999157  0.999012  1.000000   1.000000  0.708684\n",
       "Adj Close  0.998080  0.999157  0.999012  1.000000   1.000000  0.708684\n",
       "Volume     0.710317  0.714815  0.700057  0.708684   0.708684  1.000000"
      ]
     },
     "execution_count": 39,
     "metadata": {},
     "output_type": "execute_result"
    }
   ],
   "source": [
    "BTC.corr()"
   ]
  },
  {
   "cell_type": "code",
   "execution_count": 23,
   "id": "4e1317b3",
   "metadata": {},
   "outputs": [
    {
     "data": {
      "text/plain": [
       "2.064304556099543"
      ]
     },
     "execution_count": 23,
     "metadata": {},
     "output_type": "execute_result"
    }
   ],
   "source": [
    "BTC['Adj Close'].skew()"
   ]
  },
  {
   "cell_type": "code",
   "execution_count": 24,
   "id": "554f7f48",
   "metadata": {},
   "outputs": [
    {
     "data": {
      "text/plain": [
       "3.1167807522170663"
      ]
     },
     "execution_count": 24,
     "metadata": {},
     "output_type": "execute_result"
    }
   ],
   "source": [
    "BTC['Adj Close'].kurtosis()"
   ]
  },
  {
   "cell_type": "code",
   "execution_count": 29,
   "id": "84c36773",
   "metadata": {},
   "outputs": [
    {
     "data": {
      "text/plain": [
       "count    637976.000000\n",
       "mean         16.545125\n",
       "std           9.324359\n",
       "min           2.500000\n",
       "25%           9.000000\n",
       "50%          13.500000\n",
       "75%          22.500000\n",
       "max          97.500000\n",
       "Name: price, dtype: float64"
      ]
     },
     "execution_count": 29,
     "metadata": {},
     "output_type": "execute_result"
    }
   ],
   "source": [
    "DF['price'].describe()"
   ]
  },
  {
   "cell_type": "code",
   "execution_count": 30,
   "id": "097f076d",
   "metadata": {},
   "outputs": [
    {
     "data": {
      "text/plain": [
       "13.5"
      ]
     },
     "execution_count": 30,
     "metadata": {},
     "output_type": "execute_result"
    }
   ],
   "source": [
    "DF['price'].median()"
   ]
  },
  {
   "cell_type": "code",
   "execution_count": 31,
   "id": "1ac8aef4",
   "metadata": {},
   "outputs": [
    {
     "data": {
      "text/plain": [
       "<AxesSubplot:>"
      ]
     },
     "execution_count": 31,
     "metadata": {},
     "output_type": "execute_result"
    },
    {
     "data": {
      "image/png": "[encoded data removed]",
      "text/plain": [
       "<Figure size 432x288 with 1 Axes>"
      ]
     },
     "metadata": {
      "needs_background": "light"
     },
     "output_type": "display_data"
    }
   ],
   "source": [
    "DF.boxplot(column=['price'])"
   ]
  },
  {
   "cell_type": "code",
   "execution_count": 32,
   "id": "d26c1f20",
   "metadata": {},
   "outputs": [
    {
     "data": {
      "text/plain": [
       "<AxesSubplot:>"
      ]
     },
     "execution_count": 32,
     "metadata": {},
     "output_type": "execute_result"
    },
    {
     "data": {
      "image/png": "[encoded data removed]",
      "text/plain": [
       "<Figure size 432x288 with 1 Axes>"
      ]
     },
     "metadata": {
      "needs_background": "light"
     },
     "output_type": "display_data"
    }
   ],
   "source": [
    "DF['price'].hist()"
   ]
  },
  {
   "cell_type": "code",
   "execution_count": 33,
   "id": "e7f656cc",
   "metadata": {},
   "outputs": [
    {
     "data": {
      "image/png": "[encoded data removed]",
      "text/plain": [
       "<Figure size 432x288 with 1 Axes>"
      ]
     },
     "execution_count": 33,
     "metadata": {},
     "output_type": "execute_result"
    },
    {
     "data": {
      "image/png": "[encoded data removed]",
      "text/plain": [
       "<Figure size 432x288 with 1 Axes>"
      ]
     },
     "metadata": {
      "needs_background": "light"
     },
     "output_type": "display_data"
    }
   ],
   "source": [
    "sm.qqplot(DF['price'])\n"
   ]
  },
  {
   "cell_type": "code",
   "execution_count": 34,
   "id": "97c655dc",
   "metadata": {},
   "outputs": [
    {
     "data": {
      "image/png": "[encoded data removed]",
      "text/plain": [
       "<Figure size 432x288 with 1 Axes>"
      ]
     },
     "execution_count": 34,
     "metadata": {},
     "output_type": "execute_result"
    },
    {
     "data": {
      "image/png": "[encoded data removed]",
      "text/plain": [
       "<Figure size 432x288 with 1 Axes>"
      ]
     },
     "metadata": {
      "needs_background": "light"
     },
     "output_type": "display_data"
    }
   ],
   "source": [
    "sm.qqplot(DF['distance'])"
   ]
  },
  {
   "cell_type": "code",
   "execution_count": 35,
   "id": "a774aa91",
   "metadata": {},
   "outputs": [
    {
     "data": {
      "text/plain": [
       "<AxesSubplot:>"
      ]
     },
     "execution_count": 35,
     "metadata": {},
     "output_type": "execute_result"
    },
    {
     "data": {
      "image/png": "[encoded data removed]",
      "text/plain": [
       "<Figure size 432x288 with 1 Axes>"
      ]
     },
     "metadata": {
      "needs_background": "light"
     },
     "output_type": "display_data"
    }
   ],
   "source": [
    "DF['distance'].hist()"
   ]
  },
  {
   "cell_type": "code",
   "execution_count": 37,
   "id": "089de103",
   "metadata": {},
   "outputs": [
    {
     "data": {
      "text/html": [
       "<div>\n",
       "<style scoped>\n",
       "    .dataframe tbody tr th:only-of-type {\n",
       "        vertical-align: middle;\n",
       "    }\n",
       "\n",
       "    .dataframe tbody tr th {\n",
       "        vertical-align: top;\n",
       "    }\n",
       "\n",
       "    .dataframe thead th {\n",
       "        text-align: right;\n",
       "    }\n",
       "</style>\n",
       "<table border=\"1\" class=\"dataframe\">\n",
       "  <thead>\n",
       "    <tr style=\"text-align: right;\">\n",
       "      <th></th>\n",
       "      <th>distance</th>\n",
       "      <th>cab_type</th>\n",
       "      <th>time_stamp</th>\n",
       "      <th>destination</th>\n",
       "      <th>source</th>\n",
       "      <th>price</th>\n",
       "      <th>surge_multiplier</th>\n",
       "      <th>id</th>\n",
       "      <th>product_id</th>\n",
       "      <th>name</th>\n",
       "    </tr>\n",
       "  </thead>\n",
       "  <tbody>\n",
       "    <tr>\n",
       "      <th>0</th>\n",
       "      <td>0.44</td>\n",
       "      <td>Lyft</td>\n",
       "      <td>1544952607890</td>\n",
       "      <td>North Station</td>\n",
       "      <td>Haymarket Square</td>\n",
       "      <td>5.0</td>\n",
       "      <td>1.0</td>\n",
       "      <td>424553bb-7174-41ea-aeb4-fe06d4f4b9d7</td>\n",
       "      <td>lyft_line</td>\n",
       "      <td>Shared</td>\n",
       "    </tr>\n",
       "    <tr>\n",
       "      <th>1</th>\n",
       "      <td>0.44</td>\n",
       "      <td>Lyft</td>\n",
       "      <td>1543284023677</td>\n",
       "      <td>North Station</td>\n",
       "      <td>Haymarket Square</td>\n",
       "      <td>11.0</td>\n",
       "      <td>1.0</td>\n",
       "      <td>4bd23055-6827-41c6-b23b-3c491f24e74d</td>\n",
       "      <td>lyft_premier</td>\n",
       "      <td>Lux</td>\n",
       "    </tr>\n",
       "    <tr>\n",
       "      <th>2</th>\n",
       "      <td>0.44</td>\n",
       "      <td>Lyft</td>\n",
       "      <td>1543366822198</td>\n",
       "      <td>North Station</td>\n",
       "      <td>Haymarket Square</td>\n",
       "      <td>7.0</td>\n",
       "      <td>1.0</td>\n",
       "      <td>981a3613-77af-4620-a42a-0c0866077d1e</td>\n",
       "      <td>lyft</td>\n",
       "      <td>Lyft</td>\n",
       "    </tr>\n",
       "    <tr>\n",
       "      <th>3</th>\n",
       "      <td>0.44</td>\n",
       "      <td>Lyft</td>\n",
       "      <td>1543553582749</td>\n",
       "      <td>North Station</td>\n",
       "      <td>Haymarket Square</td>\n",
       "      <td>26.0</td>\n",
       "      <td>1.0</td>\n",
       "      <td>c2d88af2-d278-4bfd-a8d0-29ca77cc5512</td>\n",
       "      <td>lyft_luxsuv</td>\n",
       "      <td>Lux Black XL</td>\n",
       "    </tr>\n",
       "    <tr>\n",
       "      <th>4</th>\n",
       "      <td>0.44</td>\n",
       "      <td>Lyft</td>\n",
       "      <td>1543463360223</td>\n",
       "      <td>North Station</td>\n",
       "      <td>Haymarket Square</td>\n",
       "      <td>9.0</td>\n",
       "      <td>1.0</td>\n",
       "      <td>e0126e1f-8ca9-4f2e-82b3-50505a09db9a</td>\n",
       "      <td>lyft_plus</td>\n",
       "      <td>Lyft XL</td>\n",
       "    </tr>\n",
       "  </tbody>\n",
       "</table>\n",
       "</div>"
      ],
      "text/plain": [
       "   distance cab_type     time_stamp    destination            source  price  \\\n",
       "0      0.44     Lyft  1544952607890  North Station  Haymarket Square    5.0   \n",
       "1      0.44     Lyft  1543284023677  North Station  Haymarket Square   11.0   \n",
       "2      0.44     Lyft  1543366822198  North Station  Haymarket Square    7.0   \n",
       "3      0.44     Lyft  1543553582749  North Station  Haymarket Square   26.0   \n",
       "4      0.44     Lyft  1543463360223  North Station  Haymarket Square    9.0   \n",
       "\n",
       "   surge_multiplier                                    id    product_id  \\\n",
       "0               1.0  424553bb-7174-41ea-aeb4-fe06d4f4b9d7     lyft_line   \n",
       "1               1.0  4bd23055-6827-41c6-b23b-3c491f24e74d  lyft_premier   \n",
       "2               1.0  981a3613-77af-4620-a42a-0c0866077d1e          lyft   \n",
       "3               1.0  c2d88af2-d278-4bfd-a8d0-29ca77cc5512   lyft_luxsuv   \n",
       "4               1.0  e0126e1f-8ca9-4f2e-82b3-50505a09db9a     lyft_plus   \n",
       "\n",
       "           name  \n",
       "0        Shared  \n",
       "1           Lux  \n",
       "2          Lyft  \n",
       "3  Lux Black XL  \n",
       "4       Lyft XL  "
      ]
     },
     "execution_count": 37,
     "metadata": {},
     "output_type": "execute_result"
    }
   ],
   "source": [
    "DF.head()"
   ]
  },
  {
   "cell_type": "code",
   "execution_count": 38,
   "id": "5ab72510",
   "metadata": {},
   "outputs": [
    {
     "data": {
      "text/html": [
       "<div>\n",
       "<style scoped>\n",
       "    .dataframe tbody tr th:only-of-type {\n",
       "        vertical-align: middle;\n",
       "    }\n",
       "\n",
       "    .dataframe tbody tr th {\n",
       "        vertical-align: top;\n",
       "    }\n",
       "\n",
       "    .dataframe thead th {\n",
       "        text-align: right;\n",
       "    }\n",
       "</style>\n",
       "<table border=\"1\" class=\"dataframe\">\n",
       "  <thead>\n",
       "    <tr style=\"text-align: right;\">\n",
       "      <th></th>\n",
       "      <th>distance</th>\n",
       "      <th>time_stamp</th>\n",
       "      <th>price</th>\n",
       "      <th>surge_multiplier</th>\n",
       "    </tr>\n",
       "  </thead>\n",
       "  <tbody>\n",
       "    <tr>\n",
       "      <th>distance</th>\n",
       "      <td>1.000000</td>\n",
       "      <td>0.003553</td>\n",
       "      <td>0.345061</td>\n",
       "      <td>0.024769</td>\n",
       "    </tr>\n",
       "    <tr>\n",
       "      <th>time_stamp</th>\n",
       "      <td>0.003553</td>\n",
       "      <td>1.000000</td>\n",
       "      <td>0.000808</td>\n",
       "      <td>0.000572</td>\n",
       "    </tr>\n",
       "    <tr>\n",
       "      <th>price</th>\n",
       "      <td>0.345061</td>\n",
       "      <td>0.000808</td>\n",
       "      <td>1.000000</td>\n",
       "      <td>0.240458</td>\n",
       "    </tr>\n",
       "    <tr>\n",
       "      <th>surge_multiplier</th>\n",
       "      <td>0.024769</td>\n",
       "      <td>0.000572</td>\n",
       "      <td>0.240458</td>\n",
       "      <td>1.000000</td>\n",
       "    </tr>\n",
       "  </tbody>\n",
       "</table>\n",
       "</div>"
      ],
      "text/plain": [
       "                  distance  time_stamp     price  surge_multiplier\n",
       "distance          1.000000    0.003553  0.345061          0.024769\n",
       "time_stamp        0.003553    1.000000  0.000808          0.000572\n",
       "price             0.345061    0.000808  1.000000          0.240458\n",
       "surge_multiplier  0.024769    0.000572  0.240458          1.000000"
      ]
     },
     "execution_count": 38,
     "metadata": {},
     "output_type": "execute_result"
    }
   ],
   "source": [
    "DF.corr()"
   ]
  },
  {
   "cell_type": "code",
   "execution_count": null,
   "id": "d8743e12",
   "metadata": {},
   "outputs": [],
   "source": []
  },
  {
   "cell_type": "code",
   "execution_count": null,
   "id": "8d3c4203",
   "metadata": {},
   "outputs": [],
   "source": []
  },
  {
   "cell_type": "code",
   "execution_count": null,
   "id": "44096944",
   "metadata": {},
   "outputs": [],
   "source": []
  },
  {
   "cell_type": "code",
   "execution_count": null,
   "id": "d10d355c",
   "metadata": {},
   "outputs": [],
   "source": []
  },
  {
   "cell_type": "code",
   "execution_count": null,
   "id": "61a40bfc",
   "metadata": {},
   "outputs": [],
   "source": []
  },
  {
   "cell_type": "code",
   "execution_count": null,
   "id": "1705f781",
   "metadata": {},
   "outputs": [],
   "source": []
  },
  {
   "cell_type": "code",
   "execution_count": null,
   "id": "7e9b9ed2",
   "metadata": {},
   "outputs": [],
   "source": []
  },
  {
   "cell_type": "code",
   "execution_count": null,
   "id": "c35b022b",
   "metadata": {},
   "outputs": [],
   "source": []
  },
  {
   "cell_type": "code",
   "execution_count": null,
   "id": "07f7da0f",
   "metadata": {},
   "outputs": [],
   "source": []
  }
 ],
 "metadata": {
  "kernelspec": {
   "display_name": "Python 3 (ipykernel)",
   "language": "python",
   "name": "python3"
  },
  "language_info": {
   "codemirror_mode": {
    "name": "ipython",
    "version": 3
   },
   "file_extension": ".py",
   "mimetype": "text/x-python",
   "name": "python",
   "nbconvert_exporter": "python",
   "pygments_lexer": "ipython3",
   "version": "3.9.13"
  }
 },
 "nbformat": 4,
 "nbformat_minor": 5
}
