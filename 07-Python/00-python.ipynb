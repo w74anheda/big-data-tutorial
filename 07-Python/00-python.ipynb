{
 "cells": [
  {
   "cell_type": "markdown",
   "id": "d5c80b29",
   "metadata": {},
   "source": [
    "# <font style=\"color:green\">Refrences</font>\n",
    "<hr style=\"height: 2px;\">\n",
    " - https://peps.python.org/pep-0000/"
   ]
  },
  {
   "cell_type": "markdown",
   "id": "256df008",
   "metadata": {},
   "source": [
    "# <font style=\"color:green\">Tricks</font>\n",
    "<hr style=\"height: 2px;\">\n",
    "\n",
    " - ## Naming :\n",
    "         - camle_case\n",
    "     "
   ]
  },
  {
   "cell_type": "markdown",
   "id": "a0eb4d88",
   "metadata": {},
   "source": [
    "# <font style=\"color:green\">Tricks</font>\n",
    "<hr style=\"height: 2px;\">\n"
   ]
  },
  {
   "cell_type": "code",
   "execution_count": 5,
   "id": "baa6e362",
   "metadata": {
    "scrolled": true,
    "slideshow": {
     "slide_type": "-"
    }
   },
   "outputs": [
    {
     "data": {
      "text/plain": [
       "'*--*--*--*--*--*--*--*--*--*--'"
      ]
     },
     "execution_count": 5,
     "metadata": {},
     "output_type": "execute_result"
    }
   ],
   "source": [
    "'*--' * 10"
   ]
  },
  {
   "cell_type": "markdown",
   "id": "571a96e9",
   "metadata": {},
   "source": [
    "# <font style=\"color:green\">Primitive Types</font>\n",
    "<hr style=\"height: 2px;\">"
   ]
  },
  {
   "cell_type": "code",
   "execution_count": 43,
   "id": "88bdcba0",
   "metadata": {},
   "outputs": [
    {
     "data": {
      "text/plain": [
       "True"
      ]
     },
     "execution_count": 43,
     "metadata": {},
     "output_type": "execute_result"
    }
   ],
   "source": [
    "#### String\n",
    "\"\"\n",
    "''\n",
    "\"\"\"\n",
    "for long text\n",
    "\"\"\"\n",
    "\"some TExt\"[:] # copy of \n",
    "\"some \\\"Text\"  # escape character with \\\n",
    "# format string: -----------------------------------------------\n",
    "\n",
    "first = \"masoud\"\n",
    "last = 'nazarpoor'\n",
    "full_name = f\"{first} {last}\"\n",
    "\n",
    "f\"{first.capitalize()} {last.capitalize()} len: {len(first) + len(last)}\"\n",
    "\n",
    "'Hello, %s %s' % (first,last)\n",
    "\n",
    "'Hello, %(first)s %(last)s' % {\"first\":'masoud',\"last\":'nazar'}\n",
    "\n",
    "'Hello, {first} {last}'.format(first=\"masoud\",last=\"nazar\")\n",
    "\n",
    "# methods: -----------------------------------------------\n",
    "len(\"some text\")\n",
    "full_name.upper()\n",
    "full_name.title()\n",
    "f\"  {full_name}\".strip() # trim: rstrip,lstrip\n",
    "full_name.find('masoud')\n",
    "full_name.replace('m','h')\n",
    "\"m\"not in full_name"
   ]
  },
  {
   "cell_type": "code",
   "execution_count": null,
   "id": "b798fcbf",
   "metadata": {},
   "outputs": [],
   "source": []
  },
  {
   "cell_type": "code",
   "execution_count": null,
   "id": "82facbf2",
   "metadata": {},
   "outputs": [],
   "source": []
  },
  {
   "cell_type": "code",
   "execution_count": null,
   "id": "90b22b4c",
   "metadata": {},
   "outputs": [],
   "source": []
  },
  {
   "cell_type": "code",
   "execution_count": null,
   "id": "74f3363c",
   "metadata": {},
   "outputs": [],
   "source": []
  }
 ],
 "metadata": {
  "kernelspec": {
   "display_name": "Python 3 (ipykernel)",
   "language": "python",
   "name": "python3"
  },
  "language_info": {
   "codemirror_mode": {
    "name": "ipython",
    "version": 3
   },
   "file_extension": ".py",
   "mimetype": "text/x-python",
   "name": "python",
   "nbconvert_exporter": "python",
   "pygments_lexer": "ipython3",
   "version": "3.9.13"
  }
 },
 "nbformat": 4,
 "nbformat_minor": 5
}
