{
 "cells": [
  {
   "cell_type": "markdown",
   "id": "d5c80b29",
   "metadata": {},
   "source": [
    "# <font style=\"color:green\">Refrences</font>\n",
    "<hr style=\"height: 2px;\">\n",
    " - https://peps.python.org/pep-0000/"
   ]
  },
  {
   "cell_type": "markdown",
   "id": "256df008",
   "metadata": {},
   "source": [
    "# <font style=\"color:green\">Generals</font>\n",
    "<hr style=\"height: 2px;\">\n",
    "\n",
    " - ## Naming :\n",
    "         - camle_case\n",
    " ```\n",
    " - input(\"x: \")\n",
    " - type(x)\n",
    " - \"bag\" > \"apple\" => true\n",
    " \n",
    " ```\n",
    "     "
   ]
  },
  {
   "cell_type": "code",
   "execution_count": 20,
   "id": "6e5e3e95",
   "metadata": {},
   "outputs": [
    {
     "data": {
      "text/html": [
       "\n",
       "    <h1>Title</h1>\n"
      ],
      "text/plain": [
       "<IPython.core.display.HTML object>"
      ]
     },
     "execution_count": 20,
     "metadata": {},
     "output_type": "execute_result"
    }
   ],
   "source": [
    "from IPython.display import HTML\n",
    "HTML(\"\"\"\n",
    "    <h1>Title</h1>\n",
    "\"\"\")\n"
   ]
  },
  {
   "cell_type": "markdown",
   "id": "a0eb4d88",
   "metadata": {},
   "source": [
    "# <font style=\"color:green\">Tricks</font>\n",
    "<hr style=\"height: 2px;\">\n"
   ]
  },
  {
   "cell_type": "code",
   "execution_count": 5,
   "id": "baa6e362",
   "metadata": {
    "scrolled": true,
    "slideshow": {
     "slide_type": "-"
    }
   },
   "outputs": [
    {
     "data": {
      "text/plain": [
       "'*--*--*--*--*--*--*--*--*--*--'"
      ]
     },
     "execution_count": 5,
     "metadata": {},
     "output_type": "execute_result"
    }
   ],
   "source": [
    "'*--' * 10"
   ]
  },
  {
   "cell_type": "markdown",
   "id": "571a96e9",
   "metadata": {},
   "source": [
    "# <font style=\"color:green\">Primitive Types</font>\n",
    "<hr style=\"height: 2px;\">"
   ]
  },
  {
   "cell_type": "code",
   "execution_count": 43,
   "id": "88bdcba0",
   "metadata": {},
   "outputs": [
    {
     "data": {
      "text/plain": [
       "True"
      ]
     },
     "execution_count": 43,
     "metadata": {},
     "output_type": "execute_result"
    }
   ],
   "source": [
    "#### String\n",
    "\"\"\n",
    "''\n",
    "\"\"\"\n",
    "for long text\n",
    "\"\"\"\n",
    "\"some TExt\"[:] # copy of \n",
    "\"some \\\"Text\"  # escape character with \\\n",
    "# format string: -----------------------------------------------\n",
    "\n",
    "first = \"masoud\"\n",
    "last = 'nazarpoor'\n",
    "full_name = f\"{first} {last}\"\n",
    "\n",
    "f\"{first.capitalize()} {last.capitalize()} len: {len(first) + len(last)}\"\n",
    "\n",
    "'Hello, %s %s' % (first,last)\n",
    "\n",
    "'Hello, %(first)s %(last)s' % {\"first\":'masoud',\"last\":'nazar'}\n",
    "\n",
    "'Hello, {first} {last}'.format(first=\"masoud\",last=\"nazar\")\n",
    "\n",
    "# methods: -----------------------------------------------\n",
    "len(\"some text\")\n",
    "full_name.upper()\n",
    "full_name.title()\n",
    "f\"  {full_name}\".strip() # trim: rstrip,lstrip\n",
    "full_name.find('masoud')\n",
    "full_name.replace('m','h')\n",
    "\"m\"not in full_name"
   ]
  },
  {
   "cell_type": "markdown",
   "id": "35dd5818",
   "metadata": {},
   "source": [
    "# <font style=\"color:green\">Condition</font>\n",
    "<hr style=\"height: 2px;\">"
   ]
  },
  {
   "cell_type": "code",
   "execution_count": 2,
   "id": "b798fcbf",
   "metadata": {},
   "outputs": [
    {
     "data": {
      "text/plain": [
       "'cold'"
      ]
     },
     "execution_count": 2,
     "metadata": {},
     "output_type": "execute_result"
    }
   ],
   "source": [
    "x = 15\n",
    "\"Hot\" if x > 30 else \"cold\""
   ]
  },
  {
   "cell_type": "code",
   "execution_count": 14,
   "id": "82facbf2",
   "metadata": {},
   "outputs": [
    {
     "name": "stdout",
     "output_type": "stream",
     "text": [
      "*\n"
     ]
    }
   ],
   "source": [
    "for i in range(1,3):\n",
    "    print(\"*\"*i)\n",
    "    break\n",
    "else:\n",
    "    print(\"----\") # run this scope if for not breaked"
   ]
  },
  {
   "cell_type": "markdown",
   "id": "65345bc8",
   "metadata": {},
   "source": [
    "# <font style=\"color:green\">Functions</font>\n",
    "<hr style=\"height: 2px;\">"
   ]
  },
  {
   "cell_type": "code",
   "execution_count": 28,
   "id": "7e5bef8a",
   "metadata": {},
   "outputs": [
    {
     "name": "stdout",
     "output_type": "stream",
     "text": [
      "()\n",
      "----------\n",
      "(1, 2, 3)\n",
      "----------\n"
     ]
    }
   ],
   "source": [
    "def increment(number, by = 1, *args):\n",
    "    print(args)\n",
    "    print('-'*10)\n",
    "\n",
    "increment(by=3,number=4)\n",
    "increment(2,3,1,2,3)"
   ]
  },
  {
   "cell_type": "code",
   "execution_count": 45,
   "id": "5a7a79da",
   "metadata": {},
   "outputs": [
    {
     "name": "stdout",
     "output_type": "stream",
     "text": [
      "{'name': 'masoud', 'age': 28}\n"
     ]
    }
   ],
   "source": [
    "def save_user(**user):\n",
    "    print(user)\n",
    "save_user(name='masoud',age=28)"
   ]
  },
  {
   "cell_type": "code",
   "execution_count": 57,
   "id": "ee2af64e",
   "metadata": {},
   "outputs": [
    {
     "name": "stdout",
     "output_type": "stream",
     "text": [
      "lets do it\n"
     ]
    }
   ],
   "source": [
    "message = 'hi im ready'\n",
    "def talk():\n",
    "    global message\n",
    "    message='lets do it'\n",
    "talk()\n",
    "print(message)\n"
   ]
  },
  {
   "cell_type": "code",
   "execution_count": null,
   "id": "1b92fe32",
   "metadata": {},
   "outputs": [],
   "source": []
  },
  {
   "cell_type": "code",
   "execution_count": null,
   "id": "6a7b6765",
   "metadata": {},
   "outputs": [],
   "source": []
  },
  {
   "cell_type": "code",
   "execution_count": null,
   "id": "44c83c60",
   "metadata": {},
   "outputs": [],
   "source": []
  }
 ],
 "metadata": {
  "kernelspec": {
   "display_name": "Python 3 (ipykernel)",
   "language": "python",
   "name": "python3"
  },
  "language_info": {
   "codemirror_mode": {
    "name": "ipython",
    "version": 3
   },
   "file_extension": ".py",
   "mimetype": "text/x-python",
   "name": "python",
   "nbconvert_exporter": "python",
   "pygments_lexer": "ipython3",
   "version": "3.9.13"
  }
 },
 "nbformat": 4,
 "nbformat_minor": 5
}
