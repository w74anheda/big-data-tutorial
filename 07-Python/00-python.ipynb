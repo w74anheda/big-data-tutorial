{
 "cells": [
  {
   "cell_type": "markdown",
   "id": "d5c80b29",
   "metadata": {},
   "source": [
    "# <font style=\"color:green\">Refrences</font>\n",
    "<hr style=\"height: 2px;\">\n",
    " - https://peps.python.org/pep-0000/"
   ]
  },
  {
   "cell_type": "markdown",
   "id": "256df008",
   "metadata": {},
   "source": [
    "# <font style=\"color:green\">Generals</font>\n",
    "<hr style=\"height: 2px;\">\n",
    "\n",
    " - ## Naming :\n",
    "         - camle_case\n",
    " ```\n",
    " - input(\"x: \")\n",
    " - type(x)\n",
    " - \"bag\" > \"apple\" => true\n",
    " \n",
    " ```\n",
    "     "
   ]
  },
  {
   "cell_type": "code",
   "execution_count": 20,
   "id": "6e5e3e95",
   "metadata": {},
   "outputs": [
    {
     "data": {
      "text/html": [
       "\n",
       "    <h1>Title</h1>\n"
      ],
      "text/plain": [
       "<IPython.core.display.HTML object>"
      ]
     },
     "execution_count": 20,
     "metadata": {},
     "output_type": "execute_result"
    }
   ],
   "source": [
    "from IPython.display import HTML\n",
    "HTML(\"\"\"\n",
    "    <h1>Title</h1>\n",
    "\"\"\")\n"
   ]
  },
  {
   "cell_type": "markdown",
   "id": "a0eb4d88",
   "metadata": {},
   "source": [
    "# <font style=\"color:green\">Tricks</font>\n",
    "<hr style=\"height: 2px;\">\n"
   ]
  },
  {
   "cell_type": "code",
   "execution_count": 5,
   "id": "baa6e362",
   "metadata": {
    "scrolled": true,
    "slideshow": {
     "slide_type": "-"
    }
   },
   "outputs": [
    {
     "data": {
      "text/plain": [
       "'*--*--*--*--*--*--*--*--*--*--'"
      ]
     },
     "execution_count": 5,
     "metadata": {},
     "output_type": "execute_result"
    }
   ],
   "source": [
    "'*--' * 10"
   ]
  },
  {
   "cell_type": "code",
   "execution_count": 14,
   "id": "6fd79c66",
   "metadata": {},
   "outputs": [
    {
     "data": {
      "text/plain": [
       "[1, 1, 1, 1, 1, 1, 1, 1, 1, 1]"
      ]
     },
     "execution_count": 14,
     "metadata": {},
     "output_type": "execute_result"
    }
   ],
   "source": [
    "[1,] * 10"
   ]
  },
  {
   "cell_type": "markdown",
   "id": "571a96e9",
   "metadata": {},
   "source": [
    "# <font style=\"color:green\">Primitive Types</font>\n",
    "<hr style=\"height: 2px;\">"
   ]
  },
  {
   "cell_type": "code",
   "execution_count": 43,
   "id": "88bdcba0",
   "metadata": {},
   "outputs": [
    {
     "data": {
      "text/plain": [
       "True"
      ]
     },
     "execution_count": 43,
     "metadata": {},
     "output_type": "execute_result"
    }
   ],
   "source": [
    "#### String\n",
    "\"\"\n",
    "''\n",
    "\"\"\"\n",
    "for long text\n",
    "\"\"\"\n",
    "\"some TExt\"[:] # copy of \n",
    "\"some \\\"Text\"  # escape character with \\\n",
    "# format string: -----------------------------------------------\n",
    "\n",
    "first = \"masoud\"\n",
    "last = 'nazarpoor'\n",
    "full_name = f\"{first} {last}\"\n",
    "\n",
    "f\"{first.capitalize()} {last.capitalize()} len: {len(first) + len(last)}\"\n",
    "\n",
    "'Hello, %s %s' % (first,last)\n",
    "\n",
    "'Hello, %(first)s %(last)s' % {\"first\":'masoud',\"last\":'nazar'}\n",
    "\n",
    "'Hello, {first} {last}'.format(first=\"masoud\",last=\"nazar\")\n",
    "\n",
    "# methods: -----------------------------------------------\n",
    "len(\"some text\")\n",
    "full_name.upper()\n",
    "full_name.title()\n",
    "f\"  {full_name}\".strip() # trim: rstrip,lstrip\n",
    "full_name.find('masoud')\n",
    "full_name.replace('m','h')\n",
    "\"m\"not in full_name"
   ]
  },
  {
   "cell_type": "markdown",
   "id": "35dd5818",
   "metadata": {},
   "source": [
    "# <font style=\"color:green\">Condition</font>\n",
    "<hr style=\"height: 2px;\">"
   ]
  },
  {
   "cell_type": "code",
   "execution_count": 2,
   "id": "b798fcbf",
   "metadata": {},
   "outputs": [
    {
     "data": {
      "text/plain": [
       "'cold'"
      ]
     },
     "execution_count": 2,
     "metadata": {},
     "output_type": "execute_result"
    }
   ],
   "source": [
    "x = 15\n",
    "\"Hot\" if x > 30 else \"cold\""
   ]
  },
  {
   "cell_type": "code",
   "execution_count": 14,
   "id": "82facbf2",
   "metadata": {},
   "outputs": [
    {
     "name": "stdout",
     "output_type": "stream",
     "text": [
      "*\n"
     ]
    }
   ],
   "source": [
    "for i in range(1,3):\n",
    "    print(\"*\"*i)\n",
    "    break\n",
    "else:\n",
    "    print(\"----\") # run this scope if for not breaked"
   ]
  },
  {
   "cell_type": "markdown",
   "id": "65345bc8",
   "metadata": {},
   "source": [
    "# <font style=\"color:green\">Functions</font>\n",
    "<hr style=\"height: 2px;\">"
   ]
  },
  {
   "cell_type": "code",
   "execution_count": 28,
   "id": "7e5bef8a",
   "metadata": {},
   "outputs": [
    {
     "name": "stdout",
     "output_type": "stream",
     "text": [
      "()\n",
      "----------\n",
      "(1, 2, 3)\n",
      "----------\n"
     ]
    }
   ],
   "source": [
    "def increment(number, by = 1, *args):\n",
    "    print(args)\n",
    "    print('-'*10)\n",
    "\n",
    "increment(by=3,number=4)\n",
    "increment(2,3,1,2,3)"
   ]
  },
  {
   "cell_type": "code",
   "execution_count": 45,
   "id": "5a7a79da",
   "metadata": {},
   "outputs": [
    {
     "name": "stdout",
     "output_type": "stream",
     "text": [
      "{'name': 'masoud', 'age': 28}\n"
     ]
    }
   ],
   "source": [
    "def save_user(**user):\n",
    "    print(user)\n",
    "save_user(name='masoud',age=28)"
   ]
  },
  {
   "cell_type": "code",
   "execution_count": 57,
   "id": "ee2af64e",
   "metadata": {},
   "outputs": [
    {
     "name": "stdout",
     "output_type": "stream",
     "text": [
      "lets do it\n"
     ]
    }
   ],
   "source": [
    "message = 'hi im ready'\n",
    "def talk():\n",
    "    global message\n",
    "    message='lets do it'\n",
    "talk()\n",
    "print(message)\n"
   ]
  },
  {
   "cell_type": "markdown",
   "id": "ff7ea2fb",
   "metadata": {},
   "source": [
    "# <font style=\"color:green\">Lists</font>\n",
    "<hr style=\"height: 2px;\">"
   ]
  },
  {
   "cell_type": "code",
   "execution_count": 30,
   "id": "6a7b6765",
   "metadata": {},
   "outputs": [
    {
     "data": {
      "text/plain": [
       "Ellipsis"
      ]
     },
     "execution_count": 30,
     "metadata": {},
     "output_type": "execute_result"
    }
   ],
   "source": [
    "x = [2,3,1] + [4,4,4,...]\n",
    "x[-1]"
   ]
  },
  {
   "cell_type": "code",
   "execution_count": 45,
   "id": "44c83c60",
   "metadata": {},
   "outputs": [
    {
     "data": {
      "text/plain": [
       "[2, 3, 1, 4, 4, 4, Ellipsis]"
      ]
     },
     "execution_count": 45,
     "metadata": {},
     "output_type": "execute_result"
    }
   ],
   "source": [
    "[*x]"
   ]
  },
  {
   "cell_type": "code",
   "execution_count": 47,
   "id": "4c276430",
   "metadata": {},
   "outputs": [
    {
     "data": {
      "text/plain": [
       "['s', 'o', 'm', 'e', ' ', 't', 'e', 'x', 't']"
      ]
     },
     "execution_count": 47,
     "metadata": {},
     "output_type": "execute_result"
    }
   ],
   "source": [
    "[*'some text']"
   ]
  },
  {
   "cell_type": "code",
   "execution_count": 48,
   "id": "97b6e817",
   "metadata": {},
   "outputs": [
    {
     "data": {
      "text/plain": [
       "['s', 'o', 'm', 'e', ' ', 't', 'e', 'x', 't']"
      ]
     },
     "execution_count": 48,
     "metadata": {},
     "output_type": "execute_result"
    }
   ],
   "source": [
    "[x for x in 'some text']"
   ]
  },
  {
   "cell_type": "code",
   "execution_count": 65,
   "id": "c969a56c",
   "metadata": {},
   "outputs": [
    {
     "data": {
      "text/plain": [
       "5"
      ]
     },
     "execution_count": 65,
     "metadata": {},
     "output_type": "execute_result"
    }
   ],
   "source": [
    "one, two,*other= [1,2,3,4,5]\n",
    "one, *other, five= [1,2,3,4,5]\n",
    "five"
   ]
  },
  {
   "cell_type": "code",
   "execution_count": 83,
   "id": "574dda54",
   "metadata": {},
   "outputs": [
    {
     "data": {
      "text/plain": [
       "[('product2', 3), ('product3', 4), ('product1', 5)]"
      ]
     },
     "execution_count": 83,
     "metadata": {},
     "output_type": "execute_result"
    }
   ],
   "source": [
    "items = [\n",
    "    ('product1',5),\n",
    "    ('product2',3),\n",
    "    ('product3',4),\n",
    "]\n",
    "def sort_item(item):\n",
    "    return item[1]\n",
    "\n",
    "items.sort(key=sort_item)\n",
    "items.sort(key=lambda item:item[1])\n",
    "sorted(items,key=lambda item:item[1])"
   ]
  },
  {
   "cell_type": "code",
   "execution_count": 89,
   "id": "9863c99c",
   "metadata": {},
   "outputs": [
    {
     "data": {
      "text/plain": [
       "[('A', 10, True), ('B', 5, False), ('C', 200, False)]"
      ]
     },
     "execution_count": 89,
     "metadata": {},
     "output_type": "execute_result"
    }
   ],
   "source": [
    "items = ['A','B','C']\n",
    "prices = [10,5,200]\n",
    "seled = [True,False,False]\n",
    "list(zip(items,prices,seled))"
   ]
  },
  {
   "cell_type": "code",
   "execution_count": 91,
   "id": "434febee",
   "metadata": {},
   "outputs": [
    {
     "name": "stdout",
     "output_type": "stream",
     "text": [
      "item: 3\n",
      "item: 2\n",
      "item: 1\n",
      "stack is empty\n"
     ]
    }
   ],
   "source": [
    "### Stack (LIFO last in, first out)\n",
    "stack = []\n",
    "stack.append(1)\n",
    "stack.append(2)\n",
    "stack.append(3)\n",
    "while True:\n",
    "    if not stack:\n",
    "        print('stack is empty')\n",
    "        break\n",
    "    print(f'item: {stack.pop()}')"
   ]
  },
  {
   "cell_type": "code",
   "execution_count": 92,
   "id": "f404d536",
   "metadata": {},
   "outputs": [
    {
     "name": "stdout",
     "output_type": "stream",
     "text": [
      "item: 1\n",
      "item: 2\n",
      "item: 3\n",
      "queue is empty\n"
     ]
    }
   ],
   "source": [
    "### Queue (FIFO first in, first out)\n",
    "from collections import deque\n",
    "queue = deque([])\n",
    "queue.append(1)\n",
    "queue.append(2)\n",
    "queue.append(3)\n",
    "\n",
    "while True:\n",
    "    if not queue:\n",
    "        print('queue is empty')\n",
    "        break\n",
    "    print(f'item: {queue.popleft()}')"
   ]
  },
  {
   "cell_type": "markdown",
   "id": "bc9a26da",
   "metadata": {},
   "source": [
    "# <font style=\"color:green\">Tuples</font>\n",
    "<hr style=\"height: 2px;\">"
   ]
  },
  {
   "cell_type": "code",
   "execution_count": 98,
   "id": "494772a9",
   "metadata": {},
   "outputs": [
    {
     "data": {
      "text/plain": [
       "(40.23, 32.55, 12.52, 40.23)"
      ]
     },
     "execution_count": 98,
     "metadata": {},
     "output_type": "execute_result"
    }
   ],
   "source": [
    "### tuple is immutable\n",
    "point1 = (40.23, 32.55)\n",
    "point2 = 12.52, 40.23\n",
    "point1 + point2"
   ]
  },
  {
   "cell_type": "markdown",
   "id": "283f8e3a",
   "metadata": {},
   "source": [
    "# <font style=\"color:green\">Array</font>\n",
    "<hr style=\"height: 2px;\">"
   ]
  },
  {
   "cell_type": "code",
   "execution_count": 101,
   "id": "7247098c",
   "metadata": {},
   "outputs": [
    {
     "data": {
      "text/plain": [
       "array('i', [1, 2, 3])"
      ]
     },
     "execution_count": 101,
     "metadata": {},
     "output_type": "execute_result"
    }
   ],
   "source": [
    "#https://docs.python.org/3/library/array.html\n",
    "from array import array\n",
    "array('i', [1,2,3])"
   ]
  },
  {
   "cell_type": "markdown",
   "id": "bad1122b",
   "metadata": {},
   "source": [
    "# <font style=\"color:green\">Sets</font>\n",
    "<hr style=\"height: 2px;\">"
   ]
  },
  {
   "cell_type": "code",
   "execution_count": 136,
   "id": "11ac46fc",
   "metadata": {},
   "outputs": [
    {
     "name": "stdout",
     "output_type": "stream",
     "text": [
      "{1, 2, 3, 4, 5}\n",
      "{4}\n",
      "{1, 2, 3}\n",
      "{1, 2, 3, 5}\n"
     ]
    }
   ],
   "source": [
    "# is mutable and unique and unorders: not have index\n",
    "first = set([1,2,3,3,1,4])\n",
    "second = {4,5,4}\n",
    "print(first | second)\n",
    "print(first & second)\n",
    "print(first - second)\n",
    "print(first ^ second)"
   ]
  },
  {
   "cell_type": "markdown",
   "id": "5592eca6",
   "metadata": {},
   "source": [
    "# <font style=\"color:green\">Dictionarys</font>\n",
    "<hr style=\"height: 2px;\">"
   ]
  },
  {
   "cell_type": "code",
   "execution_count": 20,
   "id": "d364ff21",
   "metadata": {},
   "outputs": [
    {
     "data": {
      "text/plain": [
       "25"
      ]
     },
     "execution_count": 20,
     "metadata": {},
     "output_type": "execute_result"
    }
   ],
   "source": [
    "user = {'id':2,'name':\"masoud\"}\n",
    "user['name']\n",
    "user.get('age',25) ## get id if not exist return defualt\n",
    "# del user['id']"
   ]
  },
  {
   "cell_type": "code",
   "execution_count": 32,
   "id": "f4ba55c1",
   "metadata": {},
   "outputs": [
    {
     "data": {
      "text/plain": [
       "[2, 'masoud']"
      ]
     },
     "execution_count": 32,
     "metadata": {},
     "output_type": "execute_result"
    }
   ],
   "source": [
    "[user[key] for key in user if key in ['id','name'] ]"
   ]
  },
  {
   "cell_type": "code",
   "execution_count": 43,
   "id": "f3e003c2",
   "metadata": {},
   "outputs": [
    {
     "data": {
      "text/plain": [
       "id           2\n",
       "name    masoud\n",
       "dtype: object"
      ]
     },
     "execution_count": 43,
     "metadata": {},
     "output_type": "execute_result"
    }
   ],
   "source": [
    "import pandas as pd\n",
    "userpd = pd.Series(user)\n",
    "userpd[['id','name']]"
   ]
  },
  {
   "cell_type": "code",
   "execution_count": 49,
   "id": "826a8952",
   "metadata": {},
   "outputs": [
    {
     "data": {
      "text/plain": [
       "dict_items([('id', 2), ('name', 'masoud')])"
      ]
     },
     "execution_count": 49,
     "metadata": {},
     "output_type": "execute_result"
    }
   ],
   "source": [
    "user.items()"
   ]
  },
  {
   "cell_type": "code",
   "execution_count": 12,
   "id": "36e80f3d",
   "metadata": {},
   "outputs": [
    {
     "name": "stdout",
     "output_type": "stream",
     "text": [
      "{'x', 'y'}\n",
      "{'x': 10, 'y': 20}\n"
     ]
    }
   ],
   "source": [
    "first = {\"x\":1}\n",
    "second = {\"x\":10, \"y\": 20}\n",
    "print({*first,*second})\n",
    "print({**first,**second})"
   ]
  },
  {
   "cell_type": "markdown",
   "id": "6686e898",
   "metadata": {},
   "source": [
    "# <font style=\"color:green\">Generators</font>\n",
    "<hr style=\"height: 2px;\">"
   ]
  },
  {
   "cell_type": "code",
   "execution_count": 1,
   "id": "96cd2125",
   "metadata": {},
   "outputs": [],
   "source": [
    "from sys import getsizeof"
   ]
  },
  {
   "cell_type": "code",
   "execution_count": 2,
   "id": "ca84644b",
   "metadata": {},
   "outputs": [
    {
     "name": "stdout",
     "output_type": "stream",
     "text": [
      "<class 'list'>\n",
      "8448728\n"
     ]
    }
   ],
   "source": [
    "data = [x for x in range(1000000)]\n",
    "print(type(data))\n",
    "print(getsizeof(data))"
   ]
  },
  {
   "cell_type": "code",
   "execution_count": 3,
   "id": "a329bdf2",
   "metadata": {},
   "outputs": [
    {
     "name": "stdout",
     "output_type": "stream",
     "text": [
      "<class 'generator'>\n",
      "112\n"
     ]
    }
   ],
   "source": [
    "data = (x for x in range(1000000))\n",
    "print(type(data))\n",
    "print(getsizeof(data))"
   ]
  },
  {
   "cell_type": "markdown",
   "id": "37d8886b",
   "metadata": {},
   "source": [
    "# <font style=\"color:green\">Exceptions</font>\n",
    "<hr style=\"height: 2px;\">\n",
    " *** raise Exception has cost for code"
   ]
  },
  {
   "cell_type": "code",
   "execution_count": 25,
   "id": "a31d51b0",
   "metadata": {},
   "outputs": [
    {
     "name": "stdout",
     "output_type": "stream",
     "text": [
      "age:2\n",
      "else method run if not throw error \n",
      "finally method run at the end if throw error or not\n"
     ]
    }
   ],
   "source": [
    "try:\n",
    "    age = int(input('age:'))\n",
    "except ValueError as err:\n",
    "    print(err)\n",
    "    print(type(err))\n",
    "else:\n",
    "    print('else method run if not throw error ')\n",
    "finally:\n",
    "    print('finally method run at the end if throw error or not')"
   ]
  },
  {
   "cell_type": "code",
   "execution_count": 22,
   "id": "c29c16ce",
   "metadata": {},
   "outputs": [
    {
     "name": "stdout",
     "output_type": "stream",
     "text": [
      "age:asd\n",
      "error: invalid literal for int() with base 10: 'asd'\n"
     ]
    }
   ],
   "source": [
    "try:\n",
    "    age = int(input('age:'))\n",
    "    age = age/0\n",
    "except (ValueError,ZeroDivisionError) as err:\n",
    "    print('error:',err)"
   ]
  },
  {
   "cell_type": "code",
   "execution_count": 42,
   "id": "7caeb7ec",
   "metadata": {},
   "outputs": [
    {
     "name": "stdout",
     "output_type": "stream",
     "text": [
      "['app = 20\\n', 'age = 30, \"some text\"']\n"
     ]
    }
   ],
   "source": [
    "with open('./app.py') as file, open('./app.py') as target:\n",
    "    print(file.readlines())\n",
    "    \n",
    "# if an class or object support methods(__enter__, __exit__) its support with statement"
   ]
  },
  {
   "cell_type": "code",
   "execution_count": 43,
   "id": "1ee30b3d",
   "metadata": {},
   "outputs": [
    {
     "ename": "ValueError",
     "evalue": "",
     "output_type": "error",
     "traceback": [
      "\u001b[0;31m---------------------------------------------------------------------------\u001b[0m",
      "\u001b[0;31mValueError\u001b[0m                                Traceback (most recent call last)",
      "\u001b[0;32m/tmp/ipykernel_17618/4096975414.py\u001b[0m in \u001b[0;36m<module>\u001b[0;34m\u001b[0m\n\u001b[0;32m----> 1\u001b[0;31m \u001b[0;32mraise\u001b[0m \u001b[0mValueError\u001b[0m\u001b[0;34m\u001b[0m\u001b[0;34m\u001b[0m\u001b[0m\n\u001b[0m",
      "\u001b[0;31mValueError\u001b[0m: "
     ]
    }
   ],
   "source": [
    "raise ValueError"
   ]
  },
  {
   "cell_type": "code",
   "execution_count": 4,
   "id": "2c1aea8a",
   "metadata": {},
   "outputs": [
    {
     "name": "stdout",
     "output_type": "stream",
     "text": [
      "1.2313143250003122\n",
      "0.16116440599944326\n"
     ]
    }
   ],
   "source": [
    "from timeit import timeit\n",
    "code1 = \"\"\"\n",
    "data = [x for x in range(100000)]\n",
    "\"\"\"\n",
    "\n",
    "code2 = \"\"\"\n",
    "data = (x for x in range(1000000))\n",
    "\"\"\"\n",
    "\n",
    "\n",
    "print(timeit(code1,number=1000))\n",
    "print(timeit(code2,number=1000000))"
   ]
  },
  {
   "cell_type": "markdown",
   "id": "4817d7f5",
   "metadata": {},
   "source": [
    "# <font style=\"color:green\">Classess</font>\n",
    "<hr style=\"height: 2px;\">"
   ]
  },
  {
   "cell_type": "code",
   "execution_count": 58,
   "id": "ae566027",
   "metadata": {},
   "outputs": [
    {
     "name": "stdout",
     "output_type": "stream",
     "text": [
      "moved to: x:10, y:22, z:50, d:40\n"
     ]
    },
    {
     "data": {
      "text/plain": [
       "<__main__.Point at 0x7f987d65d7c0>"
      ]
     },
     "execution_count": 58,
     "metadata": {},
     "output_type": "execute_result"
    }
   ],
   "source": [
    "class Point:\n",
    "    d = 20\n",
    "    def __init__(self, x, y):\n",
    "        self.x = x\n",
    "        self.y = y\n",
    "        \n",
    "    def move(self):\n",
    "        print(f'moved to: x:{self.x}, y:{self.y}, z:{self.z}, d:{self.d}')\n",
    "    \n",
    "    @classmethod #static\n",
    "    def center(cls):\n",
    "        return cls(30,40)\n",
    "\n",
    "point = Point(10,22)\n",
    "isinstance(point,int)\n",
    "isinstance(point,Point)\n",
    "point.x\n",
    "point.z = 50\n",
    "point.d = 40\n",
    "point.move()\n",
    "\n",
    "Point.center()"
   ]
  },
  {
   "cell_type": "code",
   "execution_count": 115,
   "id": "8584e840",
   "metadata": {},
   "outputs": [
    {
     "name": "stdout",
     "output_type": "stream",
     "text": [
      "False\n",
      "True\n",
      "x: 90 y: 56\n",
      "ali\n",
      "-----name-----\n",
      "-----age-----\n"
     ]
    }
   ],
   "source": [
    "# magic methods\n",
    " \n",
    "class Point:\n",
    "    tags = {'name':'masoud','age':22}\n",
    "    def __init__(self, x, y):\n",
    "        self.x = x\n",
    "        self.y = y\n",
    "\n",
    "    def __str__(self):\n",
    "        return (f'x: {self.x} y: {self.y}')\n",
    "    \n",
    "    def __eq__(self, other):\n",
    "        return self.x == other.x and self.y == other.y\n",
    "    \n",
    "    def __gt__(self, other):\n",
    "        return self.x > other.x and self.y > other.y\n",
    "    def __add__(self, other):\n",
    "        return Point(self.x+other.x,self.y+other.y)\n",
    "\n",
    "    def __getitem__(self,tag):\n",
    "        return self.tags[tag]\n",
    "    \n",
    "    def __setitem__(self,tag,value):\n",
    "        self.tags[tag] = value\n",
    "        return self.tags\n",
    "    def __len__(self):\n",
    "        return len(self.tags)\n",
    "    def __iter__(self):\n",
    "        return iter(self.tags)\n",
    "    \n",
    "    \n",
    "point_1 = Point(10,12)\n",
    "point_2 = Point(80,44)\n",
    "print(point_1==point_2)\n",
    "print(point_1<point_2)\n",
    "print(point_1+point_2)\n",
    "\n",
    "point_1['name'] = 'ali'\n",
    "print(point_1['name'])\n",
    "len(point_1)\n",
    "\n",
    "for key in point_1:\n",
    "    print(f'-----{key}-----')"
   ]
  },
  {
   "cell_type": "code",
   "execution_count": 53,
   "id": "d5b618e1",
   "metadata": {},
   "outputs": [
    {
     "data": {
      "text/plain": [
       "{'_Point__x': 10, '_Point__y': 20}"
      ]
     },
     "execution_count": 53,
     "metadata": {},
     "output_type": "execute_result"
    }
   ],
   "source": [
    "# private\n",
    "class Point:\n",
    "    def __init__(self, x, y):\n",
    "        self.__x = x\n",
    "        self.__y = y\n",
    "point = Point(10,20)\n",
    "point.__dict__\n"
   ]
  },
  {
   "cell_type": "code",
   "execution_count": 61,
   "id": "7a845eba",
   "metadata": {},
   "outputs": [
    {
     "ename": "AttributeError",
     "evalue": "can't set attribute",
     "output_type": "error",
     "traceback": [
      "\u001b[0;31m---------------------------------------------------------------------------\u001b[0m",
      "\u001b[0;31mAttributeError\u001b[0m                            Traceback (most recent call last)",
      "\u001b[0;32m/tmp/ipykernel_6284/1983425109.py\u001b[0m in \u001b[0;36m<module>\u001b[0;34m\u001b[0m\n\u001b[1;32m     18\u001b[0m \u001b[0;31m#     price = property(get_price, set_price)\u001b[0m\u001b[0;34m\u001b[0m\u001b[0;34m\u001b[0m\u001b[0m\n\u001b[1;32m     19\u001b[0m \u001b[0;34m\u001b[0m\u001b[0m\n\u001b[0;32m---> 20\u001b[0;31m \u001b[0mproduct\u001b[0m \u001b[0;34m=\u001b[0m \u001b[0mProduct\u001b[0m\u001b[0;34m(\u001b[0m\u001b[0;36m10\u001b[0m\u001b[0;34m)\u001b[0m\u001b[0;34m\u001b[0m\u001b[0;34m\u001b[0m\u001b[0m\n\u001b[0m\u001b[1;32m     21\u001b[0m \u001b[0mproduct\u001b[0m\u001b[0;34m.\u001b[0m\u001b[0mprice\u001b[0m \u001b[0;34m=\u001b[0m \u001b[0;34m-\u001b[0m\u001b[0;36m1\u001b[0m\u001b[0;34m\u001b[0m\u001b[0;34m\u001b[0m\u001b[0m\n",
      "\u001b[0;32m/tmp/ipykernel_6284/1983425109.py\u001b[0m in \u001b[0;36m__init__\u001b[0;34m(self, price)\u001b[0m\n\u001b[1;32m      4\u001b[0m \u001b[0;34m\u001b[0m\u001b[0m\n\u001b[1;32m      5\u001b[0m     \u001b[0;32mdef\u001b[0m \u001b[0m__init__\u001b[0m\u001b[0;34m(\u001b[0m\u001b[0mself\u001b[0m\u001b[0;34m,\u001b[0m \u001b[0mprice\u001b[0m\u001b[0;34m)\u001b[0m\u001b[0;34m:\u001b[0m\u001b[0;34m\u001b[0m\u001b[0;34m\u001b[0m\u001b[0m\n\u001b[0;32m----> 6\u001b[0;31m         \u001b[0mself\u001b[0m\u001b[0;34m.\u001b[0m\u001b[0mprice\u001b[0m \u001b[0;34m=\u001b[0m \u001b[0mprice\u001b[0m\u001b[0;34m\u001b[0m\u001b[0;34m\u001b[0m\u001b[0m\n\u001b[0m\u001b[1;32m      7\u001b[0m \u001b[0;34m\u001b[0m\u001b[0m\n\u001b[1;32m      8\u001b[0m     \u001b[0;34m@\u001b[0m\u001b[0mproperty\u001b[0m\u001b[0;34m\u001b[0m\u001b[0;34m\u001b[0m\u001b[0m\n",
      "\u001b[0;31mAttributeError\u001b[0m: can't set attribute"
     ]
    }
   ],
   "source": [
    "# properties\n",
    " \n",
    "class Product:\n",
    "    \n",
    "    def __init__(self, price):\n",
    "        self.price = price\n",
    "       \n",
    "    @property\n",
    "    def price(self):\n",
    "        return self.__price\n",
    "    \n",
    "#     @price.setter\n",
    "#     def price(self, value):\n",
    "#         if value < 0 :\n",
    "#             raise ValueError('price most be grather than 0')\n",
    "#         self.__price = value\n",
    "    \n",
    "#     price = property(get_price, set_price)\n",
    "        \n",
    "product = Product(10)\n",
    "product.price = -1"
   ]
  },
  {
   "cell_type": "code",
   "execution_count": 95,
   "id": "b361d749",
   "metadata": {},
   "outputs": [
    {
     "name": "stdout",
     "output_type": "stream",
     "text": [
      "True\n",
      "True\n",
      "fish: fish_01 eat ...\n",
      "mammal: mammal_01 eat ...\n"
     ]
    }
   ],
   "source": [
    "# inheritance\n",
    "class Animal(object):\n",
    "    \n",
    "    def __init__(self, name):\n",
    "        self.name = name\n",
    "        \n",
    "    def eat(self):\n",
    "        print('eat ...')\n",
    "                \n",
    "\n",
    "class Fish(Animal):\n",
    "    \n",
    "    def __init__(self, name):\n",
    "        super().__init__(name)\n",
    "        \n",
    "    def move(self):\n",
    "        print('move ...')\n",
    "        \n",
    "    def eat(self):\n",
    "        print(f'fish: {self.name} eat ...')\n",
    "        \n",
    "        \n",
    "class Mammal(Animal):\n",
    "    def __init__(self, name):\n",
    "        super().__init__(name)\n",
    "        \n",
    "    def walk(self):\n",
    "        print('walk ...')\n",
    "        \n",
    "    def eat(self):\n",
    "        print(f'mammal: {self.name} eat ...')\n",
    "        \n",
    "fish = Fish('fish_01')\n",
    "mammal = Mammal('mammal_01')\n",
    "\n",
    "print( isinstance(fish, Animal) )\n",
    "print( issubclass(Fish, Animal) )\n",
    "\n",
    "fish.eat()\n",
    "mammal.eat()"
   ]
  },
  {
   "cell_type": "code",
   "execution_count": 99,
   "id": "5214e2ba",
   "metadata": {},
   "outputs": [
    {
     "name": "stdout",
     "output_type": "stream",
     "text": [
      "Person greet ...\n"
     ]
    }
   ],
   "source": [
    "# multiple inheritance\n",
    "\n",
    "class Employee:\n",
    "    def greet(self):\n",
    "        print('Employee greet ...')\n",
    "        \n",
    "\n",
    "class Person:\n",
    "    def greet(self):\n",
    "        print('Person greet ...')\n",
    "        \n",
    "        \n",
    "class Manager(Person, Employee):\n",
    "    pass   \n",
    "\n",
    "manager = Manager()\n",
    "manager.greet()"
   ]
  },
  {
   "cell_type": "code",
   "execution_count": null,
   "id": "21439359",
   "metadata": {},
   "outputs": [],
   "source": [
    "# custom Exception\n",
    "class InvalidOperationError(Exception):\n",
    "    pass"
   ]
  },
  {
   "cell_type": "code",
   "execution_count": 122,
   "id": "182b250d",
   "metadata": {},
   "outputs": [
    {
     "name": "stdout",
     "output_type": "stream",
     "text": [
      "read ...\n"
     ]
    }
   ],
   "source": [
    "# abstract class\n",
    "from abc import ABC, abstractmethod, abstractclassmethod,abstractproperty, abstractstaticmethod\n",
    "    \n",
    "class Stream(ABC):\n",
    "    def open(self):\n",
    "        print('opened')\n",
    "    \n",
    "    def close(self):\n",
    "        print('closed')\n",
    "        \n",
    "    @abstractmethod\n",
    "    def read(self):\n",
    "        pass\n",
    "    \n",
    "class File(Stream):\n",
    "    def read(self):\n",
    "        print('read ...')\n",
    "\n",
    "file = File()\n",
    "file.read()"
   ]
  },
  {
   "cell_type": "code",
   "execution_count": 142,
   "id": "4ff344b0",
   "metadata": {},
   "outputs": [
    {
     "name": "stdout",
     "output_type": "stream",
     "text": [
      "False\n",
      "140634353898304 140634353900464\n",
      "**********\n",
      "True\n",
      "140634356410496 140634355061504\n",
      "3\n"
     ]
    },
    {
     "ename": "AttributeError",
     "evalue": "can't set attribute",
     "output_type": "error",
     "traceback": [
      "\u001b[0;31m---------------------------------------------------------------------------\u001b[0m",
      "\u001b[0;31mAttributeError\u001b[0m                            Traceback (most recent call last)",
      "\u001b[0;32m/tmp/ipykernel_6284/2206480311.py\u001b[0m in \u001b[0;36m<module>\u001b[0;34m\u001b[0m\n\u001b[1;32m     22\u001b[0m \u001b[0mprint\u001b[0m\u001b[0;34m(\u001b[0m\u001b[0mid\u001b[0m\u001b[0;34m(\u001b[0m\u001b[0mp3\u001b[0m\u001b[0;34m)\u001b[0m\u001b[0;34m,\u001b[0m\u001b[0mid\u001b[0m\u001b[0;34m(\u001b[0m\u001b[0mp4\u001b[0m\u001b[0;34m)\u001b[0m\u001b[0;34m)\u001b[0m\u001b[0;34m\u001b[0m\u001b[0;34m\u001b[0m\u001b[0m\n\u001b[1;32m     23\u001b[0m \u001b[0mprint\u001b[0m\u001b[0;34m(\u001b[0m\u001b[0mp3\u001b[0m\u001b[0;34m.\u001b[0m\u001b[0mx\u001b[0m\u001b[0;34m)\u001b[0m\u001b[0;34m\u001b[0m\u001b[0;34m\u001b[0m\u001b[0m\n\u001b[0;32m---> 24\u001b[0;31m \u001b[0mp3\u001b[0m\u001b[0;34m.\u001b[0m\u001b[0mx\u001b[0m \u001b[0;34m=\u001b[0m \u001b[0;36m10\u001b[0m  \u001b[0;31m# immutable\u001b[0m\u001b[0;34m\u001b[0m\u001b[0;34m\u001b[0m\u001b[0m\n\u001b[0m",
      "\u001b[0;31mAttributeError\u001b[0m: can't set attribute"
     ]
    }
   ],
   "source": [
    "# data classes\n",
    "\n",
    "class Point:\n",
    "    def __init__(self, x, y):\n",
    "        self.x = x\n",
    "        self.y = y\n",
    "        \n",
    "p1 = Point(1,2)\n",
    "p2 = Point(1,2)\n",
    "\n",
    "print(p1==p2)\n",
    "print(id(p1),id(p2))\n",
    "print('*'*10)\n",
    "\n",
    "# ----------------------------------\n",
    "\n",
    "from collections import namedtuple\n",
    "Point = namedtuple('Point',['x','y'])\n",
    "p3 = Point(x= 3, y= 4)\n",
    "p4 = Point(3,4)\n",
    "print(p3==p4)\n",
    "print(id(p3),id(p4))\n",
    "print(p3.x)\n",
    "p3.x = 10  # immutable"
   ]
  },
  {
   "cell_type": "markdown",
   "id": "f95ccd6b",
   "metadata": {},
   "source": [
    "# <font style=\"color:green\">modules</font>\n",
    "<hr style=\"height: 2px;\">"
   ]
  },
  {
   "cell_type": "code",
   "execution_count": 4,
   "id": "6597f3a8",
   "metadata": {},
   "outputs": [],
   "source": [
    "from modules.shopping.sales import isum\n",
    "from modules.package import *\n",
    "import modules.package\n",
    "from modules import package\n",
    "from modules.shopping import sales"
   ]
  },
  {
   "cell_type": "code",
   "execution_count": 7,
   "id": "812afe77",
   "metadata": {},
   "outputs": [
    {
     "name": "stdout",
     "output_type": "stream",
     "text": [
      "-------------\n",
      "| sum: 31.2 |\n",
      "-------------\n"
     ]
    }
   ],
   "source": [
    "nice_print(f'sum: {isum(10,20,0,1.2)}')"
   ]
  },
  {
   "cell_type": "code",
   "execution_count": 9,
   "id": "ddba6129",
   "metadata": {},
   "outputs": [
    {
     "name": "stdout",
     "output_type": "stream",
     "text": [
      "init: __main__\n"
     ]
    }
   ],
   "source": [
    "if __name__ == '__main__':\n",
    "    print('init:',__name__)"
   ]
  },
  {
   "cell_type": "markdown",
   "id": "46b1bb93",
   "metadata": {},
   "source": [
    "### -------------------<font style=\"color:orange\">Path</font>\n",
    "<hr style=\"height: 2px;\">"
   ]
  },
  {
   "cell_type": "code",
   "execution_count": 51,
   "id": "684bab35",
   "metadata": {},
   "outputs": [],
   "source": [
    "from pathlib import Path"
   ]
  },
  {
   "cell_type": "code",
   "execution_count": 34,
   "id": "f3c57656",
   "metadata": {},
   "outputs": [
    {
     "data": {
      "text/plain": [
       "PosixPath('modules/modules/__init__.py')"
      ]
     },
     "execution_count": 34,
     "metadata": {},
     "output_type": "execute_result"
    }
   ],
   "source": [
    "p1 = Path('./modules/')\n",
    "p2 = Path('./modules/__init__.py')\n",
    "combined = p1/p2\n",
    "combined"
   ]
  },
  {
   "cell_type": "code",
   "execution_count": 81,
   "id": "a4a96a6b",
   "metadata": {},
   "outputs": [
    {
     "data": {
      "text/plain": [
       "False"
      ]
     },
     "execution_count": 81,
     "metadata": {},
     "output_type": "execute_result"
    }
   ],
   "source": [
    "Path.home()\n",
    "Path('adsad').exists()\n",
    "Path('adsad').is_dir()\n",
    "Path('adsad').is_file()"
   ]
  },
  {
   "cell_type": "code",
   "execution_count": 128,
   "id": "38c95d66",
   "metadata": {},
   "outputs": [
    {
     "name": "stdout",
     "output_type": "stream",
     "text": [
      "00-python.ipynb\n",
      "00-python\n",
      ".ipynb\n",
      ".\n",
      "/home/masoud/Projects/Learn/07-Python/00-python.ipynb\n"
     ]
    }
   ],
   "source": [
    "print(Path('./00-python.ipynb').name)\n",
    "print(Path('./00-python.ipynb').stem)\n",
    "print(Path('./00-python.ipynb').suffix)\n",
    "print(Path('./00-python.ipynb').parent)\n",
    "print(Path('./00-python.ipynb').absolute())"
   ]
  },
  {
   "cell_type": "code",
   "execution_count": 151,
   "id": "4e1349b9",
   "metadata": {},
   "outputs": [
    {
     "data": {
      "text/plain": [
       "[PosixPath('modules'),\n",
       " PosixPath('.ipynb_checkpoints'),\n",
       " PosixPath('contents'),\n",
       " PosixPath('.vscode')]"
      ]
     },
     "execution_count": 151,
     "metadata": {},
     "output_type": "execute_result"
    }
   ],
   "source": [
    "Path('asdasd').mkdir(exist_ok=True)\n",
    "Path('asdasd').rename('bbb')\n",
    "Path('bbb').rmdir() # dir must be empty\n",
    "\n",
    "dirs = [p for p in Path('.').iterdir() if p.is_dir()]\n",
    "dirs"
   ]
  },
  {
   "cell_type": "code",
   "execution_count": 176,
   "id": "d08b7bae",
   "metadata": {},
   "outputs": [
    {
     "data": {
      "text/plain": [
       "[PosixPath('contents/cyper_03.csv'),\n",
       " PosixPath('contents/cyper_01.csv'),\n",
       " PosixPath('contents/cyper_02.csv')]"
      ]
     },
     "execution_count": 176,
     "metadata": {},
     "output_type": "execute_result"
    }
   ],
   "source": [
    "[p for p in Path().rglob('*.csv')]"
   ]
  },
  {
   "cell_type": "code",
   "execution_count": 219,
   "id": "609fcdaa",
   "metadata": {},
   "outputs": [],
   "source": [
    "Path('./contents/cyper_01.csv').stat()\n",
    "Path('./contents/cyper_1000.csv').touch()\n",
    "\n",
    "with open('./contents/cyper_1000.csv', 'w') as file:\n",
    "    file.write('aaaa')\n",
    "    \n",
    "Path('./contents/cyper_1000.csv').unlink() # delete file"
   ]
  },
  {
   "cell_type": "code",
   "execution_count": null,
   "id": "017e38db",
   "metadata": {},
   "outputs": [],
   "source": [
    "import shutil\n",
    "shutil.copy('./contents/cyper_01.csv','./contentss/222.csv')\n",
    "# Path('./contents/222.csv').unlink()"
   ]
  },
  {
   "cell_type": "code",
   "execution_count": 223,
   "id": "3a9afc39",
   "metadata": {},
   "outputs": [],
   "source": [
    "shutil.rmtree('./aa/') # remove recursive dir "
   ]
  },
  {
   "cell_type": "code",
   "execution_count": null,
   "id": "5af64de2",
   "metadata": {},
   "outputs": [],
   "source": []
  },
  {
   "cell_type": "code",
   "execution_count": null,
   "id": "217f5125",
   "metadata": {},
   "outputs": [],
   "source": []
  },
  {
   "cell_type": "code",
   "execution_count": null,
   "id": "4d1d6065",
   "metadata": {},
   "outputs": [],
   "source": []
  },
  {
   "cell_type": "code",
   "execution_count": null,
   "id": "63ddaa46",
   "metadata": {},
   "outputs": [],
   "source": []
  },
  {
   "cell_type": "code",
   "execution_count": null,
   "id": "fca1d7c0",
   "metadata": {},
   "outputs": [],
   "source": []
  }
 ],
 "metadata": {
  "kernelspec": {
   "display_name": "Python 3 (ipykernel)",
   "language": "python",
   "name": "python3"
  },
  "language_info": {
   "codemirror_mode": {
    "name": "ipython",
    "version": 3
   },
   "file_extension": ".py",
   "mimetype": "text/x-python",
   "name": "python",
   "nbconvert_exporter": "python",
   "pygments_lexer": "ipython3",
   "version": "3.9.13"
  }
 },
 "nbformat": 4,
 "nbformat_minor": 5
}
