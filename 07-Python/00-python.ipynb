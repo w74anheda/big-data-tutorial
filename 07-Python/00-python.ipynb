{
 "cells": [
  {
   "cell_type": "markdown",
   "id": "d5c80b29",
   "metadata": {},
   "source": [
    "# <font style=\"color:green\">Refrences</font>\n",
    "<hr style=\"height: 2px;\">\n",
    " - https://peps.python.org/pep-0000/"
   ]
  },
  {
   "cell_type": "markdown",
   "id": "256df008",
   "metadata": {},
   "source": [
    "# <font style=\"color:green\">Generals</font>\n",
    "<hr style=\"height: 2px;\">\n",
    "\n",
    " - ## Naming :\n",
    "         - camle_case\n",
    " ```\n",
    " - input(\"x: \")\n",
    " - type(x)\n",
    " - \"bag\" > \"apple\" => true\n",
    " \n",
    " ```\n",
    "     "
   ]
  },
  {
   "cell_type": "code",
   "execution_count": 20,
   "id": "6e5e3e95",
   "metadata": {},
   "outputs": [
    {
     "data": {
      "text/html": [
       "\n",
       "    <h1>Title</h1>\n"
      ],
      "text/plain": [
       "<IPython.core.display.HTML object>"
      ]
     },
     "execution_count": 20,
     "metadata": {},
     "output_type": "execute_result"
    }
   ],
   "source": [
    "from IPython.display import HTML\n",
    "HTML(\"\"\"\n",
    "    <h1>Title</h1>\n",
    "\"\"\")\n"
   ]
  },
  {
   "cell_type": "markdown",
   "id": "a0eb4d88",
   "metadata": {},
   "source": [
    "# <font style=\"color:green\">Tricks</font>\n",
    "<hr style=\"height: 2px;\">\n"
   ]
  },
  {
   "cell_type": "code",
   "execution_count": 5,
   "id": "baa6e362",
   "metadata": {
    "scrolled": true,
    "slideshow": {
     "slide_type": "-"
    }
   },
   "outputs": [
    {
     "data": {
      "text/plain": [
       "'*--*--*--*--*--*--*--*--*--*--'"
      ]
     },
     "execution_count": 5,
     "metadata": {},
     "output_type": "execute_result"
    }
   ],
   "source": [
    "'*--' * 10"
   ]
  },
  {
   "cell_type": "code",
   "execution_count": 14,
   "id": "6fd79c66",
   "metadata": {},
   "outputs": [
    {
     "data": {
      "text/plain": [
       "[1, 1, 1, 1, 1, 1, 1, 1, 1, 1]"
      ]
     },
     "execution_count": 14,
     "metadata": {},
     "output_type": "execute_result"
    }
   ],
   "source": [
    "[1,] * 10"
   ]
  },
  {
   "cell_type": "markdown",
   "id": "571a96e9",
   "metadata": {},
   "source": [
    "# <font style=\"color:green\">Primitive Types</font>\n",
    "<hr style=\"height: 2px;\">"
   ]
  },
  {
   "cell_type": "code",
   "execution_count": 43,
   "id": "88bdcba0",
   "metadata": {},
   "outputs": [
    {
     "data": {
      "text/plain": [
       "True"
      ]
     },
     "execution_count": 43,
     "metadata": {},
     "output_type": "execute_result"
    }
   ],
   "source": [
    "#### String\n",
    "\"\"\n",
    "''\n",
    "\"\"\"\n",
    "for long text\n",
    "\"\"\"\n",
    "\"some TExt\"[:] # copy of \n",
    "\"some \\\"Text\"  # escape character with \\\n",
    "# format string: -----------------------------------------------\n",
    "\n",
    "first = \"masoud\"\n",
    "last = 'nazarpoor'\n",
    "full_name = f\"{first} {last}\"\n",
    "\n",
    "f\"{first.capitalize()} {last.capitalize()} len: {len(first) + len(last)}\"\n",
    "\n",
    "'Hello, %s %s' % (first,last)\n",
    "\n",
    "'Hello, %(first)s %(last)s' % {\"first\":'masoud',\"last\":'nazar'}\n",
    "\n",
    "'Hello, {first} {last}'.format(first=\"masoud\",last=\"nazar\")\n",
    "\n",
    "# methods: -----------------------------------------------\n",
    "len(\"some text\")\n",
    "full_name.upper()\n",
    "full_name.title()\n",
    "f\"  {full_name}\".strip() # trim: rstrip,lstrip\n",
    "full_name.find('masoud')\n",
    "full_name.replace('m','h')\n",
    "\"m\"not in full_name"
   ]
  },
  {
   "cell_type": "markdown",
   "id": "35dd5818",
   "metadata": {},
   "source": [
    "# <font style=\"color:green\">Condition</font>\n",
    "<hr style=\"height: 2px;\">"
   ]
  },
  {
   "cell_type": "code",
   "execution_count": 2,
   "id": "b798fcbf",
   "metadata": {},
   "outputs": [
    {
     "data": {
      "text/plain": [
       "'cold'"
      ]
     },
     "execution_count": 2,
     "metadata": {},
     "output_type": "execute_result"
    }
   ],
   "source": [
    "x = 15\n",
    "\"Hot\" if x > 30 else \"cold\""
   ]
  },
  {
   "cell_type": "code",
   "execution_count": 14,
   "id": "82facbf2",
   "metadata": {},
   "outputs": [
    {
     "name": "stdout",
     "output_type": "stream",
     "text": [
      "*\n"
     ]
    }
   ],
   "source": [
    "for i in range(1,3):\n",
    "    print(\"*\"*i)\n",
    "    break\n",
    "else:\n",
    "    print(\"----\") # run this scope if for not breaked"
   ]
  },
  {
   "cell_type": "markdown",
   "id": "65345bc8",
   "metadata": {},
   "source": [
    "# <font style=\"color:green\">Functions</font>\n",
    "<hr style=\"height: 2px;\">"
   ]
  },
  {
   "cell_type": "code",
   "execution_count": 28,
   "id": "7e5bef8a",
   "metadata": {},
   "outputs": [
    {
     "name": "stdout",
     "output_type": "stream",
     "text": [
      "()\n",
      "----------\n",
      "(1, 2, 3)\n",
      "----------\n"
     ]
    }
   ],
   "source": [
    "def increment(number, by = 1, *args):\n",
    "    print(args)\n",
    "    print('-'*10)\n",
    "\n",
    "increment(by=3,number=4)\n",
    "increment(2,3,1,2,3)"
   ]
  },
  {
   "cell_type": "code",
   "execution_count": 45,
   "id": "5a7a79da",
   "metadata": {},
   "outputs": [
    {
     "name": "stdout",
     "output_type": "stream",
     "text": [
      "{'name': 'masoud', 'age': 28}\n"
     ]
    }
   ],
   "source": [
    "def save_user(**user):\n",
    "    print(user)\n",
    "save_user(name='masoud',age=28)"
   ]
  },
  {
   "cell_type": "code",
   "execution_count": 57,
   "id": "ee2af64e",
   "metadata": {},
   "outputs": [
    {
     "name": "stdout",
     "output_type": "stream",
     "text": [
      "lets do it\n"
     ]
    }
   ],
   "source": [
    "message = 'hi im ready'\n",
    "def talk():\n",
    "    global message\n",
    "    message='lets do it'\n",
    "talk()\n",
    "print(message)\n"
   ]
  },
  {
   "cell_type": "markdown",
   "id": "ff7ea2fb",
   "metadata": {},
   "source": [
    "# <font style=\"color:green\">Lists</font>\n",
    "<hr style=\"height: 2px;\">"
   ]
  },
  {
   "cell_type": "code",
   "execution_count": 30,
   "id": "6a7b6765",
   "metadata": {},
   "outputs": [
    {
     "data": {
      "text/plain": [
       "Ellipsis"
      ]
     },
     "execution_count": 30,
     "metadata": {},
     "output_type": "execute_result"
    }
   ],
   "source": [
    "x = [2,3,1] + [4,4,4,...]\n",
    "x[-1]"
   ]
  },
  {
   "cell_type": "code",
   "execution_count": 45,
   "id": "44c83c60",
   "metadata": {},
   "outputs": [
    {
     "data": {
      "text/plain": [
       "[2, 3, 1, 4, 4, 4, Ellipsis]"
      ]
     },
     "execution_count": 45,
     "metadata": {},
     "output_type": "execute_result"
    }
   ],
   "source": [
    "[*x]"
   ]
  },
  {
   "cell_type": "code",
   "execution_count": 47,
   "id": "4c276430",
   "metadata": {},
   "outputs": [
    {
     "data": {
      "text/plain": [
       "['s', 'o', 'm', 'e', ' ', 't', 'e', 'x', 't']"
      ]
     },
     "execution_count": 47,
     "metadata": {},
     "output_type": "execute_result"
    }
   ],
   "source": [
    "[*'some text']"
   ]
  },
  {
   "cell_type": "code",
   "execution_count": 48,
   "id": "97b6e817",
   "metadata": {},
   "outputs": [
    {
     "data": {
      "text/plain": [
       "['s', 'o', 'm', 'e', ' ', 't', 'e', 'x', 't']"
      ]
     },
     "execution_count": 48,
     "metadata": {},
     "output_type": "execute_result"
    }
   ],
   "source": [
    "[x for x in 'some text']"
   ]
  },
  {
   "cell_type": "code",
   "execution_count": 65,
   "id": "c969a56c",
   "metadata": {},
   "outputs": [
    {
     "data": {
      "text/plain": [
       "5"
      ]
     },
     "execution_count": 65,
     "metadata": {},
     "output_type": "execute_result"
    }
   ],
   "source": [
    "one, two,*other= [1,2,3,4,5]\n",
    "one, *other, five= [1,2,3,4,5]\n",
    "five"
   ]
  },
  {
   "cell_type": "code",
   "execution_count": 83,
   "id": "574dda54",
   "metadata": {},
   "outputs": [
    {
     "data": {
      "text/plain": [
       "[('product2', 3), ('product3', 4), ('product1', 5)]"
      ]
     },
     "execution_count": 83,
     "metadata": {},
     "output_type": "execute_result"
    }
   ],
   "source": [
    "items = [\n",
    "    ('product1',5),\n",
    "    ('product2',3),\n",
    "    ('product3',4),\n",
    "]\n",
    "def sort_item(item):\n",
    "    return item[1]\n",
    "\n",
    "items.sort(key=sort_item)\n",
    "items.sort(key=lambda item:item[1])\n",
    "sorted(items,key=lambda item:item[1])"
   ]
  },
  {
   "cell_type": "code",
   "execution_count": 89,
   "id": "9863c99c",
   "metadata": {},
   "outputs": [
    {
     "data": {
      "text/plain": [
       "[('A', 10, True), ('B', 5, False), ('C', 200, False)]"
      ]
     },
     "execution_count": 89,
     "metadata": {},
     "output_type": "execute_result"
    }
   ],
   "source": [
    "items = ['A','B','C']\n",
    "prices = [10,5,200]\n",
    "seled = [True,False,False]\n",
    "list(zip(items,prices,seled))"
   ]
  },
  {
   "cell_type": "code",
   "execution_count": 91,
   "id": "434febee",
   "metadata": {},
   "outputs": [
    {
     "name": "stdout",
     "output_type": "stream",
     "text": [
      "item: 3\n",
      "item: 2\n",
      "item: 1\n",
      "stack is empty\n"
     ]
    }
   ],
   "source": [
    "### Stack (LIFO last in, first out)\n",
    "stack = []\n",
    "stack.append(1)\n",
    "stack.append(2)\n",
    "stack.append(3)\n",
    "while True:\n",
    "    if not stack:\n",
    "        print('stack is empty')\n",
    "        break\n",
    "    print(f'item: {stack.pop()}')"
   ]
  },
  {
   "cell_type": "code",
   "execution_count": 92,
   "id": "f404d536",
   "metadata": {},
   "outputs": [
    {
     "name": "stdout",
     "output_type": "stream",
     "text": [
      "item: 1\n",
      "item: 2\n",
      "item: 3\n",
      "queue is empty\n"
     ]
    }
   ],
   "source": [
    "### Queue (FIFO first in, first out)\n",
    "from collections import deque\n",
    "queue = deque([])\n",
    "queue.append(1)\n",
    "queue.append(2)\n",
    "queue.append(3)\n",
    "\n",
    "while True:\n",
    "    if not queue:\n",
    "        print('queue is empty')\n",
    "        break\n",
    "    print(f'item: {queue.popleft()}')"
   ]
  },
  {
   "cell_type": "markdown",
   "id": "bc9a26da",
   "metadata": {},
   "source": [
    "# <font style=\"color:green\">Tuples</font>\n",
    "<hr style=\"height: 2px;\">"
   ]
  },
  {
   "cell_type": "code",
   "execution_count": 98,
   "id": "494772a9",
   "metadata": {},
   "outputs": [
    {
     "data": {
      "text/plain": [
       "(40.23, 32.55, 12.52, 40.23)"
      ]
     },
     "execution_count": 98,
     "metadata": {},
     "output_type": "execute_result"
    }
   ],
   "source": [
    "### tuple is immutable\n",
    "point1 = (40.23, 32.55)\n",
    "point2 = 12.52, 40.23\n",
    "point1 + point2"
   ]
  },
  {
   "cell_type": "markdown",
   "id": "283f8e3a",
   "metadata": {},
   "source": [
    "# <font style=\"color:green\">Array</font>\n",
    "<hr style=\"height: 2px;\">"
   ]
  },
  {
   "cell_type": "code",
   "execution_count": 101,
   "id": "7247098c",
   "metadata": {},
   "outputs": [
    {
     "data": {
      "text/plain": [
       "array('i', [1, 2, 3])"
      ]
     },
     "execution_count": 101,
     "metadata": {},
     "output_type": "execute_result"
    }
   ],
   "source": [
    "#https://docs.python.org/3/library/array.html\n",
    "from array import array\n",
    "array('i', [1,2,3])"
   ]
  },
  {
   "cell_type": "markdown",
   "id": "bad1122b",
   "metadata": {},
   "source": [
    "# <font style=\"color:green\">Sets</font>\n",
    "<hr style=\"height: 2px;\">"
   ]
  },
  {
   "cell_type": "code",
   "execution_count": 136,
   "id": "11ac46fc",
   "metadata": {},
   "outputs": [
    {
     "name": "stdout",
     "output_type": "stream",
     "text": [
      "{1, 2, 3, 4, 5}\n",
      "{4}\n",
      "{1, 2, 3}\n",
      "{1, 2, 3, 5}\n"
     ]
    }
   ],
   "source": [
    "# is mutable and unique and unorders: not have index\n",
    "first = set([1,2,3,3,1,4])\n",
    "second = {4,5,4}\n",
    "print(first | second)\n",
    "print(first & second)\n",
    "print(first - second)\n",
    "print(first ^ second)"
   ]
  },
  {
   "cell_type": "markdown",
   "id": "5592eca6",
   "metadata": {},
   "source": [
    "# <font style=\"color:green\">Dictionarys</font>\n",
    "<hr style=\"height: 2px;\">"
   ]
  },
  {
   "cell_type": "code",
   "execution_count": 20,
   "id": "d364ff21",
   "metadata": {},
   "outputs": [
    {
     "data": {
      "text/plain": [
       "25"
      ]
     },
     "execution_count": 20,
     "metadata": {},
     "output_type": "execute_result"
    }
   ],
   "source": [
    "user = {'id':2,'name':\"masoud\"}\n",
    "user['name']\n",
    "user.get('age',25) ## get id if not exist return defualt\n",
    "# del user['id']"
   ]
  },
  {
   "cell_type": "code",
   "execution_count": 32,
   "id": "f4ba55c1",
   "metadata": {},
   "outputs": [
    {
     "data": {
      "text/plain": [
       "[2, 'masoud']"
      ]
     },
     "execution_count": 32,
     "metadata": {},
     "output_type": "execute_result"
    }
   ],
   "source": [
    "[user[key] for key in user if key in ['id','name'] ]"
   ]
  },
  {
   "cell_type": "code",
   "execution_count": 43,
   "id": "f3e003c2",
   "metadata": {},
   "outputs": [
    {
     "data": {
      "text/plain": [
       "id           2\n",
       "name    masoud\n",
       "dtype: object"
      ]
     },
     "execution_count": 43,
     "metadata": {},
     "output_type": "execute_result"
    }
   ],
   "source": [
    "import pandas as pd\n",
    "userpd = pd.Series(user)\n",
    "userpd[['id','name']]"
   ]
  },
  {
   "cell_type": "code",
   "execution_count": 49,
   "id": "826a8952",
   "metadata": {},
   "outputs": [
    {
     "data": {
      "text/plain": [
       "dict_items([('id', 2), ('name', 'masoud')])"
      ]
     },
     "execution_count": 49,
     "metadata": {},
     "output_type": "execute_result"
    }
   ],
   "source": [
    "user.items()"
   ]
  },
  {
   "cell_type": "code",
   "execution_count": 12,
   "id": "36e80f3d",
   "metadata": {},
   "outputs": [
    {
     "name": "stdout",
     "output_type": "stream",
     "text": [
      "{'x', 'y'}\n",
      "{'x': 10, 'y': 20}\n"
     ]
    }
   ],
   "source": [
    "first = {\"x\":1}\n",
    "second = {\"x\":10, \"y\": 20}\n",
    "print({*first,*second})\n",
    "print({**first,**second})"
   ]
  },
  {
   "cell_type": "markdown",
   "id": "6686e898",
   "metadata": {},
   "source": [
    "# <font style=\"color:green\">Generators</font>\n",
    "<hr style=\"height: 2px;\">"
   ]
  },
  {
   "cell_type": "code",
   "execution_count": 1,
   "id": "96cd2125",
   "metadata": {},
   "outputs": [],
   "source": [
    "from sys import getsizeof"
   ]
  },
  {
   "cell_type": "code",
   "execution_count": 2,
   "id": "ca84644b",
   "metadata": {},
   "outputs": [
    {
     "name": "stdout",
     "output_type": "stream",
     "text": [
      "<class 'list'>\n",
      "8448728\n"
     ]
    }
   ],
   "source": [
    "data = [x for x in range(1000000)]\n",
    "print(type(data))\n",
    "print(getsizeof(data))"
   ]
  },
  {
   "cell_type": "code",
   "execution_count": 3,
   "id": "a329bdf2",
   "metadata": {},
   "outputs": [
    {
     "name": "stdout",
     "output_type": "stream",
     "text": [
      "<class 'generator'>\n",
      "112\n"
     ]
    }
   ],
   "source": [
    "data = (x for x in range(1000000))\n",
    "print(type(data))\n",
    "print(getsizeof(data))"
   ]
  },
  {
   "cell_type": "markdown",
   "id": "37d8886b",
   "metadata": {},
   "source": [
    "# <font style=\"color:green\">Exceptions</font>\n",
    "<hr style=\"height: 2px;\">\n",
    " *** raise Exception has cost for code"
   ]
  },
  {
   "cell_type": "code",
   "execution_count": 25,
   "id": "a31d51b0",
   "metadata": {},
   "outputs": [
    {
     "name": "stdout",
     "output_type": "stream",
     "text": [
      "age:2\n",
      "else method run if not throw error \n",
      "finally method run at the end if throw error or not\n"
     ]
    }
   ],
   "source": [
    "try:\n",
    "    age = int(input('age:'))\n",
    "except ValueError as err:\n",
    "    print(err)\n",
    "    print(type(err))\n",
    "else:\n",
    "    print('else method run if not throw error ')\n",
    "finally:\n",
    "    print('finally method run at the end if throw error or not')"
   ]
  },
  {
   "cell_type": "code",
   "execution_count": 22,
   "id": "c29c16ce",
   "metadata": {},
   "outputs": [
    {
     "name": "stdout",
     "output_type": "stream",
     "text": [
      "age:asd\n",
      "error: invalid literal for int() with base 10: 'asd'\n"
     ]
    }
   ],
   "source": [
    "try:\n",
    "    age = int(input('age:'))\n",
    "    age = age/0\n",
    "except (ValueError,ZeroDivisionError) as err:\n",
    "    print('error:',err)"
   ]
  },
  {
   "cell_type": "code",
   "execution_count": 42,
   "id": "7caeb7ec",
   "metadata": {},
   "outputs": [
    {
     "name": "stdout",
     "output_type": "stream",
     "text": [
      "['app = 20\\n', 'age = 30, \"some text\"']\n"
     ]
    }
   ],
   "source": [
    "with open('./app.py') as file, open('./app.py') as target:\n",
    "    print(file.readlines())\n",
    "    \n",
    "# if an class or object support methods(__enter__, __exit__) its support with statement"
   ]
  },
  {
   "cell_type": "code",
   "execution_count": 43,
   "id": "1ee30b3d",
   "metadata": {},
   "outputs": [
    {
     "ename": "ValueError",
     "evalue": "",
     "output_type": "error",
     "traceback": [
      "\u001b[0;31m---------------------------------------------------------------------------\u001b[0m",
      "\u001b[0;31mValueError\u001b[0m                                Traceback (most recent call last)",
      "\u001b[0;32m/tmp/ipykernel_17618/4096975414.py\u001b[0m in \u001b[0;36m<module>\u001b[0;34m\u001b[0m\n\u001b[0;32m----> 1\u001b[0;31m \u001b[0;32mraise\u001b[0m \u001b[0mValueError\u001b[0m\u001b[0;34m\u001b[0m\u001b[0;34m\u001b[0m\u001b[0m\n\u001b[0m",
      "\u001b[0;31mValueError\u001b[0m: "
     ]
    }
   ],
   "source": [
    "raise ValueError"
   ]
  },
  {
   "cell_type": "code",
   "execution_count": 61,
   "id": "2c1aea8a",
   "metadata": {},
   "outputs": [
    {
     "name": "stdout",
     "output_type": "stream",
     "text": [
      "1.2533208009999726\n",
      "0.15709353900001588\n"
     ]
    }
   ],
   "source": [
    "from timeit import timeit\n",
    "code1 = \"\"\"\n",
    "data = [x for x in range(100000)]\n",
    "\"\"\"\n",
    "\n",
    "code2 = \"\"\"\n",
    "data = (x for x in range(1000000))\n",
    "\"\"\"\n",
    "\n",
    "\n",
    "print(timeit(code1,number=1000))\n",
    "print(timeit(code2,number=1000000))"
   ]
  },
  {
   "cell_type": "code",
   "execution_count": null,
   "id": "b53526d4",
   "metadata": {},
   "outputs": [],
   "source": []
  },
  {
   "cell_type": "code",
   "execution_count": null,
   "id": "ae566027",
   "metadata": {},
   "outputs": [],
   "source": []
  },
  {
   "cell_type": "code",
   "execution_count": null,
   "id": "a1c2782d",
   "metadata": {},
   "outputs": [],
   "source": []
  }
 ],
 "metadata": {
  "kernelspec": {
   "display_name": "Python 3 (ipykernel)",
   "language": "python",
   "name": "python3"
  },
  "language_info": {
   "codemirror_mode": {
    "name": "ipython",
    "version": 3
   },
   "file_extension": ".py",
   "mimetype": "text/x-python",
   "name": "python",
   "nbconvert_exporter": "python",
   "pygments_lexer": "ipython3",
   "version": "3.9.13"
  }
 },
 "nbformat": 4,
 "nbformat_minor": 5
}
