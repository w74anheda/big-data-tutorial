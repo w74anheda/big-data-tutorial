{
 "cells": [
  {
   "cell_type": "markdown",
   "id": "d5c80b29",
   "metadata": {},
   "source": [
    "# <font style=\"color:green\">Refrences</font>\n",
    "<hr style=\"height: 2px;\">\n",
    " - https://peps.python.org/pep-0000/"
   ]
  },
  {
   "cell_type": "markdown",
   "id": "a0eb4d88",
   "metadata": {},
   "source": [
    "# <font style=\"color:green\">Tricks</font>\n",
    "<hr style=\"height: 2px;\">\n"
   ]
  },
  {
   "cell_type": "code",
   "execution_count": 5,
   "id": "baa6e362",
   "metadata": {
    "slideshow": {
     "slide_type": "-"
    }
   },
   "outputs": [
    {
     "data": {
      "text/plain": [
       "'*--*--*--*--*--*--*--*--*--*--'"
      ]
     },
     "execution_count": 5,
     "metadata": {},
     "output_type": "execute_result"
    }
   ],
   "source": [
    "'*--' * 10"
   ]
  }
 ],
 "metadata": {
  "kernelspec": {
   "display_name": "Python 3 (ipykernel)",
   "language": "python",
   "name": "python3"
  },
  "language_info": {
   "codemirror_mode": {
    "name": "ipython",
    "version": 3
   },
   "file_extension": ".py",
   "mimetype": "text/x-python",
   "name": "python",
   "nbconvert_exporter": "python",
   "pygments_lexer": "ipython3",
   "version": "3.9.13"
  }
 },
 "nbformat": 4,
 "nbformat_minor": 5
}
