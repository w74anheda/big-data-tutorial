{
 "cells": [
  {
   "cell_type": "code",
   "execution_count": 12,
   "id": "35049672",
   "metadata": {},
   "outputs": [],
   "source": [
    "from selenium import webdriver\n",
    "from selenium.webdriver.common.by import By\n",
    "from selenium.webdriver.support.ui import WebDriverWait\n",
    "import time\n",
    "from selenium.webdriver.chrome.options import Options\n",
    "import pandas as pd"
   ]
  },
  {
   "cell_type": "code",
   "execution_count": 83,
   "id": "681a5902",
   "metadata": {},
   "outputs": [],
   "source": [
    "BASE_URL = 'https://cyberpolice.gov.ir'\n",
    "CATEGORY = f'{BASE_URL}/media_knowledge/c?cat=43'\n",
    "CATEGORY = 'https://cyberpolice.gov.ir/media_knowledge/c?cat=24291'"
   ]
  },
  {
   "cell_type": "code",
   "execution_count": 54,
   "id": "b10c442b",
   "metadata": {},
   "outputs": [],
   "source": [
    "def create_driver(headless = True):\n",
    "    options = Options()\n",
    "    options.headless = headless\n",
    "    return webdriver.Chrome(\"/usr/bin/chromedriver\", options=options)"
   ]
  },
  {
   "cell_type": "code",
   "execution_count": 49,
   "id": "c9c57dfa",
   "metadata": {},
   "outputs": [],
   "source": [
    "def get_post_content(href):\n",
    "    global driver\n",
    "    driver.execute_script(\"window.open();\")\n",
    "    driver.switch_to.window(driver.window_handles[1]) \n",
    "    driver.get(href)\n",
    "    data = driver.execute_script(\"\"\"\n",
    "    return document.querySelector(\".row.bs-1col-stacked.node\").innerText;\"\"\")\n",
    "    driver.close()\n",
    "    return data"
   ]
  },
  {
   "cell_type": "code",
   "execution_count": 52,
   "id": "d86b4ac7",
   "metadata": {},
   "outputs": [],
   "source": [
    "def get_posts(url,contents=[],i=1):\n",
    "    global driver\n",
    "    print('page_'+str(i))\n",
    "    base_window = driver.current_window_handle\n",
    "\n",
    "    driver.get(url)\n",
    "    posts = driver.execute_script(\"\"\"\n",
    "    return Array.from(document.querySelectorAll(\".view-content h2>a\")).map(\n",
    "            item=>item.getAttribute('href')\n",
    "        ) \n",
    "            \"\"\")\n",
    "    next_page = driver.execute_script(\"\"\"return document.querySelector('a[rel=\"next\"]')\"\"\")\n",
    "\n",
    "    posts = list(map(lambda post:f'{BASE_URL}/{post}',posts))\n",
    "    for post in posts:\n",
    "        _ = get_post_content(post)\n",
    "        DT.loc[len(DT.index)] = _\n",
    "        contents.append(_)\n",
    "        driver.switch_to.window(base_window)\n",
    "      \n",
    "    if next_page:\n",
    "        i+=1\n",
    "        url = next_page.get_attribute(\"href\")\n",
    "        get_posts(url,contents,i)    \n",
    "    return contents"
   ]
  },
  {
   "cell_type": "code",
   "execution_count": null,
   "id": "3dd8bdfb",
   "metadata": {
    "scrolled": false
   },
   "outputs": [],
   "source": [
    "DT = pd.DataFrame(columns=['body'])\n",
    "driver = create_driver(False)\n",
    "\n",
    "driver.get(CATEGORY)\n",
    "\n",
    "# base_window = driver.current_window_handle\n",
    "\n",
    "# driver.switch_to.window(base_window)\n",
    "get_posts(CATEGORY,[])  \n",
    "DT    \n",
    "driver.close()"
   ]
  },
  {
   "cell_type": "code",
   "execution_count": null,
   "id": "5faae18a",
   "metadata": {},
   "outputs": [],
   "source": [
    "DT['title'] = DT['body'].str.partition('\\n')[0]\n",
    "DT.to_csv('./contents/cyper_02.csv')"
   ]
  },
  {
   "cell_type": "code",
   "execution_count": 80,
   "id": "f6364225",
   "metadata": {},
   "outputs": [],
   "source": []
  },
  {
   "cell_type": "code",
   "execution_count": 82,
   "id": "f6e47e40",
   "metadata": {},
   "outputs": [],
   "source": []
  },
  {
   "cell_type": "code",
   "execution_count": null,
   "id": "e2b7a71e",
   "metadata": {},
   "outputs": [],
   "source": []
  },
  {
   "cell_type": "code",
   "execution_count": null,
   "id": "52e125c0",
   "metadata": {},
   "outputs": [],
   "source": []
  },
  {
   "cell_type": "code",
   "execution_count": null,
   "id": "80123eaa",
   "metadata": {},
   "outputs": [],
   "source": []
  }
 ],
 "metadata": {
  "kernelspec": {
   "display_name": "Python 3 (ipykernel)",
   "language": "python",
   "name": "python3"
  },
  "language_info": {
   "codemirror_mode": {
    "name": "ipython",
    "version": 3
   },
   "file_extension": ".py",
   "mimetype": "text/x-python",
   "name": "python",
   "nbconvert_exporter": "python",
   "pygments_lexer": "ipython3",
   "version": "3.9.13"
  }
 },
 "nbformat": 4,
 "nbformat_minor": 5
}
