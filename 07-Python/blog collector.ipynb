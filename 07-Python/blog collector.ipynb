{
 "cells": [
  {
   "cell_type": "code",
   "execution_count": 12,
   "id": "35049672",
   "metadata": {},
   "outputs": [],
   "source": [
    "from selenium import webdriver\n",
    "from selenium.webdriver.common.by import By\n",
    "from selenium.webdriver.support.ui import WebDriverWait\n",
    "import time\n",
    "from selenium.webdriver.chrome.options import Options\n",
    "import pandas as pd"
   ]
  },
  {
   "cell_type": "code",
   "execution_count": 83,
   "id": "681a5902",
   "metadata": {},
   "outputs": [],
   "source": [
    "BASE_URL = 'https://cyberpolice.gov.ir'\n",
    "CATEGORY = f'{BASE_URL}/media_knowledge/c?cat=43'\n",
    "CATEGORY = 'https://cyberpolice.gov.ir/media_knowledge/c?cat=24291'"
   ]
  },
  {
   "cell_type": "code",
   "execution_count": 186,
   "id": "b10c442b",
   "metadata": {},
   "outputs": [],
   "source": [
    "def create_driver(headless = True):\n",
    "    options = Options()\n",
    "    options.headless = headless\n",
    "    options.add_argument('ignore-certificate-errors')\n",
    "    prefs = {\"profile.default_content_setting_values.notifications\" : 2}\n",
    "    options.add_experimental_option(\"prefs\",prefs)\n",
    "    return webdriver.Chrome(\"/usr/bin/chromedriver\", options=options)"
   ]
  },
  {
   "cell_type": "code",
   "execution_count": 49,
   "id": "c9c57dfa",
   "metadata": {},
   "outputs": [],
   "source": [
    "def get_post_content(href):\n",
    "    global driver\n",
    "    driver.execute_script(\"window.open();\")\n",
    "    driver.switch_to.window(driver.window_handles[1]) \n",
    "    driver.get(href)\n",
    "    data = driver.execute_script(\"\"\"\n",
    "    return document.querySelector(\".row.bs-1col-stacked.node\").innerText;\"\"\")\n",
    "    driver.close()\n",
    "    return data"
   ]
  },
  {
   "cell_type": "code",
   "execution_count": 52,
   "id": "d86b4ac7",
   "metadata": {},
   "outputs": [],
   "source": [
    "def get_posts(url,contents=[],i=1):\n",
    "    global driver\n",
    "    print('page_'+str(i))\n",
    "    base_window = driver.current_window_handle\n",
    "\n",
    "    driver.get(url)\n",
    "    posts = driver.execute_script(\"\"\"\n",
    "    return Array.from(document.querySelectorAll(\".view-content h2>a\")).map(\n",
    "            item=>item.getAttribute('href')\n",
    "        ) \n",
    "            \"\"\")\n",
    "    next_page = driver.execute_script(\"\"\"return document.querySelector('a[rel=\"next\"]')\"\"\")\n",
    "\n",
    "    posts = list(map(lambda post:f'{BASE_URL}/{post}',posts))\n",
    "    for post in posts:\n",
    "        _ = get_post_content(post)\n",
    "        DT.loc[len(DT.index)] = _\n",
    "        contents.append(_)\n",
    "        driver.switch_to.window(base_window)\n",
    "      \n",
    "    if next_page:\n",
    "        i+=1\n",
    "        url = next_page.get_attribute(\"href\")\n",
    "        get_posts(url,contents,i)    \n",
    "    return contents"
   ]
  },
  {
   "cell_type": "code",
   "execution_count": null,
   "id": "3dd8bdfb",
   "metadata": {
    "scrolled": false
   },
   "outputs": [],
   "source": [
    "DT = pd.DataFrame(columns=['body'])\n",
    "driver = create_driver(False)\n",
    "\n",
    "driver.get(CATEGORY)\n",
    "\n",
    "# base_window = driver.current_window_handle\n",
    "\n",
    "# driver.switch_to.window(base_window)\n",
    "get_posts(CATEGORY,[])  \n",
    "DT    \n",
    "driver.close()"
   ]
  },
  {
   "cell_type": "code",
   "execution_count": 290,
   "id": "acd2144c",
   "metadata": {},
   "outputs": [
    {
     "data": {
      "text/plain": [
       "0     کمک هوش مصنوعی و یادگیری ماشین در اشکال زدایی ...\n",
       "1     زمانی که صفحات اینترنتی را فراخوانی می‌کنید چه...\n",
       "2     بررسی امنیت در شبکه‌های اجتماعی و ارائه راهکار...\n",
       "3     نحوه پیدا کردن دستگاه‌های متصل به وای‌فای با ا...\n",
       "4     چگونه تبلیغات ناخواسته را در گوگل کروم مسدود ن...\n",
       "5     آموزش تصویری بازیابی رمز عبور و حذف اکانت اینس...\n",
       "6                               گروکان گیری به سبک مدرن\n",
       "7                                انتشار بدافزار Kinsing\n",
       "8                       خودتان آنتی‌ویروس خودتان باشید!\n",
       "9     برای محافظت از شبکه وایرلس خود این چهار راز مه...\n",
       "10    فایل MOBI چه نوع فایلی است و چگونه آن را اجرا ...\n",
       "11                     آیا فضای سایبر همان اینترنت است؟\n",
       "12    چگونه در ویندوز 10،8.1 و7 یک حساب کاربری مخفی ...\n",
       "13                 روش های انتخاب باتری برای تلفن همراه\n",
       "14                   لیستی از بدترین پسورد‌های سال 2019\n",
       "Name: 0, dtype: object"
      ]
     },
     "execution_count": 290,
     "metadata": {},
     "output_type": "execute_result"
    }
   ],
   "source": [
    "DT['body'].str.partition('\\n')[0]"
   ]
  },
  {
   "cell_type": "markdown",
   "id": "e3b565c3",
   "metadata": {},
   "source": [
    "# Insert Posts"
   ]
  },
  {
   "cell_type": "code",
   "execution_count": 85,
   "id": "e10afcea",
   "metadata": {},
   "outputs": [],
   "source": [
    "BASE_URL = 'http://saha.moi.ir/'\n",
    "USERNAME = '1741995108'\n",
    "PASSWORD = '4NpzuFqdEyCDv6T'"
   ]
  },
  {
   "cell_type": "code",
   "execution_count": 409,
   "id": "c7395712",
   "metadata": {},
   "outputs": [],
   "source": [
    "def insert_post(title,body):\n",
    "    \n",
    "    \n",
    "    driver.find_element(By.CSS_SELECTOR, \"\"\"\n",
    "    #js_main_feed_holder > div.activity_feed_form_share > ul > li:nth-child(4) > a\n",
    "    \"\"\").click()\n",
    "\n",
    "   \n",
    "    \n",
    "    driver.execute_script(\"\"\"\n",
    "    document.querySelector(\"#feed_new_add_labels_box\").innerHTML = `<input type=\"text\" id=\"feed_labels_inline_search\" readonly=\"\" autocomplete=\"off\" placeholder=\"*حوزه فعالیت مرتبط با پست...\" spmhbindable=\"\">\n",
    "    <ul id=\"feed_labels_inline_search_result\">\n",
    "\n",
    "    </ul>\n",
    "    <div id=\"feed_new_add_labels_selected\"><div id=\"new_feed_labels_selected_item_113\" class=\"new_feed_label_item_glob_cls\"><label>شناخت و آسیب شناسی در حوزه پدافند غیر عامل</label><div onclick=\"removeFeedSelectedLabel(113)\">x</div></div></div>\n",
    "    <div id=\"feed_new_add_labels_selected_val\"><input type=\"hidden\" id=\"feed_labels_selected_hide_item_113\" name=\"feedLabels[]\" value=\"113\"></div>`\"\"\")\n",
    "    \n",
    "    \n",
    "    driver.execute_script(\"\"\"\n",
    "    document.querySelector(\"#feed_new_add_keywords_box\").innerHTML = `<input type=\"text\" id=\"feed_keywords_inline_search\" autocomplete=\"off\" placeholder=\"انتخاب کلمه کلیدی...\" spmhbindable=\"\"><button onclick=\"$.ajaxCall('feed.addFeedKeyWord', ('kw='+$('#feed_keywords_inline_search').val())+prepareKeywordParams()); return false;\">+ افزودن</button>\n",
    "    <ul id=\"feed_keywords_inline_search_result\"></ul>\n",
    "    <div id=\"feed_new_add_keywords_selected\"><div class=\"new_feed_keyword_item_glob_cls\" id=\"new_feed_keywords_selected_item_2060\"><div>پدافند سایبری</div><div onclick=\"removeFeedSelectedKeyWord(2060)\">x</div></div><div class=\"new_feed_keyword_item_glob_cls\" id=\"new_feed_keywords_selected_item_2059\"><div>امنیت سایبری</div><div onclick=\"removeFeedSelectedKeyWord(2059)\">x</div></div><div class=\"new_feed_keyword_item_glob_cls\" id=\"new_feed_keywords_selected_item_912\"><div>جنگ سایبری</div><div onclick=\"removeFeedSelectedKeyWord(912)\">x</div></div></div>\n",
    "    <div id=\"feed_new_add_keywords_selected_val\"><input type=\"hidden\" name=\"feedKeywords[]\" value=\"2060\" id=\"feed_keywords_selected_hide_item_2060\"><input type=\"hidden\" name=\"feedKeywords[]\" value=\"2059\" id=\"feed_keywords_selected_hide_item_2059\"><input type=\"hidden\" name=\"feedKeywords[]\" value=\"912\" id=\"feed_keywords_selected_hide_item_912\"></div>`\"\"\")\n",
    "    \n",
    "    driver.execute_script(f\"document.querySelector('#global_attachment_blog > div > div.table_right > input[type=text]').value =``\")\n",
    "    driver.find_element(By.CSS_SELECTOR, \"#global_attachment_blog > div > div.table_right > input[type=text]\").send_keys(title)\n",
    "\n",
    "#     driver.execute_script(f\"document.querySelector('#global_attachment_blog > div > div.table_right > input[type=text]').value =`{title}`\")\n",
    "\n",
    "    driver.execute_script(f\"\"\"document.querySelector('#activity_feed_textarea_status_info').value = ``\"\"\")\n",
    "    driver.find_element(By.CSS_SELECTOR, \"#activity_feed_textarea_status_info\").send_keys(body)\n",
    "\n",
    "    \n",
    "    driver.execute_script(\"document.querySelector('#activity_feed_submit').click()\")\n",
    "    time.sleep(5)\n",
    "    driver.get(BASE_URL)"
   ]
  },
  {
   "cell_type": "code",
   "execution_count": 410,
   "id": "b4cc4705",
   "metadata": {},
   "outputs": [
    {
     "name": "stderr",
     "output_type": "stream",
     "text": [
      "/tmp/ipykernel_33314/414314512.py:3: DeprecationWarning: headless property is deprecated, instead use add_argument('--headless') or add_argument('--headless=new')\n",
      "  options.headless = headless\n",
      "/tmp/ipykernel_33314/414314512.py:7: DeprecationWarning: executable_path has been deprecated, please pass in a Service object\n",
      "  return webdriver.Chrome(\"/usr/bin/chromedriver\", options=options)\n"
     ]
    },
    {
     "name": "stdout",
     "output_type": "stream",
     "text": [
      "post 206 inserted ...\n",
      "post 207 inserted ...\n",
      "post 208 inserted ...\n",
      "post 209 inserted ...\n",
      "post 210 inserted ...\n",
      "post 211 inserted ...\n",
      "post 212 inserted ...\n",
      "post 213 inserted ...\n",
      "post 214 inserted ...\n",
      "post 215 inserted ...\n",
      "post 216 inserted ...\n",
      "post 217 inserted ...\n",
      "post 218 inserted ...\n",
      "post 219 inserted ...\n",
      "post 220 inserted ...\n",
      "post 221 inserted ...\n",
      "post 222 inserted ...\n",
      "post 223 inserted ...\n",
      "post 224 inserted ...\n",
      "post 225 inserted ...\n",
      "post 226 inserted ...\n",
      "post 227 inserted ...\n",
      "post 228 inserted ...\n",
      "post 229 inserted ...\n",
      "post 230 inserted ...\n",
      "post 231 inserted ...\n",
      "post 232 inserted ...\n",
      "post 233 inserted ...\n",
      "post 234 inserted ...\n",
      "post 235 inserted ...\n",
      "post 236 inserted ...\n",
      "post 237 inserted ...\n",
      "post 238 inserted ...\n",
      "post 239 inserted ...\n",
      "post 240 inserted ...\n",
      "post 241 inserted ...\n",
      "post 242 inserted ...\n",
      "post 243 inserted ...\n",
      "post 244 inserted ...\n",
      "post 245 inserted ...\n",
      "post 246 inserted ...\n",
      "post 247 inserted ...\n",
      "post 248 inserted ...\n",
      "post 249 inserted ...\n",
      "post 250 inserted ...\n",
      "post 251 inserted ...\n",
      "post 252 inserted ...\n",
      "post 253 inserted ...\n",
      "post 254 inserted ...\n",
      "post 255 inserted ...\n",
      "post 256 inserted ...\n",
      "post 257 inserted ...\n",
      "post 258 inserted ...\n",
      "post 259 inserted ...\n",
      "post 260 inserted ...\n"
     ]
    },
    {
     "ename": "KeyboardInterrupt",
     "evalue": "",
     "output_type": "error",
     "traceback": [
      "\u001b[0;31m---------------------------------------------------------------------------\u001b[0m",
      "\u001b[0;31mKeyboardInterrupt\u001b[0m                         Traceback (most recent call last)",
      "\u001b[0;32m/tmp/ipykernel_33314/3301535568.py\u001b[0m in \u001b[0;36m<module>\u001b[0;34m\u001b[0m\n\u001b[1;32m      7\u001b[0m \u001b[0;32mfor\u001b[0m \u001b[0mindex\u001b[0m \u001b[0;32min\u001b[0m \u001b[0mrange\u001b[0m\u001b[0;34m(\u001b[0m\u001b[0;36m206\u001b[0m\u001b[0;34m,\u001b[0m\u001b[0mlen\u001b[0m\u001b[0;34m(\u001b[0m\u001b[0mDT2\u001b[0m\u001b[0;34m)\u001b[0m\u001b[0;34m)\u001b[0m\u001b[0;34m:\u001b[0m\u001b[0;34m\u001b[0m\u001b[0;34m\u001b[0m\u001b[0m\n\u001b[1;32m      8\u001b[0m     \u001b[0mpost\u001b[0m \u001b[0;34m=\u001b[0m \u001b[0mDT2\u001b[0m\u001b[0;34m.\u001b[0m\u001b[0miloc\u001b[0m\u001b[0;34m[\u001b[0m\u001b[0mindex\u001b[0m\u001b[0;34m]\u001b[0m\u001b[0;34m\u001b[0m\u001b[0;34m\u001b[0m\u001b[0m\n\u001b[0;32m----> 9\u001b[0;31m     insert_post(\n\u001b[0m\u001b[1;32m     10\u001b[0m         \u001b[0mpost\u001b[0m\u001b[0;34m[\u001b[0m\u001b[0;34m'body'\u001b[0m\u001b[0;34m]\u001b[0m\u001b[0;34m.\u001b[0m\u001b[0msplit\u001b[0m\u001b[0;34m(\u001b[0m\u001b[0;34m'\\n'\u001b[0m\u001b[0;34m)\u001b[0m\u001b[0;34m[\u001b[0m\u001b[0;36m0\u001b[0m\u001b[0;34m]\u001b[0m\u001b[0;34m,\u001b[0m\u001b[0;34m\u001b[0m\u001b[0;34m\u001b[0m\u001b[0m\n\u001b[1;32m     11\u001b[0m         \u001b[0;34m'\\n'\u001b[0m\u001b[0;34m.\u001b[0m\u001b[0mjoin\u001b[0m\u001b[0;34m(\u001b[0m\u001b[0mpost\u001b[0m\u001b[0;34m[\u001b[0m\u001b[0;34m'body'\u001b[0m\u001b[0;34m]\u001b[0m\u001b[0;34m.\u001b[0m\u001b[0msplit\u001b[0m\u001b[0;34m(\u001b[0m\u001b[0;34m'\\n'\u001b[0m\u001b[0;34m)\u001b[0m\u001b[0;34m[\u001b[0m\u001b[0;36m1\u001b[0m\u001b[0;34m:\u001b[0m\u001b[0;34m]\u001b[0m\u001b[0;34m)\u001b[0m\u001b[0;34m\u001b[0m\u001b[0;34m\u001b[0m\u001b[0m\n",
      "\u001b[0;32m/tmp/ipykernel_33314/1385322321.py\u001b[0m in \u001b[0;36minsert_post\u001b[0;34m(title, body)\u001b[0m\n\u001b[1;32m     33\u001b[0m \u001b[0;34m\u001b[0m\u001b[0m\n\u001b[1;32m     34\u001b[0m     \u001b[0mdriver\u001b[0m\u001b[0;34m.\u001b[0m\u001b[0mexecute_script\u001b[0m\u001b[0;34m(\u001b[0m\u001b[0;34m\"document.querySelector('#activity_feed_submit').click()\"\u001b[0m\u001b[0;34m)\u001b[0m\u001b[0;34m\u001b[0m\u001b[0;34m\u001b[0m\u001b[0m\n\u001b[0;32m---> 35\u001b[0;31m     \u001b[0mtime\u001b[0m\u001b[0;34m.\u001b[0m\u001b[0msleep\u001b[0m\u001b[0;34m(\u001b[0m\u001b[0;36m5\u001b[0m\u001b[0;34m)\u001b[0m\u001b[0;34m\u001b[0m\u001b[0;34m\u001b[0m\u001b[0m\n\u001b[0m\u001b[1;32m     36\u001b[0m     \u001b[0mdriver\u001b[0m\u001b[0;34m.\u001b[0m\u001b[0mget\u001b[0m\u001b[0;34m(\u001b[0m\u001b[0mBASE_URL\u001b[0m\u001b[0;34m)\u001b[0m\u001b[0;34m\u001b[0m\u001b[0;34m\u001b[0m\u001b[0m\n",
      "\u001b[0;31mKeyboardInterrupt\u001b[0m: "
     ]
    }
   ],
   "source": [
    "driver = create_driver(False)\n",
    "driver.get(BASE_URL)\n",
    "driver.find_element(By.ID, \"login\").send_keys(USERNAME)\n",
    "driver.find_element(By.ID, \"password\").send_keys(PASSWORD)\n",
    "driver.find_element(By.ID, \"loginbtn\").click()\n",
    "\n",
    "for index in range(260,len(DT2)):\n",
    "    post = DT2.iloc[index]\n",
    "    insert_post(\n",
    "        post['body'].split('\\n')[0],\n",
    "        '\\n'.join(post['body'].split('\\n')[1:])\n",
    "    )\n",
    "    print('post '+str(index)+' inserted ...')\n",
    "\n"
   ]
  },
  {
   "cell_type": "code",
   "execution_count": null,
   "id": "e080ea95",
   "metadata": {},
   "outputs": [],
   "source": []
  },
  {
   "cell_type": "code",
   "execution_count": null,
   "id": "ac2ba986",
   "metadata": {},
   "outputs": [],
   "source": []
  },
  {
   "cell_type": "code",
   "execution_count": null,
   "id": "f3ce81d2",
   "metadata": {},
   "outputs": [],
   "source": []
  }
 ],
 "metadata": {
  "kernelspec": {
   "display_name": "Python 3 (ipykernel)",
   "language": "python",
   "name": "python3"
  },
  "language_info": {
   "codemirror_mode": {
    "name": "ipython",
    "version": 3
   },
   "file_extension": ".py",
   "mimetype": "text/x-python",
   "name": "python",
   "nbconvert_exporter": "python",
   "pygments_lexer": "ipython3",
   "version": "3.9.13"
  }
 },
 "nbformat": 4,
 "nbformat_minor": 5
}
