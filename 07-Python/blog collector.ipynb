{
 "cells": [
  {
   "cell_type": "code",
   "execution_count": 44,
   "id": "35049672",
   "metadata": {},
   "outputs": [],
   "source": [
    "from selenium import webdriver\n",
    "from selenium.webdriver.common.by import By\n",
    "from selenium.webdriver.support.ui import WebDriverWait\n",
    "import time\n",
    "from selenium.webdriver.chrome.options import Options\n",
    "import pandas as pd\n",
    "import re\n",
    "url_pattern = r'https?://\\S+|www\\.\\S+'"
   ]
  },
  {
   "cell_type": "code",
   "execution_count": 4,
   "id": "681a5902",
   "metadata": {},
   "outputs": [],
   "source": [
    "BASE_URL = 'https://cyberpolice.gov.ir'\n",
    "CATEGORY = f'{BASE_URL}/media_knowledge/c?cat=43'\n",
    "CATEGORY = 'https://cyberpolice.gov.ir/media_knowledge/c?cat=24291'"
   ]
  },
  {
   "cell_type": "code",
   "execution_count": 5,
   "id": "b10c442b",
   "metadata": {},
   "outputs": [],
   "source": [
    "def create_driver(headless = True):\n",
    "    options = Options()\n",
    "    options.headless = headless\n",
    "    options.add_argument('ignore-certificate-errors')\n",
    "    prefs = {\"profile.default_content_setting_values.notifications\" : 2}\n",
    "    options.add_experimental_option(\"prefs\",prefs)\n",
    "    return webdriver.Chrome(\"/usr/bin/chromedriver\", options=options)"
   ]
  },
  {
   "cell_type": "code",
   "execution_count": 6,
   "id": "c9c57dfa",
   "metadata": {},
   "outputs": [],
   "source": [
    "def get_post_content(href):\n",
    "    global driver\n",
    "    driver.execute_script(\"window.open();\")\n",
    "    driver.switch_to.window(driver.window_handles[1]) \n",
    "    driver.get(href)\n",
    "    data = driver.execute_script(\"\"\"\n",
    "    return document.querySelector(\".row.bs-1col-stacked.node\").innerText;\"\"\")\n",
    "    driver.close()\n",
    "    return data"
   ]
  },
  {
   "cell_type": "code",
   "execution_count": 7,
   "id": "d86b4ac7",
   "metadata": {},
   "outputs": [],
   "source": [
    "def get_posts(url,contents=[],i=1):\n",
    "    global driver\n",
    "    print('page_'+str(i))\n",
    "    base_window = driver.current_window_handle\n",
    "\n",
    "    driver.get(url)\n",
    "    posts = driver.execute_script(\"\"\"\n",
    "    return Array.from(document.querySelectorAll(\".view-content h2>a\")).map(\n",
    "            item=>item.getAttribute('href')\n",
    "        ) \n",
    "            \"\"\")\n",
    "    next_page = driver.execute_script(\"\"\"return document.querySelector('a[rel=\"next\"]')\"\"\")\n",
    "\n",
    "    posts = list(map(lambda post:f'{BASE_URL}/{post}',posts))\n",
    "    for post in posts:\n",
    "        _ = get_post_content(post)\n",
    "        DT.loc[len(DT.index)] = _\n",
    "        contents.append(_)\n",
    "        driver.switch_to.window(base_window)\n",
    "      \n",
    "    if next_page:\n",
    "        i+=1\n",
    "        url = next_page.get_attribute(\"href\")\n",
    "        get_posts(url,contents,i)    \n",
    "    return contents"
   ]
  },
  {
   "cell_type": "code",
   "execution_count": null,
   "id": "3dd8bdfb",
   "metadata": {
    "scrolled": false
   },
   "outputs": [],
   "source": [
    "DT = pd.DataFrame(columns=['body'])\n",
    "driver = create_driver(False)\n",
    "\n",
    "driver.get(CATEGORY)\n",
    "\n",
    "# base_window = driver.current_window_handle\n",
    "\n",
    "# driver.switch_to.window(base_window)\n",
    "get_posts(CATEGORY,[])  \n",
    "DT    \n",
    "driver.close()"
   ]
  },
  {
   "cell_type": "markdown",
   "id": "aa9ace00",
   "metadata": {},
   "source": [
    "# Insert Posts"
   ]
  },
  {
   "cell_type": "code",
   "execution_count": 8,
   "id": "d1a5991a",
   "metadata": {},
   "outputs": [],
   "source": [
    "BASE_URL = 'http://saha.moi.ir/'\n",
    "USERNAME = '1741995108'\n",
    "PASSWORD = '4NpzuFqdEyCDv6T'"
   ]
  },
  {
   "cell_type": "code",
   "execution_count": 37,
   "id": "cc9b3147",
   "metadata": {},
   "outputs": [],
   "source": [
    "def insert_post(title,body):\n",
    "    \n",
    "   \n",
    "    driver.find_element(By.CSS_SELECTOR, \"\"\"\n",
    "    #js_main_feed_holder > div.activity_feed_form_share > ul > li:nth-child(4) > a\n",
    "    \"\"\").click()\n",
    "\n",
    "   \n",
    "    \n",
    "    driver.execute_script(\"\"\"\n",
    "    document.querySelector(\"#feed_new_add_labels_box\").innerHTML = `<input type=\"text\" id=\"feed_labels_inline_search\" readonly=\"\" autocomplete=\"off\" placeholder=\"*حوزه فعالیت مرتبط با پست...\" spmhbindable=\"\">\n",
    "    <ul id=\"feed_labels_inline_search_result\">\n",
    "\n",
    "    </ul>\n",
    "    <div id=\"feed_new_add_labels_selected\"><div id=\"new_feed_labels_selected_item_113\" class=\"new_feed_label_item_glob_cls\"><label>شناخت و آسیب شناسی در حوزه پدافند غیر عامل</label><div onclick=\"removeFeedSelectedLabel(113)\">x</div></div></div>\n",
    "    <div id=\"feed_new_add_labels_selected_val\"><input type=\"hidden\" id=\"feed_labels_selected_hide_item_113\" name=\"feedLabels[]\" value=\"113\"></div>`\"\"\")\n",
    "    \n",
    "    \n",
    "    driver.execute_script(\"\"\"\n",
    "    document.querySelector(\"#feed_new_add_keywords_box\").innerHTML = `<input type=\"text\" id=\"feed_keywords_inline_search\" autocomplete=\"off\" placeholder=\"انتخاب کلمه کلیدی...\" spmhbindable=\"\"><button onclick=\"$.ajaxCall('feed.addFeedKeyWord', ('kw='+$('#feed_keywords_inline_search').val())+prepareKeywordParams()); return false;\">+ افزودن</button>\n",
    "    <ul id=\"feed_keywords_inline_search_result\"></ul>\n",
    "    <div id=\"feed_new_add_keywords_selected\"><div class=\"new_feed_keyword_item_glob_cls\" id=\"new_feed_keywords_selected_item_2060\"><div>پدافند سایبری</div><div onclick=\"removeFeedSelectedKeyWord(2060)\">x</div></div><div class=\"new_feed_keyword_item_glob_cls\" id=\"new_feed_keywords_selected_item_2059\"><div>امنیت سایبری</div><div onclick=\"removeFeedSelectedKeyWord(2059)\">x</div></div><div class=\"new_feed_keyword_item_glob_cls\" id=\"new_feed_keywords_selected_item_912\"><div>جنگ سایبری</div><div onclick=\"removeFeedSelectedKeyWord(912)\">x</div></div></div>\n",
    "    <div id=\"feed_new_add_keywords_selected_val\"><input type=\"hidden\" name=\"feedKeywords[]\" value=\"2060\" id=\"feed_keywords_selected_hide_item_2060\"><input type=\"hidden\" name=\"feedKeywords[]\" value=\"2059\" id=\"feed_keywords_selected_hide_item_2059\"><input type=\"hidden\" name=\"feedKeywords[]\" value=\"912\" id=\"feed_keywords_selected_hide_item_912\"></div>`\"\"\")\n",
    "    \n",
    "    driver.execute_script(f\"document.querySelector('#global_attachment_blog > div > div.table_right > input[type=text]').value =``\")\n",
    "    driver.find_element(By.CSS_SELECTOR, \"#global_attachment_blog > div > div.table_right > input[type=text]\").send_keys(title)\n",
    "\n",
    "#     driver.execute_script(f\"document.querySelector('#global_attachment_blog > div > div.table_right > input[type=text]').value =`{title}`\")\n",
    "\n",
    "    driver.execute_script(f\"\"\"document.querySelector('#activity_feed_textarea_status_info').value = ``\"\"\")\n",
    "    driver.find_element(By.CSS_SELECTOR, \"#activity_feed_textarea_status_info\").send_keys(body)\n",
    "\n",
    "    time.sleep(5)\n",
    "    driver.execute_script(\"document.querySelector('#activity_feed_submit').click()\")\n",
    "    time.sleep(5)\n",
    "    driver.get(BASE_URL)"
   ]
  },
  {
   "cell_type": "code",
   "execution_count": 48,
   "id": "01cbad2f",
   "metadata": {},
   "outputs": [
    {
     "name": "stderr",
     "output_type": "stream",
     "text": [
      "/tmp/ipykernel_7113/414314512.py:3: DeprecationWarning: headless property is deprecated, instead use add_argument('--headless') or add_argument('--headless=new')\n",
      "  options.headless = headless\n",
      "/tmp/ipykernel_7113/414314512.py:7: DeprecationWarning: executable_path has been deprecated, please pass in a Service object\n",
      "  return webdriver.Chrome(\"/usr/bin/chromedriver\", options=options)\n"
     ]
    },
    {
     "ename": "JavascriptException",
     "evalue": "Message: javascript error: Cannot read properties of null (reading 'click')\n  (Session info: headless chrome=116.0.5845.187)\nStacktrace:\n#0 0x5589b8ccabf3 <unknown>\n#1 0x5589b8a056a7 <unknown>\n#2 0x5589b8a09bce <unknown>\n#3 0x5589b8a0b709 <unknown>\n#4 0x5589b8a7c6ef <unknown>\n#5 0x5589b8a63c22 <unknown>\n#6 0x5589b8a7bd9c <unknown>\n#7 0x5589b8a639f3 <unknown>\n#8 0x5589b8a37c32 <unknown>\n#9 0x5589b8a389de <unknown>\n#10 0x5589b8c8f82d <unknown>\n#11 0x5589b8c940a7 <unknown>\n#12 0x5589b8c9d4e8 <unknown>\n#13 0x5589b8c94ae0 <unknown>\n#14 0x5589b8c6580e <unknown>\n#15 0x5589b8cb5568 <unknown>\n#16 0x5589b8cb575a <unknown>\n#17 0x5589b8cc420a <unknown>\n#18 0x7f525adf6b43 <unknown>\n",
     "output_type": "error",
     "traceback": [
      "\u001b[0;31m---------------------------------------------------------------------------\u001b[0m",
      "\u001b[0;31mJavascriptException\u001b[0m                       Traceback (most recent call last)",
      "\u001b[0;32m/tmp/ipykernel_7113/3452670935.py\u001b[0m in \u001b[0;36m<module>\u001b[0;34m\u001b[0m\n\u001b[1;32m     14\u001b[0m     \u001b[0mpost_02\u001b[0m \u001b[0;34m=\u001b[0m \u001b[0;34m'\\n'\u001b[0m\u001b[0;34m.\u001b[0m\u001b[0mjoin\u001b[0m\u001b[0;34m(\u001b[0m\u001b[0mpost\u001b[0m\u001b[0;34m[\u001b[0m\u001b[0;34m'body'\u001b[0m\u001b[0;34m]\u001b[0m\u001b[0;34m.\u001b[0m\u001b[0msplit\u001b[0m\u001b[0;34m(\u001b[0m\u001b[0;34m'\\n'\u001b[0m\u001b[0;34m)\u001b[0m\u001b[0;34m[\u001b[0m\u001b[0mlen\u001b[0m\u001b[0;34m(\u001b[0m\u001b[0mpost\u001b[0m\u001b[0;34m[\u001b[0m\u001b[0;34m'body'\u001b[0m\u001b[0;34m]\u001b[0m\u001b[0;34m.\u001b[0m\u001b[0msplit\u001b[0m\u001b[0;34m(\u001b[0m\u001b[0;34m'\\n'\u001b[0m\u001b[0;34m)\u001b[0m\u001b[0;34m)\u001b[0m\u001b[0;34m//\u001b[0m\u001b[0;36m2\u001b[0m\u001b[0;34m:\u001b[0m\u001b[0;34m]\u001b[0m\u001b[0;34m)\u001b[0m\u001b[0;34m\u001b[0m\u001b[0;34m\u001b[0m\u001b[0m\n\u001b[1;32m     15\u001b[0m \u001b[0;34m\u001b[0m\u001b[0m\n\u001b[0;32m---> 16\u001b[0;31m     \u001b[0minsert_post\u001b[0m\u001b[0;34m(\u001b[0m\u001b[0mtitle_01\u001b[0m\u001b[0;34m,\u001b[0m \u001b[0mpost_01\u001b[0m\u001b[0;34m)\u001b[0m\u001b[0;34m\u001b[0m\u001b[0;34m\u001b[0m\u001b[0m\n\u001b[0m\u001b[1;32m     17\u001b[0m     \u001b[0minsert_post\u001b[0m\u001b[0;34m(\u001b[0m\u001b[0mtitle_02\u001b[0m\u001b[0;34m,\u001b[0m \u001b[0mpost_02\u001b[0m\u001b[0;34m)\u001b[0m\u001b[0;34m\u001b[0m\u001b[0;34m\u001b[0m\u001b[0m\n\u001b[1;32m     18\u001b[0m \u001b[0;34m\u001b[0m\u001b[0m\n",
      "\u001b[0;32m/tmp/ipykernel_7113/500638230.py\u001b[0m in \u001b[0;36minsert_post\u001b[0;34m(title, body)\u001b[0m\n\u001b[1;32m     32\u001b[0m \u001b[0;34m\u001b[0m\u001b[0m\n\u001b[1;32m     33\u001b[0m     \u001b[0mtime\u001b[0m\u001b[0;34m.\u001b[0m\u001b[0msleep\u001b[0m\u001b[0;34m(\u001b[0m\u001b[0;36m5\u001b[0m\u001b[0;34m)\u001b[0m\u001b[0;34m\u001b[0m\u001b[0;34m\u001b[0m\u001b[0m\n\u001b[0;32m---> 34\u001b[0;31m     \u001b[0mdriver\u001b[0m\u001b[0;34m.\u001b[0m\u001b[0mexecute_script\u001b[0m\u001b[0;34m(\u001b[0m\u001b[0;34m\"document.querySelector('#activity_feed_submit').click()\"\u001b[0m\u001b[0;34m)\u001b[0m\u001b[0;34m\u001b[0m\u001b[0;34m\u001b[0m\u001b[0m\n\u001b[0m\u001b[1;32m     35\u001b[0m     \u001b[0mtime\u001b[0m\u001b[0;34m.\u001b[0m\u001b[0msleep\u001b[0m\u001b[0;34m(\u001b[0m\u001b[0;36m5\u001b[0m\u001b[0;34m)\u001b[0m\u001b[0;34m\u001b[0m\u001b[0;34m\u001b[0m\u001b[0m\n\u001b[1;32m     36\u001b[0m     \u001b[0mdriver\u001b[0m\u001b[0;34m.\u001b[0m\u001b[0mget\u001b[0m\u001b[0;34m(\u001b[0m\u001b[0mBASE_URL\u001b[0m\u001b[0;34m)\u001b[0m\u001b[0;34m\u001b[0m\u001b[0;34m\u001b[0m\u001b[0m\n",
      "\u001b[0;32m~/anaconda3/lib/python3.9/site-packages/selenium/webdriver/remote/webdriver.py\u001b[0m in \u001b[0;36mexecute_script\u001b[0;34m(self, script, *args)\u001b[0m\n\u001b[1;32m    498\u001b[0m         \u001b[0mcommand\u001b[0m \u001b[0;34m=\u001b[0m \u001b[0mCommand\u001b[0m\u001b[0;34m.\u001b[0m\u001b[0mW3C_EXECUTE_SCRIPT\u001b[0m\u001b[0;34m\u001b[0m\u001b[0;34m\u001b[0m\u001b[0m\n\u001b[1;32m    499\u001b[0m \u001b[0;34m\u001b[0m\u001b[0m\n\u001b[0;32m--> 500\u001b[0;31m         \u001b[0;32mreturn\u001b[0m \u001b[0mself\u001b[0m\u001b[0;34m.\u001b[0m\u001b[0mexecute\u001b[0m\u001b[0;34m(\u001b[0m\u001b[0mcommand\u001b[0m\u001b[0;34m,\u001b[0m \u001b[0;34m{\u001b[0m\u001b[0;34m\"script\"\u001b[0m\u001b[0;34m:\u001b[0m \u001b[0mscript\u001b[0m\u001b[0;34m,\u001b[0m \u001b[0;34m\"args\"\u001b[0m\u001b[0;34m:\u001b[0m \u001b[0mconverted_args\u001b[0m\u001b[0;34m}\u001b[0m\u001b[0;34m)\u001b[0m\u001b[0;34m[\u001b[0m\u001b[0;34m\"value\"\u001b[0m\u001b[0;34m]\u001b[0m\u001b[0;34m\u001b[0m\u001b[0;34m\u001b[0m\u001b[0m\n\u001b[0m\u001b[1;32m    501\u001b[0m \u001b[0;34m\u001b[0m\u001b[0m\n\u001b[1;32m    502\u001b[0m     \u001b[0;32mdef\u001b[0m \u001b[0mexecute_async_script\u001b[0m\u001b[0;34m(\u001b[0m\u001b[0mself\u001b[0m\u001b[0;34m,\u001b[0m \u001b[0mscript\u001b[0m\u001b[0;34m:\u001b[0m \u001b[0mstr\u001b[0m\u001b[0;34m,\u001b[0m \u001b[0;34m*\u001b[0m\u001b[0margs\u001b[0m\u001b[0;34m)\u001b[0m\u001b[0;34m:\u001b[0m\u001b[0;34m\u001b[0m\u001b[0;34m\u001b[0m\u001b[0m\n",
      "\u001b[0;32m~/anaconda3/lib/python3.9/site-packages/selenium/webdriver/remote/webdriver.py\u001b[0m in \u001b[0;36mexecute\u001b[0;34m(self, driver_command, params)\u001b[0m\n\u001b[1;32m    438\u001b[0m         \u001b[0mresponse\u001b[0m \u001b[0;34m=\u001b[0m \u001b[0mself\u001b[0m\u001b[0;34m.\u001b[0m\u001b[0mcommand_executor\u001b[0m\u001b[0;34m.\u001b[0m\u001b[0mexecute\u001b[0m\u001b[0;34m(\u001b[0m\u001b[0mdriver_command\u001b[0m\u001b[0;34m,\u001b[0m \u001b[0mparams\u001b[0m\u001b[0;34m)\u001b[0m\u001b[0;34m\u001b[0m\u001b[0;34m\u001b[0m\u001b[0m\n\u001b[1;32m    439\u001b[0m         \u001b[0;32mif\u001b[0m \u001b[0mresponse\u001b[0m\u001b[0;34m:\u001b[0m\u001b[0;34m\u001b[0m\u001b[0;34m\u001b[0m\u001b[0m\n\u001b[0;32m--> 440\u001b[0;31m             \u001b[0mself\u001b[0m\u001b[0;34m.\u001b[0m\u001b[0merror_handler\u001b[0m\u001b[0;34m.\u001b[0m\u001b[0mcheck_response\u001b[0m\u001b[0;34m(\u001b[0m\u001b[0mresponse\u001b[0m\u001b[0;34m)\u001b[0m\u001b[0;34m\u001b[0m\u001b[0;34m\u001b[0m\u001b[0m\n\u001b[0m\u001b[1;32m    441\u001b[0m             \u001b[0mresponse\u001b[0m\u001b[0;34m[\u001b[0m\u001b[0;34m\"value\"\u001b[0m\u001b[0;34m]\u001b[0m \u001b[0;34m=\u001b[0m \u001b[0mself\u001b[0m\u001b[0;34m.\u001b[0m\u001b[0m_unwrap_value\u001b[0m\u001b[0;34m(\u001b[0m\u001b[0mresponse\u001b[0m\u001b[0;34m.\u001b[0m\u001b[0mget\u001b[0m\u001b[0;34m(\u001b[0m\u001b[0;34m\"value\"\u001b[0m\u001b[0;34m,\u001b[0m \u001b[0;32mNone\u001b[0m\u001b[0;34m)\u001b[0m\u001b[0;34m)\u001b[0m\u001b[0;34m\u001b[0m\u001b[0;34m\u001b[0m\u001b[0m\n\u001b[1;32m    442\u001b[0m             \u001b[0;32mreturn\u001b[0m \u001b[0mresponse\u001b[0m\u001b[0;34m\u001b[0m\u001b[0;34m\u001b[0m\u001b[0m\n",
      "\u001b[0;32m~/anaconda3/lib/python3.9/site-packages/selenium/webdriver/remote/errorhandler.py\u001b[0m in \u001b[0;36mcheck_response\u001b[0;34m(self, response)\u001b[0m\n\u001b[1;32m    243\u001b[0m                 \u001b[0malert_text\u001b[0m \u001b[0;34m=\u001b[0m \u001b[0mvalue\u001b[0m\u001b[0;34m[\u001b[0m\u001b[0;34m\"alert\"\u001b[0m\u001b[0;34m]\u001b[0m\u001b[0;34m.\u001b[0m\u001b[0mget\u001b[0m\u001b[0;34m(\u001b[0m\u001b[0;34m\"text\"\u001b[0m\u001b[0;34m)\u001b[0m\u001b[0;34m\u001b[0m\u001b[0;34m\u001b[0m\u001b[0m\n\u001b[1;32m    244\u001b[0m             \u001b[0;32mraise\u001b[0m \u001b[0mexception_class\u001b[0m\u001b[0;34m(\u001b[0m\u001b[0mmessage\u001b[0m\u001b[0;34m,\u001b[0m \u001b[0mscreen\u001b[0m\u001b[0;34m,\u001b[0m \u001b[0mstacktrace\u001b[0m\u001b[0;34m,\u001b[0m \u001b[0malert_text\u001b[0m\u001b[0;34m)\u001b[0m  \u001b[0;31m# type: ignore[call-arg]  # mypy is not smart enough here\u001b[0m\u001b[0;34m\u001b[0m\u001b[0;34m\u001b[0m\u001b[0m\n\u001b[0;32m--> 245\u001b[0;31m         \u001b[0;32mraise\u001b[0m \u001b[0mexception_class\u001b[0m\u001b[0;34m(\u001b[0m\u001b[0mmessage\u001b[0m\u001b[0;34m,\u001b[0m \u001b[0mscreen\u001b[0m\u001b[0;34m,\u001b[0m \u001b[0mstacktrace\u001b[0m\u001b[0;34m)\u001b[0m\u001b[0;34m\u001b[0m\u001b[0;34m\u001b[0m\u001b[0m\n\u001b[0m",
      "\u001b[0;31mJavascriptException\u001b[0m: Message: javascript error: Cannot read properties of null (reading 'click')\n  (Session info: headless chrome=116.0.5845.187)\nStacktrace:\n#0 0x5589b8ccabf3 <unknown>\n#1 0x5589b8a056a7 <unknown>\n#2 0x5589b8a09bce <unknown>\n#3 0x5589b8a0b709 <unknown>\n#4 0x5589b8a7c6ef <unknown>\n#5 0x5589b8a63c22 <unknown>\n#6 0x5589b8a7bd9c <unknown>\n#7 0x5589b8a639f3 <unknown>\n#8 0x5589b8a37c32 <unknown>\n#9 0x5589b8a389de <unknown>\n#10 0x5589b8c8f82d <unknown>\n#11 0x5589b8c940a7 <unknown>\n#12 0x5589b8c9d4e8 <unknown>\n#13 0x5589b8c94ae0 <unknown>\n#14 0x5589b8c6580e <unknown>\n#15 0x5589b8cb5568 <unknown>\n#16 0x5589b8cb575a <unknown>\n#17 0x5589b8cc420a <unknown>\n#18 0x7f525adf6b43 <unknown>\n"
     ]
    }
   ],
   "source": [
    "driver = create_driver()\n",
    "driver.get(BASE_URL)\n",
    "driver.find_element(By.ID, \"login\").send_keys(USERNAME)\n",
    "driver.find_element(By.ID, \"password\").send_keys(PASSWORD)\n",
    "driver.find_element(By.ID, \"loginbtn\").click()\n",
    "\n",
    "for index in range(350,len(DT)):\n",
    "    post = DT.iloc[index]\n",
    "    \n",
    "    title_01 = re.sub(url_pattern, '', f\"{post['title']} - بخش اول\") \n",
    "    title_02 = re.sub(url_pattern, '', f\"{post['title']} - بخش دوم\") \n",
    "    \n",
    "    post_01 = '\\n'.join(post['body'].split('\\n')[:len(post['body'].split('\\n'))//2])\n",
    "    post_02 = '\\n'.join(post['body'].split('\\n')[len(post['body'].split('\\n'))//2:])\n",
    "    \n",
    "    insert_post(title_01, post_01)\n",
    "    insert_post(title_02, post_02)\n",
    "    \n",
    "    print('post '+str(index)+' inserted ...')\n",
    "\n"
   ]
  },
  {
   "cell_type": "code",
   "execution_count": 10,
   "id": "18d7ea30",
   "metadata": {},
   "outputs": [],
   "source": [
    "DT = pd.read_csv('./contents/cyper_01.csv')"
   ]
  },
  {
   "cell_type": "code",
   "execution_count": null,
   "id": "dc9e8498",
   "metadata": {},
   "outputs": [],
   "source": []
  }
 ],
 "metadata": {
  "kernelspec": {
   "display_name": "Python 3 (ipykernel)",
   "language": "python",
   "name": "python3"
  },
  "language_info": {
   "codemirror_mode": {
    "name": "ipython",
    "version": 3
   },
   "file_extension": ".py",
   "mimetype": "text/x-python",
   "name": "python",
   "nbconvert_exporter": "python",
   "pygments_lexer": "ipython3",
   "version": "3.9.13"
  }
 },
 "nbformat": 4,
 "nbformat_minor": 5
}
