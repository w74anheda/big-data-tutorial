{
 "cells": [
  {
   "cell_type": "code",
   "execution_count": 1,
   "id": "35049672",
   "metadata": {},
   "outputs": [],
   "source": [
    "from selenium import webdriver\n",
    "from selenium.webdriver.common.by import By\n",
    "from selenium.webdriver.support.ui import WebDriverWait\n",
    "import time\n",
    "from selenium.webdriver.chrome.options import Options\n",
    "import pandas as pd\n",
    "import re\n",
    "url_pattern = r'https?://\\S+|www\\.\\S+'"
   ]
  },
  {
   "cell_type": "code",
   "execution_count": 12,
   "id": "681a5902",
   "metadata": {},
   "outputs": [],
   "source": [
    "BASE_URL = 'https://cyberpolice.gov.ir'\n",
    "CATEGORY = f'{BASE_URL}/media_knowledge/c?cat=43'\n",
    "CATEGORY = 'https://cyberpolice.gov.ir/media_knowledge/c?q=views/ajax&title=&cat=All&created=&created_1=&page=0'"
   ]
  },
  {
   "cell_type": "code",
   "execution_count": 3,
   "id": "b10c442b",
   "metadata": {},
   "outputs": [],
   "source": [
    "def create_driver(headless = True):\n",
    "    options = Options()\n",
    "    options.headless = headless\n",
    "    options.add_argument('ignore-certificate-errors')\n",
    "    options.add_argument(\"--start-maximized\")\n",
    "    prefs = {\"profile.default_content_setting_values.notifications\" : 2}\n",
    "    options.add_experimental_option(\"prefs\",prefs)\n",
    "    return webdriver.Chrome(\"/usr/bin/chromedriver\", options=options)"
   ]
  },
  {
   "cell_type": "code",
   "execution_count": 4,
   "id": "c9c57dfa",
   "metadata": {},
   "outputs": [],
   "source": [
    "def get_post_content(href):\n",
    "    global driver\n",
    "    driver.execute_script(\"window.open();\")\n",
    "    driver.switch_to.window(driver.window_handles[1]) \n",
    "    driver.get(href)\n",
    "    data = driver.execute_script(\"\"\"\n",
    "    return document.querySelector(\".row.bs-1col-stacked.node\").innerText;\"\"\")\n",
    "    driver.close()\n",
    "    return data"
   ]
  },
  {
   "cell_type": "code",
   "execution_count": 5,
   "id": "d86b4ac7",
   "metadata": {},
   "outputs": [],
   "source": [
    "def get_posts(url,contents=[],i=1):\n",
    "    global driver\n",
    "    print('page_'+str(i))\n",
    "    base_window = driver.current_window_handle\n",
    "\n",
    "    driver.get(url)\n",
    "    posts = driver.execute_script(\"\"\"\n",
    "    return Array.from(document.querySelectorAll(\".view-content h2>a\")).map(\n",
    "            item=>item.getAttribute('href')\n",
    "        ) \n",
    "            \"\"\")\n",
    "    next_page = driver.execute_script(\"\"\"return document.querySelector('a[rel=\"next\"]')\"\"\")\n",
    "\n",
    "    posts = list(map(lambda post:f'{BASE_URL}/{post}',posts))\n",
    "    for post in posts:\n",
    "        _ = get_post_content(post)\n",
    "        DT.loc[len(DT.index)] = _\n",
    "        contents.append(_)\n",
    "        driver.switch_to.window(base_window)\n",
    "      \n",
    "    if next_page:\n",
    "        i+=1\n",
    "        url = next_page.get_attribute(\"href\")\n",
    "        get_posts(url,contents,i)    \n",
    "    return contents"
   ]
  },
  {
   "cell_type": "code",
   "execution_count": null,
   "id": "3dd8bdfb",
   "metadata": {
    "scrolled": false
   },
   "outputs": [
    {
     "name": "stderr",
     "output_type": "stream",
     "text": [
      "/tmp/ipykernel_11122/4278637175.py:3: DeprecationWarning: headless property is deprecated, instead use add_argument('--headless') or add_argument('--headless=new')\n",
      "  options.headless = headless\n",
      "/tmp/ipykernel_11122/4278637175.py:8: DeprecationWarning: executable_path has been deprecated, please pass in a Service object\n",
      "  return webdriver.Chrome(\"/usr/bin/chromedriver\", options=options)\n"
     ]
    },
    {
     "name": "stdout",
     "output_type": "stream",
     "text": [
      "page_1\n",
      "page_2\n",
      "page_3\n",
      "page_4\n",
      "page_5\n"
     ]
    }
   ],
   "source": [
    "DT = pd.DataFrame(columns=['body'])\n",
    "driver = create_driver(False)\n",
    "\n",
    "driver.get(CATEGORY)\n",
    "\n",
    "# base_window = driver.current_window_handle\n",
    "\n",
    "# driver.switch_to.window(base_window)\n",
    "get_posts(CATEGORY,[])  \n",
    "DT    \n",
    "driver.close()"
   ]
  },
  {
   "cell_type": "code",
   "execution_count": 50,
   "id": "b8909234",
   "metadata": {},
   "outputs": [],
   "source": []
  },
  {
   "cell_type": "code",
   "execution_count": 12,
   "id": "79578e8a",
   "metadata": {},
   "outputs": [],
   "source": [
    "# DT.to_csv('./contents/cyper_02.csv')"
   ]
  },
  {
   "cell_type": "markdown",
   "id": "aa9ace00",
   "metadata": {},
   "source": [
    "# Insert Posts"
   ]
  },
  {
   "cell_type": "code",
   "execution_count": 6,
   "id": "d1a5991a",
   "metadata": {},
   "outputs": [],
   "source": [
    "BASE_URL = 'http://saha.moi.ir/'\n",
    "\n",
    "\n",
    "USERNAME = '1270609726'\n",
    "PASSWORD = '093678900450'\n",
    "\n",
    "USERNAME = '1741995108'\n",
    "PASSWORD = '4NpzuFqdEyCDv6T'"
   ]
  },
  {
   "cell_type": "code",
   "execution_count": 7,
   "id": "cc9b3147",
   "metadata": {},
   "outputs": [],
   "source": [
    "def insert_post(title,body):\n",
    "    \n",
    "   \n",
    "    # select post tab\n",
    "    driver.find_element(By.CSS_SELECTOR, \"\"\"\n",
    "    #js_main_feed_holder > div.activity_feed_form_share > ul > li:nth-child(4) > a\n",
    "    \"\"\").click()\n",
    "    time.sleep(2)\n",
    "   \n",
    "    # select label\n",
    "    driver.execute_script(\"\"\"\n",
    "    document.querySelector(\"#feed_new_add_labels_box\").innerHTML = `<input type=\"text\" id=\"feed_labels_inline_search\" readonly=\"\" autocomplete=\"off\" placeholder=\"*حوزه فعالیت مرتبط با پست...\" spmhbindable=\"\">\n",
    "    <ul id=\"feed_labels_inline_search_result\">\n",
    "\n",
    "    </ul>\n",
    "    <div id=\"feed_new_add_labels_selected\"><div id=\"new_feed_labels_selected_item_113\" class=\"new_feed_label_item_glob_cls\"><label>شناخت و آسیب شناسی در حوزه پدافند غیر عامل</label><div onclick=\"removeFeedSelectedLabel(113)\">x</div></div></div>\n",
    "    <div id=\"feed_new_add_labels_selected_val\"><input type=\"hidden\" id=\"feed_labels_selected_hide_item_113\" name=\"feedLabels[]\" value=\"113\"></div>`\"\"\")\n",
    "    \n",
    "    # select keywords\n",
    "    driver.execute_script(\"\"\"\n",
    "    document.querySelector(\"#feed_new_add_keywords_box\").innerHTML = `<input type=\"text\" id=\"feed_keywords_inline_search\" autocomplete=\"off\" placeholder=\"انتخاب کلمه کلیدی...\" spmhbindable=\"\"><button onclick=\"$.ajaxCall('feed.addFeedKeyWord', ('kw='+$('#feed_keywords_inline_search').val())+prepareKeywordParams()); return false;\">+ افزودن</button>\n",
    "    <ul id=\"feed_keywords_inline_search_result\"></ul>\n",
    "    <div id=\"feed_new_add_keywords_selected\"><div class=\"new_feed_keyword_item_glob_cls\" id=\"new_feed_keywords_selected_item_2060\"><div>پدافند سایبری</div><div onclick=\"removeFeedSelectedKeyWord(2060)\">x</div></div><div class=\"new_feed_keyword_item_glob_cls\" id=\"new_feed_keywords_selected_item_2059\"><div>امنیت سایبری</div><div onclick=\"removeFeedSelectedKeyWord(2059)\">x</div></div><div class=\"new_feed_keyword_item_glob_cls\" id=\"new_feed_keywords_selected_item_912\"><div>جنگ سایبری</div><div onclick=\"removeFeedSelectedKeyWord(912)\">x</div></div></div>\n",
    "    <div id=\"feed_new_add_keywords_selected_val\"><input type=\"hidden\" name=\"feedKeywords[]\" value=\"2060\" id=\"feed_keywords_selected_hide_item_2060\"><input type=\"hidden\" name=\"feedKeywords[]\" value=\"2059\" id=\"feed_keywords_selected_hide_item_2059\"><input type=\"hidden\" name=\"feedKeywords[]\" value=\"912\" id=\"feed_keywords_selected_hide_item_912\"></div>`\"\"\")\n",
    "    \n",
    "    \n",
    "    driver.execute_script(\"\"\"\n",
    "        titleINPUT = document.querySelector('input[name=\"val[blog_title]\"]')\n",
    "        titleINPUT.parentElement.click()\n",
    "        titleINPUT.value = arguments[0]\n",
    "        titleINPUT.parentElement.click()\n",
    "        \n",
    "        textareaINPUT = document.querySelector('textarea[name=\"val[status_info]\"]')\n",
    "        textareaINPUT.parentElement.click()\n",
    "        textareaINPUT.value = arguments[1]\n",
    "        textareaINPUT.click()\n",
    "    \n",
    "        \n",
    "        \n",
    "    \"\"\",title,body)\n",
    "#     document.querySelector('#activity_feed_submit').click()\n",
    "    driver.find_element(By.CSS_SELECTOR, \"\"\"\n",
    "        input[name=\"val[blog_title]\"]\n",
    "    \"\"\").send_keys(' ')\n",
    "    driver.find_element(By.CSS_SELECTOR, \"\"\"\n",
    "    .activity_feed_form_button_position_button\n",
    "    \"\"\").click()\n",
    "    time.sleep(10)\n",
    "#     driver.execute_script(\"document.querySelector('#activity_feed_submit').click()\")\n",
    "#     driver.execute_script(\"document.querySelector('#activity_feed_submit').click()\")\n",
    "#     driver.execute_script(f\"\"\"document.querySelector('#activity_feed_textarea_status_info').value = ``\"\"\")\n",
    "#     driver.find_element(By.CSS_SELECTOR, \"#activity_feed_textarea_status_info\").send_keys(body)\n",
    "\n",
    "    \n",
    "#     driver.execute_script(\"document.querySelector('#activity_feed_submit').click()\")\n",
    "#     time.sleep(5)\n",
    "    driver.get(BASE_URL)"
   ]
  },
  {
   "cell_type": "code",
   "execution_count": 8,
   "id": "18d7ea30",
   "metadata": {},
   "outputs": [],
   "source": [
    "DT = pd.read_csv('./contents/cyper_02.csv')\n",
    "DT['title'] = DT['body'].str.split('\\n').str[0]"
   ]
  },
  {
   "cell_type": "code",
   "execution_count": 9,
   "id": "235cee31",
   "metadata": {},
   "outputs": [
    {
     "data": {
      "text/plain": [
       "123"
      ]
     },
     "execution_count": 9,
     "metadata": {},
     "output_type": "execute_result"
    }
   ],
   "source": [
    "len(DT)"
   ]
  },
  {
   "cell_type": "code",
   "execution_count": null,
   "id": "3899318f",
   "metadata": {},
   "outputs": [],
   "source": []
  },
  {
   "cell_type": "code",
   "execution_count": 11,
   "id": "01cbad2f",
   "metadata": {},
   "outputs": [
    {
     "name": "stderr",
     "output_type": "stream",
     "text": [
      "/tmp/ipykernel_11122/4278637175.py:3: DeprecationWarning: headless property is deprecated, instead use add_argument('--headless') or add_argument('--headless=new')\n",
      "  options.headless = headless\n",
      "/tmp/ipykernel_11122/4278637175.py:8: DeprecationWarning: executable_path has been deprecated, please pass in a Service object\n",
      "  return webdriver.Chrome(\"/usr/bin/chromedriver\", options=options)\n"
     ]
    },
    {
     "name": "stdout",
     "output_type": "stream",
     "text": [
      "post 100 inserted ...\n",
      "post 101 inserted ...\n",
      "post 102 inserted ...\n",
      "post 103 inserted ...\n",
      "post 104 inserted ...\n",
      "post 105 inserted ...\n",
      "post 106 inserted ...\n",
      "post 107 inserted ...\n",
      "post 108 inserted ...\n",
      "post 109 inserted ...\n",
      "post 110 inserted ...\n",
      "post 111 inserted ...\n",
      "post 112 inserted ...\n",
      "post 113 inserted ...\n",
      "post 114 inserted ...\n"
     ]
    }
   ],
   "source": [
    "driver = create_driver(False)\n",
    "driver.maximize_window()\n",
    "\n",
    "driver.get(BASE_URL)\n",
    "driver.find_element(By.ID, \"login\").send_keys(USERNAME)\n",
    "driver.find_element(By.ID, \"password\").send_keys(PASSWORD)\n",
    "driver.find_element(By.ID, \"loginbtn\").click()\n",
    "\n",
    "for index in range(100,115):\n",
    "    post = DT.iloc[index]\n",
    "    \n",
    "    title_01 = re.sub(url_pattern, '', f\"{post['title']} - بخش اول\") \n",
    "    title_02 = re.sub(url_pattern, '', f\"{post['title']} - بخش دوم\") \n",
    "    \n",
    "    post_01 = '\\n'.join(post['body'].split('\\n')[:len(post['body'].split('\\n'))//2])\n",
    "    post_02 = '\\n'.join(post['body'].split('\\n')[len(post['body'].split('\\n'))//2:])\n",
    "    \n",
    "    insert_post(title_01, post_01)\n",
    "    insert_post(title_02, post_02)\n",
    "    \n",
    "    print('post '+str(index)+' inserted ...')\n",
    "\n",
    "driver.close()"
   ]
  },
  {
   "cell_type": "code",
   "execution_count": null,
   "id": "b2ee4e9a",
   "metadata": {},
   "outputs": [],
   "source": []
  },
  {
   "cell_type": "code",
   "execution_count": null,
   "id": "e5d04149",
   "metadata": {},
   "outputs": [],
   "source": []
  },
  {
   "cell_type": "code",
   "execution_count": null,
   "id": "89070d57",
   "metadata": {},
   "outputs": [],
   "source": []
  },
  {
   "cell_type": "code",
   "execution_count": null,
   "id": "eb576d24",
   "metadata": {},
   "outputs": [],
   "source": []
  },
  {
   "cell_type": "code",
   "execution_count": null,
   "id": "ff1e0ffc",
   "metadata": {},
   "outputs": [],
   "source": []
  }
 ],
 "metadata": {
  "kernelspec": {
   "display_name": "Python 3 (ipykernel)",
   "language": "python",
   "name": "python3"
  },
  "language_info": {
   "codemirror_mode": {
    "name": "ipython",
    "version": 3
   },
   "file_extension": ".py",
   "mimetype": "text/x-python",
   "name": "python",
   "nbconvert_exporter": "python",
   "pygments_lexer": "ipython3",
   "version": "3.9.13"
  }
 },
 "nbformat": 4,
 "nbformat_minor": 5
}
