{
 "cells": [
  {
   "cell_type": "code",
   "execution_count": 9,
   "id": "59ba2928",
   "metadata": {},
   "outputs": [
    {
     "name": "stdout",
     "output_type": "stream",
     "text": [
      "New file created\n",
      "File opened\n"
     ]
    }
   ],
   "source": [
    "import turtle\n",
    "import tkinter as tk\n",
    "from pynput.keyboard import Key, Listener\n",
    "\n",
    "def new_file():\n",
    "    print('New file created')\n",
    "\n",
    "def open_file():\n",
    "    print('File opened')\n",
    "    \n",
    "    \n",
    "# create a root window\n",
    "root = tk.Tk()\n",
    "root.title('Menu Demo')\n",
    "\n",
    "# create a menu bar\n",
    "menubar = tk.Menu(root)\n",
    "root.config(menu=menubar)\n",
    "\n",
    "# create a file menu\n",
    "filemenu = tk.Menu(menubar, tearoff=0)\n",
    "menubar.add_cascade(label='File', menu=filemenu)\n",
    "\n",
    "# add menu items to the file menu\n",
    "filemenu.add_command(label='New', command=new_file)\n",
    "filemenu.add_command(label='Open', command=open_file)\n",
    "filemenu.add_separator()\n",
    "\n",
    "root.mainloop()\n"
   ]
  },
  {
   "cell_type": "code",
   "execution_count": 3,
   "id": "b90e5812",
   "metadata": {},
   "outputs": [],
   "source": [
    "def show(key):\n",
    " \n",
    "    if key == Key.esc:\n",
    "        root.bye()\n",
    "        root.done()\n",
    "        return False\n",
    "with Listener(on_press = show) as listener:  \n",
    "    listener.join()"
   ]
  },
  {
   "cell_type": "code",
   "execution_count": 4,
   "id": "192157c3",
   "metadata": {},
   "outputs": [],
   "source": []
  },
  {
   "cell_type": "code",
   "execution_count": null,
   "id": "423b41a3",
   "metadata": {},
   "outputs": [],
   "source": []
  },
  {
   "cell_type": "code",
   "execution_count": null,
   "id": "1520bb7d",
   "metadata": {},
   "outputs": [],
   "source": []
  }
 ],
 "metadata": {
  "kernelspec": {
   "display_name": "Python 3 (ipykernel)",
   "language": "python",
   "name": "python3"
  },
  "language_info": {
   "codemirror_mode": {
    "name": "ipython",
    "version": 3
   },
   "file_extension": ".py",
   "mimetype": "text/x-python",
   "name": "python",
   "nbconvert_exporter": "python",
   "pygments_lexer": "ipython3",
   "version": "3.9.13"
  }
 },
 "nbformat": 4,
 "nbformat_minor": 5
}
