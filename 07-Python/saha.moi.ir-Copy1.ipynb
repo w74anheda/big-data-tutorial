{
 "cells": [
  {
   "cell_type": "code",
   "execution_count": 1,
   "id": "ac1be93a",
   "metadata": {},
   "outputs": [],
   "source": [
    "from selenium import webdriver\n",
    "from selenium.webdriver.common.by import By\n",
    "from selenium.webdriver.support.ui import WebDriverWait\n",
    "import time\n",
    "import random\n",
    "from selenium.webdriver.chrome.options import Options"
   ]
  },
  {
   "cell_type": "code",
   "execution_count": 2,
   "id": "02d3c41e",
   "metadata": {},
   "outputs": [],
   "source": [
    "BASE_URL = 'http://saha.moi.ir/'\n",
    "USERNAME = '1741995108'\n",
    "PASSWORD = '4NpzuFqdEyCDv6T'\n",
    "\n",
    "# USERNAME = '1270609726'\n",
    "# PASSWORD = '093678900450'"
   ]
  },
  {
   "cell_type": "code",
   "execution_count": 3,
   "id": "013bed4b",
   "metadata": {},
   "outputs": [],
   "source": [
    "def random_comment():\n",
    "    random_comments = [\n",
    "    'درود',\n",
    "    'سپاس',\n",
    "    'متشکرم',\n",
    "    'خداقوت',\n",
    "    '✔️',\n",
    "    '🙏🏻',\n",
    "    '🙏🏻🙏🏻',\n",
    "    '🙏🏻🙏🏻🙏🏻',\n",
    "    '✅️',\n",
    "    '👍🏻',\n",
    "    '👍🏻👍🏻',\n",
    "    '👍🏻👍🏻👍🏻',\n",
    "    'تشکر',\n",
    "    'درود بر شما',\n",
    "    'ممنون',\n",
    "    '👌',\n",
    "     'تشکر از ارائه مطالب ارزنده شما'\n",
    "]\n",
    "    _ = ''\n",
    "    current = ''\n",
    "    for j in range(random.choice([1,2])):\n",
    "        current = random.choice(random_comments)\n",
    "        _+= f' {current}'\n",
    "    return _"
   ]
  },
  {
   "cell_type": "code",
   "execution_count": 4,
   "id": "c23e9f62",
   "metadata": {},
   "outputs": [],
   "source": [
    "def create_driver(headless = True):\n",
    "    options = Options()\n",
    "    options.headless = headless\n",
    "    options.add_argument('ignore-certificate-errors')\n",
    "    prefs = {\"profile.default_content_setting_values.notifications\" : 2}\n",
    "    options.add_experimental_option(\"prefs\",prefs)\n",
    "    return webdriver.Chrome(\"/usr/bin/chromedriver\", options=options)"
   ]
  },
  {
   "cell_type": "code",
   "execution_count": 5,
   "id": "0a24618b",
   "metadata": {},
   "outputs": [],
   "source": [
    "def data_load():\n",
    "    last_height = driver.execute_script(\"return document.body.scrollHeight\")\n",
    "\n",
    "    while True:\n",
    "        driver.execute_script(\"window.scrollTo(0, document.body.scrollHeight);\")\n",
    "\n",
    "        time.sleep(10)\n",
    "\n",
    "        new_height = driver.execute_script(\"return document.body.scrollHeight\")\n",
    "\n",
    "        if new_height == last_height:\n",
    "            break\n",
    "        last_height = new_height "
   ]
  },
  {
   "cell_type": "code",
   "execution_count": 6,
   "id": "934fe67e",
   "metadata": {},
   "outputs": [],
   "source": [
    "def search(ID, posts):\n",
    "    return [element for element in posts if element['id'] == ID]"
   ]
  },
  {
   "cell_type": "code",
   "execution_count": 11,
   "id": "be3f523a",
   "metadata": {},
   "outputs": [],
   "source": [
    "def like_post_comments(post):\n",
    "    try:\n",
    "        global base_window;\n",
    "        global driver\n",
    "        global like_count\n",
    "        driver.execute_script(\"window.open();\")\n",
    "        driver.switch_to.window(driver.window_handles[1]) \n",
    "        driver.get(post['href'])\n",
    "\n",
    "\n",
    "        tumbs = driver.find_elements(By.CLASS_NAME,\"js_like_link_like\")\n",
    "        for tumb in tumbs:\n",
    "            try:\n",
    "                unlike = tumb.find_element(\n",
    "                By.XPATH, \"following-sibling::*[1]\"\n",
    "                    ).get_attribute('style')\n",
    "                if unlike == 'display: none;':\n",
    "                    tumb.click()\n",
    "            except Exception:\n",
    "                continue\n",
    "        like_count +=1\n",
    "        print(f'like_{like_count}...')\n",
    "        driver.close()\n",
    "        driver.switch_to.window(base_window)\n",
    "    except Exception:\n",
    "        pass"
   ]
  },
  {
   "cell_type": "code",
   "execution_count": 12,
   "id": "b7ddb21b",
   "metadata": {},
   "outputs": [],
   "source": [
    "\n",
    "def collect_post():\n",
    "    try:\n",
    "        global posts\n",
    "        global old_count\n",
    "        global new_count\n",
    "        print(f'post count: {len(posts)}') \n",
    "        old_count = len(posts)\n",
    "        new = driver.find_elements(By.CLASS_NAME, \"js_feed_view_more_entry_holder\")\n",
    "        for post in new:\n",
    "            if len(search(post.get_attribute('id'),posts)) == 0 :\n",
    "                posts.append({\n",
    "                    \"id\": post.get_attribute('id'),\n",
    "                    \"element\" : post,\n",
    "                    \"href\" : post.find_element(\n",
    "                        By.CLASS_NAME,'feed_permalink'\n",
    "                        ).get_attribute('href'),\n",
    "                    \"done\" : False\n",
    "                })\n",
    "                like_post_comments(posts[-1])\n",
    "                posts[-1]['done'] = True\n",
    "        new_count = len(posts)\n",
    "\n",
    "        if old_count == new_count:\n",
    "            driver.find_element(By.CSS_SELECTOR, \"#feed_view_more > a\").click()\n",
    "            time.sleep(5)\n",
    "            collect_post() \n",
    "        data_load()\n",
    "        collect_post() \n",
    "    except Exception:\n",
    "        pass\n",
    "    \n",
    "    "
   ]
  },
  {
   "cell_type": "code",
   "execution_count": null,
   "id": "6ff47f0c",
   "metadata": {
    "scrolled": true
   },
   "outputs": [
    {
     "name": "stderr",
     "output_type": "stream",
     "text": [
      "/tmp/ipykernel_38300/414314512.py:3: DeprecationWarning: headless property is deprecated, instead use add_argument('--headless') or add_argument('--headless=new')\n",
      "  options.headless = headless\n",
      "/tmp/ipykernel_38300/414314512.py:7: DeprecationWarning: executable_path has been deprecated, please pass in a Service object\n",
      "  return webdriver.Chrome(\"/usr/bin/chromedriver\", options=options)\n"
     ]
    },
    {
     "name": "stdout",
     "output_type": "stream",
     "text": [
      "post count: 0\n",
      "like_1...\n",
      "like_2...\n",
      "like_3...\n",
      "like_4...\n",
      "like_5...\n",
      "like_6...\n",
      "like_7...\n",
      "like_8...\n",
      "like_9...\n",
      "like_10...\n",
      "like_11...\n",
      "like_12...\n",
      "like_13...\n",
      "like_14...\n",
      "like_15...\n",
      "like_16...\n",
      "like_17...\n",
      "like_18...\n",
      "like_19...\n",
      "like_20...\n",
      "post count: 20\n",
      "like_21...\n",
      "like_22...\n",
      "like_23...\n",
      "like_24...\n",
      "like_25...\n",
      "like_26...\n",
      "like_27...\n",
      "like_28...\n",
      "like_29...\n",
      "like_30...\n",
      "like_31...\n",
      "like_32...\n",
      "like_33...\n",
      "like_34...\n",
      "like_35...\n",
      "like_36...\n",
      "like_37...\n",
      "like_38...\n"
     ]
    }
   ],
   "source": [
    "driver = create_driver(True)\n",
    "driver.get(BASE_URL)\n",
    "driver.find_element(By.ID, \"login\").send_keys(USERNAME)\n",
    "driver.find_element(By.ID, \"password\").send_keys(PASSWORD)\n",
    "driver.find_element(By.ID, \"loginbtn\").click()\n",
    "time.sleep(5)\n",
    "base_window = driver.current_window_handle\n",
    "\n",
    "like_count = 0\n",
    "old_count = 0\n",
    "new_count = 0\n",
    "posts = []\n",
    "collect_post()\n"
   ]
  },
  {
   "cell_type": "code",
   "execution_count": null,
   "id": "fdc1c631",
   "metadata": {},
   "outputs": [],
   "source": []
  },
  {
   "cell_type": "code",
   "execution_count": null,
   "id": "c3dc7d27",
   "metadata": {},
   "outputs": [],
   "source": []
  },
  {
   "cell_type": "code",
   "execution_count": null,
   "id": "cefbe760",
   "metadata": {},
   "outputs": [],
   "source": []
  },
  {
   "cell_type": "code",
   "execution_count": null,
   "id": "114cd9d9",
   "metadata": {},
   "outputs": [],
   "source": []
  },
  {
   "cell_type": "code",
   "execution_count": null,
   "id": "593962a8",
   "metadata": {},
   "outputs": [],
   "source": []
  }
 ],
 "metadata": {
  "kernelspec": {
   "display_name": "Python 3 (ipykernel)",
   "language": "python",
   "name": "python3"
  },
  "language_info": {
   "codemirror_mode": {
    "name": "ipython",
    "version": 3
   },
   "file_extension": ".py",
   "mimetype": "text/x-python",
   "name": "python",
   "nbconvert_exporter": "python",
   "pygments_lexer": "ipython3",
   "version": "3.9.13"
  }
 },
 "nbformat": 4,
 "nbformat_minor": 5
}
