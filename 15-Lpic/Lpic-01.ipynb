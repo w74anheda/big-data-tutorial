{
 "cells": [
  {
   "cell_type": "markdown",
   "id": "21c33b6c",
   "metadata": {},
   "source": [
    "```shell\n",
    "\n",
    "    book ===> https://linux1st.com/\n",
    "    \n",
    "    /boot => fat - UEFI\n",
    "    /sys  => kernel psudo files\n",
    "    /dev  => psudo - device manager\n",
    "    /proc => psudo filesystem for process\n",
    "    \n",
    "    \n",
    "    \n",
    "    /lib64 - /usr/lib => shared libery\n",
    "    tree\n",
    "    export => return envirement variable\n",
    "    \n",
    "\n",
    "    \n",
    "    Apt:\n",
    "    \n",
    "     - cat /etc/apt/sources.list \n",
    "     - apt download vlc\n",
    "     - apt-get install -f => check breaked install and install\n",
    "     \n",
    "     \n",
    "    Bash:\n",
    "     - echo $SHELL\n",
    "     - type ping \n",
    "     - pwd => current path\n",
    "     - ~ - $HOME => point to home\n",
    "     - man command => help\n",
    "     - NAME=masoud => echo $NAME\n",
    "     - export NAME\n",
    "     \n",
    "     \n",
    "   48 => 00:00  \n",
    "```"
   ]
  },
  {
   "cell_type": "code",
   "execution_count": null,
   "id": "9338ffd3",
   "metadata": {},
   "outputs": [],
   "source": []
  },
  {
   "cell_type": "code",
   "execution_count": null,
   "id": "f8a43099",
   "metadata": {},
   "outputs": [],
   "source": []
  },
  {
   "cell_type": "code",
   "execution_count": null,
   "id": "ddb13bc7",
   "metadata": {},
   "outputs": [],
   "source": []
  },
  {
   "cell_type": "code",
   "execution_count": null,
   "id": "70143a4f",
   "metadata": {},
   "outputs": [],
   "source": []
  }
 ],
 "metadata": {
  "kernelspec": {
   "display_name": "Python 3 (ipykernel)",
   "language": "python",
   "name": "python3"
  },
  "language_info": {
   "codemirror_mode": {
    "name": "ipython",
    "version": 3
   },
   "file_extension": ".py",
   "mimetype": "text/x-python",
   "name": "python",
   "nbconvert_exporter": "python",
   "pygments_lexer": "ipython3",
   "version": "3.11.5"
  }
 },
 "nbformat": 4,
 "nbformat_minor": 5
}
