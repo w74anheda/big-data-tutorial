{
 "cells": [
  {
   "cell_type": "markdown",
   "id": "8d18fc9f",
   "metadata": {},
   "source": [
    "# HTTP (Hyper Text Transfer Protocol)\n",
    "<img src=\"./img/1.png\" />\n",
    "<img src=\"./img/2.png\" />\n",
    "\n",
    "### IP  (Internet Protocol)\n",
    "### DNS  (Domain Name Server)\n",
    "<img src=\"./img/3.png\" />\n",
    "\n",
    "37:49"
   ]
  }
 ],
 "metadata": {
  "kernelspec": {
   "display_name": "Python 3 (ipykernel)",
   "language": "python",
   "name": "python3"
  },
  "language_info": {
   "codemirror_mode": {
    "name": "ipython",
    "version": 3
   },
   "file_extension": ".py",
   "mimetype": "text/x-python",
   "name": "python",
   "nbconvert_exporter": "python",
   "pygments_lexer": "ipython3",
   "version": "3.9.13"
  }
 },
 "nbformat": 4,
 "nbformat_minor": 5
}
